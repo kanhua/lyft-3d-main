{
 "cells": [
  {
   "cell_type": "code",
   "execution_count": 25,
   "metadata": {},
   "outputs": [
    {
     "name": "stdout",
     "output_type": "stream",
     "text": [
      "The autoreload extension is already loaded. To reload it, use:\n",
      "  %reload_ext autoreload\n"
     ]
    }
   ],
   "source": [
    "%load_ext autoreload\n",
    "%autoreload 2"
   ]
  },
  {
   "cell_type": "code",
   "execution_count": 26,
   "metadata": {},
   "outputs": [],
   "source": [
    "import matplotlib.pyplot as plt\n",
    "from skimage.io import imread\n",
    "import numpy as np\n",
    "\n",
    "from prepare_lyft_data import extract_single_box, \\\n",
    "    parse_train_csv, level5data, extract_boxed_clouds, \\\n",
    "    get_sample_images, get_train_data_sample_token_and_box, \\\n",
    "    get_pc_in_image_fov, get_bounding_box_corners, \\\n",
    "    get_2d_corners_from_projected_box_coordinates, transform_image_to_world_coordinate,\\\n",
    "transform_world_to_image_coordinate,extract_other_sensor_token,transform_box_from_world_to_sensor_coordinates\n",
    "from lyft_dataset_sdk.utils.data_classes import LidarPointCloud,Quaternion\n",
    "from lyft_dataset_sdk.utils.geometry_utils import points_in_box"
   ]
  },
  {
   "cell_type": "code",
   "execution_count": 27,
   "metadata": {},
   "outputs": [
    {
     "name": "stderr",
     "output_type": "stream",
     "text": [
      "100%|██████████| 22680/22680 [00:02<00:00, 9371.07it/s] \n"
     ]
    }
   ],
   "source": [
    "\n",
    "train_df = parse_train_csv()\n",
    "sample_token, bounding_box = get_train_data_sample_token_and_box(0, train_df)\n",
    "\n",
    "first_train_sample = level5data.get('sample', sample_token)\n",
    "\n",
    "lidar_data_token = first_train_sample['data']['LIDAR_TOP']\n",
    "\n",
    "mask, lpc_array_in_cam_coord, filtered_pc_2d, _, image = get_pc_in_image_fov(lidar_data_token, 'CAM_FRONT', bounding_box)\n",
    "\n"
   ]
  },
  {
   "cell_type": "code",
   "execution_count": 28,
   "metadata": {},
   "outputs": [
    {
     "data": {
      "text/plain": [
       "<matplotlib.collections.PathCollection at 0x17d09c240>"
      ]
     },
     "execution_count": 28,
     "metadata": {},
     "output_type": "execute_result"
    },
    {
     "data": {
      "image/png": "[encoded data removed]",
      "text/plain": [
       "<Figure size 432x288 with 1 Axes>"
      ]
     },
     "metadata": {
      "needs_background": "light"
     },
     "output_type": "display_data"
    }
   ],
   "source": [
    "plt.scatter(lpc_array_in_cam_coord[0,:],lpc_array_in_cam_coord[2,:],s=0.2)"
   ]
  },
  {
   "cell_type": "code",
   "execution_count": 29,
   "metadata": {},
   "outputs": [],
   "source": [
    "camera_token = extract_other_sensor_token('CAM_FRONT', lidar_data_token)\n",
    "bounding_box_sensor_coord = transform_box_from_world_to_sensor_coordinates(bounding_box, camera_token)"
   ]
  },
  {
   "cell_type": "code",
   "execution_count": 30,
   "metadata": {},
   "outputs": [
    {
     "data": {
      "text/plain": [
       "(3, 8)"
      ]
     },
     "execution_count": 30,
     "metadata": {},
     "output_type": "execute_result"
    }
   ],
   "source": [
    "box_corners_array=bounding_box_sensor_coord.corners()\n",
    "box_corners_array.shape"
   ]
  },
  {
   "cell_type": "markdown",
   "metadata": {},
   "source": [
    "### Plot the bird view in camera coordinates (xz axis)"
   ]
  },
  {
   "cell_type": "code",
   "execution_count": 31,
   "metadata": {},
   "outputs": [
    {
     "data": {
      "text/plain": [
       "Text(0, 0.5, 'z-axis')"
      ]
     },
     "execution_count": 31,
     "metadata": {},
     "output_type": "execute_result"
    },
    {
     "data": {
      "image/png": "[encoded data removed]",
      "text/plain": [
       "<Figure size 432x288 with 1 Axes>"
      ]
     },
     "metadata": {
      "needs_background": "light"
     },
     "output_type": "display_data"
    }
   ],
   "source": [
    "fig,ax=plt.subplots(ncols=1,nrows=1)\n",
    "projection_mtx=np.array([[1,0,0],[0,0,1],[0,0,0]])\n",
    "bounding_box_sensor_coord.render(axis=ax,view=projection_mtx)\n",
    "ax.scatter(lpc_array_in_cam_coord[0,:],lpc_array_in_cam_coord[2,:],s=0.2)\n",
    "ax.set_xlim([-25,15])\n",
    "ax.set_ylim([0,30])\n",
    "ax.set_xlabel(\"x-axis\")\n",
    "ax.set_ylabel(\"z-axis\")"
   ]
  },
  {
   "cell_type": "markdown",
   "metadata": {},
   "source": [
    "### Plot the bird view in camera coordinates (zx axis)"
   ]
  },
  {
   "cell_type": "code",
   "execution_count": 17,
   "metadata": {},
   "outputs": [
    {
     "data": {
      "text/plain": [
       "Text(0, 0.5, 'x-axis')"
      ]
     },
     "execution_count": 17,
     "metadata": {},
     "output_type": "execute_result"
    },
    {
     "data": {
      "image/png": "[encoded data removed]",
      "text/plain": [
       "<Figure size 432x288 with 1 Axes>"
      ]
     },
     "metadata": {
      "needs_background": "light"
     },
     "output_type": "display_data"
    }
   ],
   "source": [
    "fig,ax=plt.subplots(ncols=1,nrows=1)\n",
    "projection_mtx=np.array([[0,0,1],[1,0,0],[0,0,0]])\n",
    "bounding_box_sensor_coord.render(axis=ax,view=projection_mtx)\n",
    "ax.scatter(lpc_array_in_cam_coord[2,:],lpc_array_in_cam_coord[0,:],s=0.2)\n",
    "ax.set_ylim([-25,15])\n",
    "ax.set_xlim([0,30])\n",
    "ax.set_xlabel(\"x-axis\")\n",
    "ax.set_ylabel(\"z-axis\")"
   ]
  },
  {
   "cell_type": "code",
   "execution_count": 21,
   "metadata": {},
   "outputs": [],
   "source": [
    "box_corners=bounding_box_sensor_coord.corners()\n",
    "v=box_corners[:,0]-box_corners[:,4]"
   ]
  },
  {
   "cell_type": "code",
   "execution_count": 24,
   "metadata": {},
   "outputs": [
    {
     "data": {
      "text/plain": [
       "-91.13259667466177"
      ]
     },
     "execution_count": 24,
     "metadata": {},
     "output_type": "execute_result"
    }
   ],
   "source": [
    "np.arctan2(-v[2],v[0])*180/np.pi"
   ]
  },
  {
   "cell_type": "code",
   "execution_count": 20,
   "metadata": {},
   "outputs": [
    {
     "data": {
      "text/plain": [
       "(3, 8)"
      ]
     },
     "execution_count": 20,
     "metadata": {},
     "output_type": "execute_result"
    }
   ],
   "source": [
    "box_corners.shape"
   ]
  },
  {
   "cell_type": "markdown",
   "metadata": {},
   "source": [
    "## Check points in box"
   ]
  },
  {
   "cell_type": "code",
   "execution_count": null,
   "metadata": {},
   "outputs": [],
   "source": [
    "type(lpc_array_in_cam_coord)"
   ]
  },
  {
   "cell_type": "code",
   "execution_count": null,
   "metadata": {},
   "outputs": [],
   "source": [
    "points_in_box(bounding_box_sensor_coord,lpc_array_in_cam_coord[0:3,:])"
   ]
  },
  {
   "cell_type": "markdown",
   "metadata": {},
   "source": [
    "### Another way of doing this (code from Frustum pointnets)"
   ]
  },
  {
   "cell_type": "markdown",
   "metadata": {},
   "source": [
    "def in_hull(p, hull):\n",
    "    from scipy.spatial import Delaunay\n",
    "    if not isinstance(hull, Delaunay):\n",
    "        hull = Delaunay(hull)\n",
    "    return hull.find_simplex(p) >= 0\n",
    "\n",
    "\n",
    "def extract_pc_in_box3d(pc, box3d):\n",
    "    ''' pc: (N,3), box3d: (8,3) '''\n",
    "    box3d_roi_inds = in_hull(pc[:, 0:3], box3d)\n",
    "    return pc[box3d_roi_inds, :], box3d_roi_inds"
   ]
  },
  {
   "cell_type": "code",
   "execution_count": null,
   "metadata": {},
   "outputs": [],
   "source": [
    "def in_hull(p, hull):\n",
    "    from scipy.spatial import Delaunay\n",
    "    if not isinstance(hull, Delaunay):\n",
    "        hull = Delaunay(hull)\n",
    "    return hull.find_simplex(p) >= 0\n",
    "\n",
    "\n",
    "def extract_pc_in_box3d(input_pc, input_box3d):\n",
    "    \"\"\"\n",
    "    The code and in_hull functions are copied from frustum-point on\n",
    "    https://github.com/charlesq34/frustum-pointnets\n",
    "\n",
    "    :param pc: 3XN array\n",
    "    :param box3d: 3x8 array\n",
    "    :return:\n",
    "    \"\"\"\n",
    "\n",
    "    assert input_box3d.shape == (3, 8)\n",
    "    assert input_pc.shape[0] == 3\n",
    "    pc = np.transpose(input_pc)\n",
    "    box3d = np.transpose(input_box3d)\n",
    "\n",
    "    box3d_roi_inds = in_hull(pc[:, 0:3], box3d)\n",
    "    return pc[box3d_roi_inds, :], box3d_roi_inds"
   ]
  },
  {
   "cell_type": "code",
   "execution_count": null,
   "metadata": {},
   "outputs": [],
   "source": [
    "bounding_box_sensor_coord.corners().T.shape"
   ]
  },
  {
   "cell_type": "code",
   "execution_count": null,
   "metadata": {},
   "outputs": [],
   "source": [
    "lpc_array_in_cam_coord[0:3,:].T.shape"
   ]
  },
  {
   "cell_type": "code",
   "execution_count": null,
   "metadata": {},
   "outputs": [],
   "source": [
    "pcs,inds=extract_pc_in_box3d(lpc_array_in_cam_coord[0:3,:],bounding_box_sensor_coord.corners())"
   ]
  },
  {
   "cell_type": "code",
   "execution_count": null,
   "metadata": {},
   "outputs": [],
   "source": [
    "pcs.shape"
   ]
  },
  {
   "cell_type": "code",
   "execution_count": null,
   "metadata": {},
   "outputs": [],
   "source": [
    "inds"
   ]
  },
  {
   "cell_type": "code",
   "execution_count": null,
   "metadata": {},
   "outputs": [],
   "source": [
    "np.sum(inds)"
   ]
  },
  {
   "cell_type": "code",
   "execution_count": null,
   "metadata": {},
   "outputs": [],
   "source": [
    "def plot_cam_top_view(lpc_array_in_cam_coord,bounding_box_sensor_coord):\n",
    "    fig,ax=plt.subplots(ncols=1,nrows=1)\n",
    "    projection_mtx=np.array([[1,0,0],[0,0,1],[0,0,0]])\n",
    "    bounding_box_sensor_coord.render(axis=ax,view=projection_mtx)\n",
    "    ax.scatter(lpc_array_in_cam_coord[0,inds],lpc_array_in_cam_coord[2,inds])\n",
    "    ax.set_xlim([-25,15])\n",
    "    ax.set_ylim([0,30])"
   ]
  },
  {
   "cell_type": "code",
   "execution_count": null,
   "metadata": {},
   "outputs": [],
   "source": [
    "plot_cam_top_view(lpc_array_in_cam_coord,bounding_box_sensor_coord)"
   ]
  },
  {
   "cell_type": "code",
   "execution_count": null,
   "metadata": {},
   "outputs": [],
   "source": [
    "fig, ax = plt.subplots(1, 1)\n",
    "ax.imshow(image)\n",
    "print(filtered_pc_2d.shape)\n",
    "ax.plot(filtered_pc_2d[0, :], filtered_pc_2d[1, :], '.')\n",
    "plt.show()"
   ]
  },
  {
   "cell_type": "code",
   "execution_count": null,
   "metadata": {},
   "outputs": [],
   "source": []
  }
 ],
 "metadata": {
  "kernelspec": {
   "display_name": "Python 3",
   "language": "python",
   "name": "python3"
  },
  "language_info": {
   "codemirror_mode": {
    "name": "ipython",
    "version": 3
   },
   "file_extension": ".py",
   "mimetype": "text/x-python",
   "name": "python",
   "nbconvert_exporter": "python",
   "pygments_lexer": "ipython3",
   "version": "3.7.3"
  }
 },
 "nbformat": 4,
 "nbformat_minor": 2
}
