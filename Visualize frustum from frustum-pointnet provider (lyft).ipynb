{
 "cells": [
  {
   "cell_type": "code",
   "execution_count": 1,
   "metadata": {},
   "outputs": [],
   "source": [
    "%load_ext autoreload\n",
    "%autoreload 2"
   ]
  },
  {
   "cell_type": "code",
   "execution_count": 2,
   "metadata": {},
   "outputs": [
    {
     "name": "stderr",
     "output_type": "stream",
     "text": [
      "/Users/kanhua/miniconda3/envs/lyft-3d/lib/python3.7/site-packages/tensorflow/python/framework/dtypes.py:526: FutureWarning: Passing (type, 1) or '1type' as a synonym of type is deprecated; in a future version of numpy, it will be understood as (type, (1,)) / '(1,)type'.\n",
      "  _np_qint8 = np.dtype([(\"qint8\", np.int8, 1)])\n",
      "/Users/kanhua/miniconda3/envs/lyft-3d/lib/python3.7/site-packages/tensorflow/python/framework/dtypes.py:527: FutureWarning: Passing (type, 1) or '1type' as a synonym of type is deprecated; in a future version of numpy, it will be understood as (type, (1,)) / '(1,)type'.\n",
      "  _np_quint8 = np.dtype([(\"quint8\", np.uint8, 1)])\n",
      "/Users/kanhua/miniconda3/envs/lyft-3d/lib/python3.7/site-packages/tensorflow/python/framework/dtypes.py:528: FutureWarning: Passing (type, 1) or '1type' as a synonym of type is deprecated; in a future version of numpy, it will be understood as (type, (1,)) / '(1,)type'.\n",
      "  _np_qint16 = np.dtype([(\"qint16\", np.int16, 1)])\n",
      "/Users/kanhua/miniconda3/envs/lyft-3d/lib/python3.7/site-packages/tensorflow/python/framework/dtypes.py:529: FutureWarning: Passing (type, 1) or '1type' as a synonym of type is deprecated; in a future version of numpy, it will be understood as (type, (1,)) / '(1,)type'.\n",
      "  _np_quint16 = np.dtype([(\"quint16\", np.uint16, 1)])\n",
      "/Users/kanhua/miniconda3/envs/lyft-3d/lib/python3.7/site-packages/tensorflow/python/framework/dtypes.py:530: FutureWarning: Passing (type, 1) or '1type' as a synonym of type is deprecated; in a future version of numpy, it will be understood as (type, (1,)) / '(1,)type'.\n",
      "  _np_qint32 = np.dtype([(\"qint32\", np.int32, 1)])\n",
      "/Users/kanhua/miniconda3/envs/lyft-3d/lib/python3.7/site-packages/tensorflow/python/framework/dtypes.py:535: FutureWarning: Passing (type, 1) or '1type' as a synonym of type is deprecated; in a future version of numpy, it will be understood as (type, (1,)) / '(1,)type'.\n",
      "  np_resource = np.dtype([(\"resource\", np.ubyte, 1)])\n",
      "usage: ipykernel_launcher.py [-h] [--data_path DATA_PATH]\n",
      "                             [--artifact_path ARTIFACT_PATH]\n",
      "ipykernel_launcher.py: error: unrecognized arguments: -f /Users/kanhua/Library/Jupyter/runtime/kernel-af8c1d63-6c06-4fbe-8ef0-3293197f9170.json\n"
     ]
    },
    {
     "ename": "SystemExit",
     "evalue": "2",
     "output_type": "error",
     "traceback": [
      "An exception has occurred, use %tb to see the full traceback.\n",
      "\u001b[0;31mSystemExit\u001b[0m\u001b[0;31m:\u001b[0m 2\n"
     ]
    },
    {
     "name": "stderr",
     "output_type": "stream",
     "text": [
      "/Users/kanhua/miniconda3/envs/lyft-3d/lib/python3.7/site-packages/IPython/core/interactiveshell.py:3334: UserWarning: To exit: use 'exit', 'quit', or Ctrl-D.\n",
      "  warn(\"To exit: use 'exit', 'quit', or Ctrl-D.\", stacklevel=1)\n"
     ]
    }
   ],
   "source": [
    "from mpl_toolkits.mplot3d import Axes3D\n",
    "import matplotlib.pyplot as plt\n",
    "from skimage.io import imread\n",
    "import numpy as np\n",
    "\n",
    "from prepare_lyft_data import extract_single_box, \\\n",
    "    parse_train_csv, level5data, extract_boxed_clouds, \\\n",
    "    get_sample_images, get_train_data_sample_token_and_box, \\\n",
    "    get_pc_in_image_fov, transform_bounding_box_to_sensor_coord_and_get_corners, \\\n",
    "    get_2d_corners_from_projected_box_coordinates, transform_image_to_world_coordinate,\\\n",
    "transform_world_to_image_coordinate,extract_other_sensor_token,\\\n",
    "transform_box_from_world_to_sensor_coordinates,get_box_yaw_angle_in_world_coords,get_sensor_to_world_transform_matrix\n",
    "from lyft_dataset_sdk.utils.data_classes import LidarPointCloud,Quaternion,Box\n",
    "from lyft_dataset_sdk.utils.geometry_utils import points_in_box,transform_matrix"
   ]
  },
  {
   "cell_type": "code",
   "execution_count": 105,
   "metadata": {},
   "outputs": [
    {
     "name": "stderr",
     "output_type": "stream",
     "text": [
      "usage: ipykernel_launcher.py [-h] [--data_path DATA_PATH]\n",
      "                             [--artifact_path ARTIFACT_PATH]\n",
      "ipykernel_launcher.py: error: unrecognized arguments: -f /Users/kanhua/Library/Jupyter/runtime/kernel-af8c1d63-6c06-4fbe-8ef0-3293197f9170.json\n"
     ]
    },
    {
     "ename": "SystemExit",
     "evalue": "2",
     "output_type": "error",
     "traceback": [
      "An exception has occurred, use %tb to see the full traceback.\n",
      "\u001b[0;31mSystemExit\u001b[0m\u001b[0;31m:\u001b[0m 2\n"
     ]
    }
   ],
   "source": [
    "\n",
    "from parse_pointnet_output import rotate_pc_along_y,get_heading_angle,get_size,get_center_in_sensor_coord"
   ]
  },
  {
   "cell_type": "code",
   "execution_count": 106,
   "metadata": {},
   "outputs": [],
   "source": [
    "from provider import FrustumDataset"
   ]
  },
  {
   "cell_type": "code",
   "execution_count": 107,
   "metadata": {},
   "outputs": [],
   "source": [
    "lyft_data_file=\"/Users/kanhua/Dropbox/Programming/lyft-3d-main/artifact/lyft_val.pickle\"\n",
    "kitti_data_file=\"/Users/kanhua/Downloads/frustum-pointnets/kitti/frustum_carpedcyc_val.pickle\"\n",
    "NUM_POINT=1024"
   ]
  },
  {
   "cell_type": "code",
   "execution_count": 108,
   "metadata": {},
   "outputs": [],
   "source": [
    "dataset=FrustumDataset(npoints=NUM_POINT,split='val',\n",
    "                       from_rgb_detection=False,\n",
    "                    overwritten_data_path=lyft_data_file,one_hot=True,rotate_to_center=True)"
   ]
  },
  {
   "cell_type": "code",
   "execution_count": 109,
   "metadata": {},
   "outputs": [
    {
     "data": {
      "text/plain": [
       "(array([[ 2.1362759e-01,  1.3365035e+00,  2.5910990e+01,  2.0000000e-01],\n",
       "        [-2.3306778e-01,  1.2980223e+00,  2.0034061e+01,  2.0000000e-01],\n",
       "        [-6.2499371e+00,  3.5091722e+00,  1.8836690e+02,  2.0000000e-01],\n",
       "        ...,\n",
       "        [ 3.8718879e-01,  7.4819475e-01,  9.9725676e+00,  2.0000000e-01],\n",
       "        [ 1.9048738e-01,  6.4742339e-01,  2.6181988e+01,  2.0000000e-01],\n",
       "        [ 1.7592777e-01,  1.7152271e+00,  2.5810581e+01,  2.0000000e-01]],\n",
       "       dtype=float32),\n",
       " array([ True, False, False, ..., False,  True,  True]),\n",
       " array([ 0.0817595 ,  1.35748782, 27.71142014]),\n",
       " 9,\n",
       " 0.12832227093216186,\n",
       " 0,\n",
       " array([0.0198836 , 0.1694326 , 0.19636809]),\n",
       " -0.13009332397769513,\n",
       " array([1., 0., 0.]))"
      ]
     },
     "execution_count": 109,
     "metadata": {},
     "output_type": "execute_result"
    }
   ],
   "source": [
    "dataset[1]"
   ]
  },
  {
   "cell_type": "code",
   "execution_count": 110,
   "metadata": {},
   "outputs": [],
   "source": [
    "a=dataset[1]"
   ]
  },
  {
   "cell_type": "code",
   "execution_count": 111,
   "metadata": {},
   "outputs": [
    {
     "data": {
      "text/plain": [
       "9"
      ]
     },
     "execution_count": 111,
     "metadata": {},
     "output_type": "execute_result"
    }
   ],
   "source": [
    "len(a)"
   ]
  },
  {
   "cell_type": "code",
   "execution_count": 112,
   "metadata": {},
   "outputs": [
    {
     "data": {
      "text/plain": [
       "list"
      ]
     },
     "execution_count": 112,
     "metadata": {},
     "output_type": "execute_result"
    }
   ],
   "source": [
    "type(dataset.input_list)"
   ]
  },
  {
   "cell_type": "code",
   "execution_count": 113,
   "metadata": {},
   "outputs": [],
   "source": [
    "pointset=a[0]\n",
    "seg=a[1]\n",
    "box3d_center=a[2]\n",
    "rot_angle=a[7]"
   ]
  },
  {
   "cell_type": "code",
   "execution_count": 114,
   "metadata": {},
   "outputs": [
    {
     "data": {
      "text/plain": [
       "array([ 0.0817595 ,  1.35748782, 27.71142014])"
      ]
     },
     "execution_count": 114,
     "metadata": {},
     "output_type": "execute_result"
    }
   ],
   "source": [
    "box3d_center"
   ]
  },
  {
   "cell_type": "code",
   "execution_count": 115,
   "metadata": {},
   "outputs": [
    {
     "data": {
      "text/plain": [
       "-0.13009332397769513"
      ]
     },
     "execution_count": 115,
     "metadata": {},
     "output_type": "execute_result"
    }
   ],
   "source": [
    "rot_angle"
   ]
  },
  {
   "cell_type": "code",
   "execution_count": 116,
   "metadata": {},
   "outputs": [],
   "source": [
    "def rad2deg(radius):\n",
    "    return radius*180/np.pi"
   ]
  },
  {
   "cell_type": "code",
   "execution_count": 117,
   "metadata": {},
   "outputs": [
    {
     "data": {
      "text/plain": [
       "-7.453798406750006"
      ]
     },
     "execution_count": 117,
     "metadata": {},
     "output_type": "execute_result"
    }
   ],
   "source": [
    "rad2deg(rot_angle)"
   ]
  },
  {
   "cell_type": "code",
   "execution_count": 118,
   "metadata": {},
   "outputs": [],
   "source": [
    "seg=seg.astype(bool)"
   ]
  },
  {
   "cell_type": "code",
   "execution_count": 119,
   "metadata": {},
   "outputs": [],
   "source": [
    "pointset_before_transformation=dataset.input_list[1]"
   ]
  },
  {
   "cell_type": "code",
   "execution_count": 120,
   "metadata": {},
   "outputs": [
    {
     "data": {
      "text/plain": [
       "[<matplotlib.lines.Line2D at 0x13af42908>]"
      ]
     },
     "execution_count": 120,
     "metadata": {},
     "output_type": "execute_result"
    },
    {
     "data": {
      "image/png": "[encoded data removed]",
      "text/plain": [
       "<Figure size 432x288 with 1 Axes>"
      ]
     },
     "metadata": {
      "needs_background": "light"
     },
     "output_type": "display_data"
    }
   ],
   "source": [
    "plt.plot(pointset[:,0],pointset[:,2],'.')\n",
    "plt.plot(pointset_before_transformation[:,0],pointset_before_transformation[:,2],'.')\n",
    "#plt.plot(pointset[seg,0],pointset[seg,2],'.')\n",
    "plt.plot(box3d_center[0],box3d_center[2],'.',markersize=10)"
   ]
  },
  {
   "cell_type": "code",
   "execution_count": 121,
   "metadata": {},
   "outputs": [
    {
     "data": {
      "text/plain": [
       "[<matplotlib.lines.Line2D at 0x13cea57b8>]"
      ]
     },
     "execution_count": 121,
     "metadata": {},
     "output_type": "execute_result"
    },
    {
     "data": {
      "image/png": "[encoded data removed]",
      "text/plain": [
       "<Figure size 432x288 with 1 Axes>"
      ]
     },
     "metadata": {
      "needs_background": "light"
     },
     "output_type": "display_data"
    }
   ],
   "source": [
    "plt.plot(pointset_before_transformation[:,0],pointset_before_transformation[:,2],'.')"
   ]
  },
  {
   "cell_type": "code",
   "execution_count": 122,
   "metadata": {},
   "outputs": [
    {
     "data": {
      "text/plain": [
       "<mpl_toolkits.mplot3d.art3d.Path3DCollection at 0x13f37cb70>"
      ]
     },
     "execution_count": 122,
     "metadata": {},
     "output_type": "execute_result"
    },
    {
     "data": {
      "image/png": "[encoded data removed]",
      "text/plain": [
       "<Figure size 432x288 with 1 Axes>"
      ]
     },
     "metadata": {
      "needs_background": "light"
     },
     "output_type": "display_data"
    }
   ],
   "source": [
    "sel_pointset=pointset[seg,:]\n",
    "fig = plt.figure()\n",
    "ax = fig.add_subplot(111, projection='3d')\n",
    "#ax.scatter(pointset[:,0], pointset[:,2], pointset[:,1])\n",
    "ax.scatter(sel_pointset[:,0],sel_pointset[:,2],sel_pointset[:,1])"
   ]
  },
  {
   "cell_type": "markdown",
   "metadata": {},
   "source": [
    "## See inference results"
   ]
  },
  {
   "cell_type": "code",
   "execution_count": 123,
   "metadata": {},
   "outputs": [],
   "source": [
    "from path_setting import MODEL_PATH_1\n",
    "\n",
    "import tensorflow as tf\n",
    "import importlib\n",
    "from train_util import get_batch\n",
    "from model_util import NUM_HEADING_BIN, NUM_SIZE_CLUSTER\n",
    "# Set training configurations\n",
    "BATCH_SIZE = 32\n",
    "MODEL_PATH = MODEL_PATH_1 \n",
    "GPU_INDEX = 0\n",
    "MODEL = importlib.import_module(\"frustum_pointnets_v1\")\n",
    "NUM_CLASSES = 2\n",
    "NUM_CHANNEL = 4"
   ]
  },
  {
   "cell_type": "code",
   "execution_count": 124,
   "metadata": {},
   "outputs": [],
   "source": [
    "# functions excerpted from frustum-pointnet test.py\n",
    "def get_session_and_ops(batch_size, num_point):\n",
    "    ''' Define model graph, load model parameters,\n",
    "    create session and return session handle and tensors\n",
    "    '''\n",
    "    with tf.Graph().as_default():\n",
    "        with tf.device('/gpu:' + str(GPU_INDEX)):\n",
    "            pointclouds_pl, one_hot_vec_pl, labels_pl, centers_pl, \\\n",
    "            heading_class_label_pl, heading_residual_label_pl, \\\n",
    "            size_class_label_pl, size_residual_label_pl = \\\n",
    "                MODEL.placeholder_inputs(batch_size, num_point)\n",
    "            is_training_pl = tf.placeholder(tf.bool, shape=())\n",
    "            end_points = MODEL.get_model(pointclouds_pl, one_hot_vec_pl,\n",
    "                                         is_training_pl)\n",
    "            loss = MODEL.get_loss(labels_pl, centers_pl,\n",
    "                                  heading_class_label_pl, heading_residual_label_pl,\n",
    "                                  size_class_label_pl, size_residual_label_pl, end_points)\n",
    "            saver = tf.train.Saver()\n",
    "\n",
    "        # Create a session\n",
    "        config = tf.ConfigProto()\n",
    "        config.gpu_options.allow_growth = True\n",
    "        config.allow_soft_placement = True\n",
    "        sess = tf.Session(config=config)\n",
    "\n",
    "        # Restore variables from disk.\n",
    "        saver.restore(sess, MODEL_PATH)\n",
    "        ops = {'pointclouds_pl': pointclouds_pl,\n",
    "               'one_hot_vec_pl': one_hot_vec_pl,\n",
    "               'labels_pl': labels_pl,\n",
    "               'centers_pl': centers_pl,\n",
    "               'heading_class_label_pl': heading_class_label_pl,\n",
    "               'heading_residual_label_pl': heading_residual_label_pl,\n",
    "               'size_class_label_pl': size_class_label_pl,\n",
    "               'size_residual_label_pl': size_residual_label_pl,\n",
    "               'is_training_pl': is_training_pl,\n",
    "               'logits': end_points['mask_logits'],\n",
    "               'center': end_points['center'],\n",
    "               'end_points': end_points,\n",
    "               'loss': loss}\n",
    "        return sess, ops\n",
    "def softmax(x):\n",
    "    ''' Numpy function for softmax'''\n",
    "    shape = x.shape\n",
    "    probs = np.exp(x - np.max(x, axis=len(shape) - 1, keepdims=True))\n",
    "    probs /= np.sum(probs, axis=len(shape) - 1, keepdims=True)\n",
    "    return probs\n",
    "\n",
    "\n",
    "def inference(sess, ops, pc, one_hot_vec, batch_size):\n",
    "    ''' Run inference for frustum pointnets in batch mode '''\n",
    "    assert pc.shape[0] % batch_size == 0\n",
    "    num_batches = int(pc.shape[0] / batch_size)\n",
    "    logits = np.zeros((pc.shape[0], pc.shape[1], NUM_CLASSES))\n",
    "    centers = np.zeros((pc.shape[0], 3))\n",
    "    heading_logits = np.zeros((pc.shape[0], NUM_HEADING_BIN))\n",
    "    heading_residuals = np.zeros((pc.shape[0], NUM_HEADING_BIN))\n",
    "    size_logits = np.zeros((pc.shape[0], NUM_SIZE_CLUSTER))\n",
    "    size_residuals = np.zeros((pc.shape[0], NUM_SIZE_CLUSTER, 3))\n",
    "    scores = np.zeros((pc.shape[0],))  # 3D box score\n",
    "\n",
    "    ep = ops['end_points']\n",
    "    for i in range(num_batches):\n",
    "        feed_dict = { \\\n",
    "            ops['pointclouds_pl']: pc[i * batch_size:(i + 1) * batch_size, ...],\n",
    "            ops['one_hot_vec_pl']: one_hot_vec[i * batch_size:(i + 1) * batch_size, :],\n",
    "            ops['is_training_pl']: False}\n",
    "\n",
    "        batch_logits, batch_centers, \\\n",
    "        batch_heading_scores, batch_heading_residuals, \\\n",
    "        batch_size_scores, batch_size_residuals = \\\n",
    "            sess.run([ops['logits'], ops['center'],\n",
    "                      ep['heading_scores'], ep['heading_residuals'],\n",
    "                      ep['size_scores'], ep['size_residuals']],\n",
    "                     feed_dict=feed_dict)\n",
    "\n",
    "        logits[i * batch_size:(i + 1) * batch_size, ...] = batch_logits\n",
    "        centers[i * batch_size:(i + 1) * batch_size, ...] = batch_centers\n",
    "        heading_logits[i * batch_size:(i + 1) * batch_size, ...] = batch_heading_scores\n",
    "        heading_residuals[i * batch_size:(i + 1) * batch_size, ...] = batch_heading_residuals\n",
    "        size_logits[i * batch_size:(i + 1) * batch_size, ...] = batch_size_scores\n",
    "        size_residuals[i * batch_size:(i + 1) * batch_size, ...] = batch_size_residuals\n",
    "\n",
    "        # Compute scores\n",
    "        batch_seg_prob = softmax(batch_logits)[:, :, 1]  # BxN\n",
    "        batch_seg_mask = np.argmax(batch_logits, 2)  # BxN\n",
    "        mask_mean_prob = np.sum(batch_seg_prob * batch_seg_mask, 1)  # B,\n",
    "        mask_mean_prob = mask_mean_prob / np.sum(batch_seg_mask, 1)  # B,\n",
    "        heading_prob = np.max(softmax(batch_heading_scores), 1)  # B\n",
    "        size_prob = np.max(softmax(batch_size_scores), 1)  # B,\n",
    "        batch_scores = np.log(mask_mean_prob) + np.log(heading_prob) + np.log(size_prob)\n",
    "        scores[i * batch_size:(i + 1) * batch_size] = batch_scores\n",
    "        # Finished computing scores\n",
    "\n",
    "    heading_cls = np.argmax(heading_logits, 1)  # B\n",
    "    size_cls = np.argmax(size_logits, 1)  # B\n",
    "    heading_res = np.array([heading_residuals[i, heading_cls[i]] \\\n",
    "                            for i in range(pc.shape[0])])\n",
    "    size_res = np.vstack([size_residuals[i, size_cls[i], :] \\\n",
    "                          for i in range(pc.shape[0])])\n",
    "\n",
    "    return np.argmax(logits, 2), centers, heading_cls, heading_res, \\\n",
    "           size_cls, size_res, scores"
   ]
  },
  {
   "cell_type": "code",
   "execution_count": 125,
   "metadata": {},
   "outputs": [
    {
     "name": "stdout",
     "output_type": "stream",
     "text": [
      "INFO:tensorflow:Summary name 3d mask loss is illegal; using 3d_mask_loss instead.\n",
      "INFO:tensorflow:Summary name center loss is illegal; using center_loss instead.\n",
      "INFO:tensorflow:Summary name stage1 center loss is illegal; using stage1_center_loss instead.\n",
      "INFO:tensorflow:Summary name heading class loss is illegal; using heading_class_loss instead.\n",
      "INFO:tensorflow:Summary name heading residual normalized loss is illegal; using heading_residual_normalized_loss instead.\n",
      "INFO:tensorflow:Summary name size class loss is illegal; using size_class_loss instead.\n",
      "INFO:tensorflow:Summary name size residual normalized loss is illegal; using size_residual_normalized_loss instead.\n",
      "INFO:tensorflow:Summary name corners loss is illegal; using corners_loss instead.\n",
      "INFO:tensorflow:Restoring parameters from ./log_v1/model.ckpt\n"
     ]
    }
   ],
   "source": [
    "sess, ops = get_session_and_ops(batch_size=BATCH_SIZE, num_point=NUM_POINT)"
   ]
  },
  {
   "cell_type": "code",
   "execution_count": 126,
   "metadata": {},
   "outputs": [
    {
     "name": "stdout",
     "output_type": "stream",
     "text": [
      "INFO:tensorflow:Summary name 3d mask loss is illegal; using 3d_mask_loss instead.\n",
      "INFO:tensorflow:Summary name center loss is illegal; using center_loss instead.\n",
      "INFO:tensorflow:Summary name stage1 center loss is illegal; using stage1_center_loss instead.\n",
      "INFO:tensorflow:Summary name heading class loss is illegal; using heading_class_loss instead.\n",
      "INFO:tensorflow:Summary name heading residual normalized loss is illegal; using heading_residual_normalized_loss instead.\n",
      "INFO:tensorflow:Summary name size class loss is illegal; using size_class_loss instead.\n",
      "INFO:tensorflow:Summary name size residual normalized loss is illegal; using size_residual_normalized_loss instead.\n",
      "INFO:tensorflow:Summary name corners loss is illegal; using corners_loss instead.\n",
      "INFO:tensorflow:Restoring parameters from ./log_v1/model.ckpt\n"
     ]
    },
    {
     "name": "stderr",
     "output_type": "stream",
     "text": [
      "/Users/kanhua/miniconda3/envs/lyft-3d/lib/python3.7/site-packages/ipykernel_launcher.py:88: RuntimeWarning: invalid value encountered in true_divide\n"
     ]
    },
    {
     "name": "stdout",
     "output_type": "stream",
     "text": [
      "Segmentation accuracy: 0.839310\n"
     ]
    }
   ],
   "source": [
    "result_dir=None\n",
    "TEST_DATASET=dataset\n",
    "\n",
    "## Proecedures of test()\n",
    "ps_list = []\n",
    "seg_list = []\n",
    "segp_list = []\n",
    "center_list = []\n",
    "heading_cls_list = []\n",
    "heading_res_list = []\n",
    "size_cls_list = []\n",
    "size_res_list = []\n",
    "rot_angle_list = []\n",
    "score_list = []\n",
    "\n",
    "test_idxs = np.arange(0, len(TEST_DATASET))\n",
    "batch_size = BATCH_SIZE\n",
    "num_batches = int(len(TEST_DATASET) / batch_size)\n",
    "assert ((len(TEST_DATASET) % int(batch_size)) == 0)\n",
    "\n",
    "sess, ops = get_session_and_ops(batch_size=batch_size, num_point=NUM_POINT)\n",
    "correct_cnt = 0\n",
    "for batch_idx in range(num_batches):\n",
    "    #print('batch idx: %d' % (batch_idx))\n",
    "    start_idx = batch_idx * batch_size\n",
    "    end_idx = (batch_idx + 1) * batch_size\n",
    "\n",
    "    batch_data, batch_label, batch_center, \\\n",
    "    batch_hclass, batch_hres, batch_sclass, batch_sres, \\\n",
    "    batch_rot_angle, batch_one_hot_vec = \\\n",
    "        get_batch(TEST_DATASET, test_idxs, start_idx, end_idx,\n",
    "                  NUM_POINT, NUM_CHANNEL)\n",
    "\n",
    "    batch_output, batch_center_pred, \\\n",
    "    batch_hclass_pred, batch_hres_pred, \\\n",
    "    batch_sclass_pred, batch_sres_pred, batch_scores = \\\n",
    "        inference(sess, ops, batch_data,\n",
    "                  batch_one_hot_vec, batch_size=batch_size)\n",
    "\n",
    "    correct_cnt += np.sum(batch_output == batch_label)\n",
    "\n",
    "    for i in range(batch_output.shape[0]):\n",
    "        ps_list.append(batch_data[i, ...])\n",
    "        seg_list.append(batch_label[i, ...])\n",
    "        segp_list.append(batch_output[i, ...])\n",
    "        center_list.append(batch_center_pred[i, :])\n",
    "        heading_cls_list.append(batch_hclass_pred[i])\n",
    "        heading_res_list.append(batch_hres_pred[i])\n",
    "        size_cls_list.append(batch_sclass_pred[i])\n",
    "        size_res_list.append(batch_sres_pred[i, :])\n",
    "        rot_angle_list.append(batch_rot_angle[i])\n",
    "        score_list.append(batch_scores[i])\n",
    "\n",
    "print(\"Segmentation accuracy: %f\" % \\\n",
    "      (correct_cnt / float(batch_size * num_batches * NUM_POINT)))"
   ]
  },
  {
   "cell_type": "code",
   "execution_count": 127,
   "metadata": {},
   "outputs": [
    {
     "data": {
      "text/plain": [
       "64"
      ]
     },
     "execution_count": 127,
     "metadata": {},
     "output_type": "execute_result"
    }
   ],
   "source": [
    "len(TEST_DATASET)"
   ]
  },
  {
   "cell_type": "code",
   "execution_count": 128,
   "metadata": {},
   "outputs": [
    {
     "data": {
      "text/plain": [
       "-1.7161473923235362"
      ]
     },
     "execution_count": 128,
     "metadata": {},
     "output_type": "execute_result"
    }
   ],
   "source": [
    "score_list[0]"
   ]
  },
  {
   "cell_type": "code",
   "execution_count": 129,
   "metadata": {},
   "outputs": [
    {
     "data": {
      "text/plain": [
       "array([0, 1, 0, ..., 0, 1, 0])"
      ]
     },
     "execution_count": 129,
     "metadata": {},
     "output_type": "execute_result"
    }
   ],
   "source": [
    "segp_list[0]"
   ]
  },
  {
   "cell_type": "code",
   "execution_count": 130,
   "metadata": {},
   "outputs": [
    {
     "data": {
      "text/plain": [
       "array([1, 1, 1, ..., 1, 1, 1], dtype=int32)"
      ]
     },
     "execution_count": 130,
     "metadata": {},
     "output_type": "execute_result"
    }
   ],
   "source": [
    "seg_list[0]"
   ]
  },
  {
   "cell_type": "markdown",
   "metadata": {},
   "source": [
    "## Check the results"
   ]
  },
  {
   "cell_type": "code",
   "execution_count": 131,
   "metadata": {},
   "outputs": [
    {
     "data": {
      "text/plain": [
       "array([0.77734375])"
      ]
     },
     "execution_count": 131,
     "metadata": {},
     "output_type": "execute_result"
    }
   ],
   "source": [
    "data_idx=1\n",
    "np.sum(seg_list[data_idx]==segp_list[data_idx])/seg_list[data_idx].shape"
   ]
  },
  {
   "cell_type": "code",
   "execution_count": 132,
   "metadata": {},
   "outputs": [
    {
     "data": {
      "text/plain": [
       "457"
      ]
     },
     "execution_count": 132,
     "metadata": {},
     "output_type": "execute_result"
    }
   ],
   "source": [
    "np.sum(seg_list[data_idx])"
   ]
  },
  {
   "cell_type": "code",
   "execution_count": 133,
   "metadata": {},
   "outputs": [
    {
     "data": {
      "text/plain": [
       "383"
      ]
     },
     "execution_count": 133,
     "metadata": {},
     "output_type": "execute_result"
    }
   ],
   "source": [
    "np.sum(segp_list[data_idx])"
   ]
  },
  {
   "cell_type": "code",
   "execution_count": 134,
   "metadata": {},
   "outputs": [
    {
     "data": {
      "text/plain": [
       "<matplotlib.legend.Legend at 0x13d3cc908>"
      ]
     },
     "execution_count": 134,
     "metadata": {},
     "output_type": "execute_result"
    },
    {
     "data": {
      "image/png": "[encoded data removed]",
      "text/plain": [
       "<Figure size 432x288 with 1 Axes>"
      ]
     },
     "metadata": {
      "needs_background": "light"
     },
     "output_type": "display_data"
    }
   ],
   "source": [
    "pointset=ps_list[data_idx]\n",
    "box3d_center=dataset[data_idx][2]\n",
    "plt.plot(pointset[:,0],pointset[:,2],'.')\n",
    "#plt.plot(pointset_before_transformation[:,0],pointset_before_transformation[:,2],'.')\n",
    "plt.plot(pointset[segp_list[data_idx],0],pointset[segp_list[data_idx],2],'.',label='predicted center')\n",
    "plt.plot(pointset[seg_list[data_idx],0],pointset[seg_list[data_idx],2],'.',label='gt center')\n",
    "plt.plot(box3d_center[0],box3d_center[2],'.',markersize=10)\n",
    "plt.legend()\n",
    "#plt.ylim([4,6])\n",
    "#plt.xlim([-1,1])"
   ]
  },
  {
   "cell_type": "markdown",
   "metadata": {},
   "source": [
    "## compare center"
   ]
  },
  {
   "cell_type": "markdown",
   "metadata": {},
   "source": [
    "predicted center coordinate"
   ]
  },
  {
   "cell_type": "code",
   "execution_count": 135,
   "metadata": {},
   "outputs": [
    {
     "data": {
      "text/plain": [
       "array([-0.09721507,  1.14677489, 27.57660484])"
      ]
     },
     "execution_count": 135,
     "metadata": {},
     "output_type": "execute_result"
    }
   ],
   "source": [
    "pred_center=center_list[data_idx]\n",
    "pred_center"
   ]
  },
  {
   "cell_type": "markdown",
   "metadata": {},
   "source": [
    "gt center coordinate"
   ]
  },
  {
   "cell_type": "code",
   "execution_count": 136,
   "metadata": {},
   "outputs": [
    {
     "data": {
      "text/plain": [
       "array([ 0.0817595 ,  1.35748782, 27.71142014])"
      ]
     },
     "execution_count": 136,
     "metadata": {},
     "output_type": "execute_result"
    }
   ],
   "source": [
    "gt_center=dataset[data_idx][2]\n",
    "gt_center"
   ]
  },
  {
   "cell_type": "markdown",
   "metadata": {},
   "source": [
    "### Convert center back to the world coordinates"
   ]
  },
  {
   "cell_type": "code",
   "execution_count": null,
   "metadata": {},
   "outputs": [],
   "source": []
  },
  {
   "cell_type": "code",
   "execution_count": 137,
   "metadata": {},
   "outputs": [],
   "source": [
    "rot_angle=dataset[data_idx][7]"
   ]
  },
  {
   "cell_type": "code",
   "execution_count": 138,
   "metadata": {},
   "outputs": [
    {
     "data": {
      "text/plain": [
       "array([ 0.0817595 ,  1.35748782, 27.71142014])"
      ]
     },
     "execution_count": 138,
     "metadata": {},
     "output_type": "execute_result"
    }
   ],
   "source": [
    "gt_center"
   ]
  },
  {
   "cell_type": "code",
   "execution_count": 139,
   "metadata": {},
   "outputs": [
    {
     "ename": "NameError",
     "evalue": "name 'rotate_pc_along_y' is not defined",
     "output_type": "error",
     "traceback": [
      "\u001b[0;31m---------------------------------------------------------------------------\u001b[0m",
      "\u001b[0;31mNameError\u001b[0m                                 Traceback (most recent call last)",
      "\u001b[0;32m<ipython-input-139-c445db2543e8>\u001b[0m in \u001b[0;36m<module>\u001b[0;34m\u001b[0m\n\u001b[0;32m----> 1\u001b[0;31m \u001b[0mgt_center_before_rotation\u001b[0m\u001b[0;34m=\u001b[0m\u001b[0mrotate_pc_along_y\u001b[0m\u001b[0;34m(\u001b[0m\u001b[0mnp\u001b[0m\u001b[0;34m.\u001b[0m\u001b[0mexpand_dims\u001b[0m\u001b[0;34m(\u001b[0m\u001b[0mgt_center\u001b[0m\u001b[0;34m,\u001b[0m\u001b[0;36m0\u001b[0m\u001b[0;34m)\u001b[0m\u001b[0;34m,\u001b[0m\u001b[0mrot_angle\u001b[0m\u001b[0;34m=\u001b[0m\u001b[0;34m-\u001b[0m\u001b[0mrot_angle\u001b[0m\u001b[0;34m)\u001b[0m\u001b[0;34m.\u001b[0m\u001b[0msqueeze\u001b[0m\u001b[0;34m(\u001b[0m\u001b[0;34m)\u001b[0m\u001b[0;34m\u001b[0m\u001b[0;34m\u001b[0m\u001b[0m\n\u001b[0m\u001b[1;32m      2\u001b[0m \u001b[0mgt_center_before_rotation\u001b[0m\u001b[0;34m\u001b[0m\u001b[0;34m\u001b[0m\u001b[0m\n",
      "\u001b[0;31mNameError\u001b[0m: name 'rotate_pc_along_y' is not defined"
     ]
    }
   ],
   "source": [
    "gt_center_before_rotation=rotate_pc_along_y(np.expand_dims(gt_center,0),rot_angle=-rot_angle).squeeze()\n",
    "gt_center_before_rotation"
   ]
  },
  {
   "cell_type": "code",
   "execution_count": null,
   "metadata": {},
   "outputs": [],
   "source": [
    "rotate_pc_along_y(np.expand_dims(gt_center_before_rotation,0),rot_angle=rot_angle).squeeze()"
   ]
  },
  {
   "cell_type": "code",
   "execution_count": null,
   "metadata": {},
   "outputs": [],
   "source": [
    "gt_center_before_rotation"
   ]
  },
  {
   "cell_type": "markdown",
   "metadata": {},
   "source": [
    "## compare heading"
   ]
  },
  {
   "cell_type": "code",
   "execution_count": null,
   "metadata": {},
   "outputs": [],
   "source": [
    "heading_cls_list[data_idx]"
   ]
  },
  {
   "cell_type": "code",
   "execution_count": null,
   "metadata": {},
   "outputs": [],
   "source": [
    "heading_res_list[data_idx]"
   ]
  },
  {
   "cell_type": "markdown",
   "metadata": {},
   "source": [
    "### predicted heading angle"
   ]
  },
  {
   "cell_type": "markdown",
   "metadata": {},
   "source": [
    "in radius"
   ]
  },
  {
   "cell_type": "code",
   "execution_count": null,
   "metadata": {},
   "outputs": [],
   "source": [
    "from provider import class2angle\n",
    "pred_angle_radius=class2angle(heading_cls_list[data_idx],heading_res_list[data_idx],NUM_HEADING_BIN)\n",
    "pred_angle_radius"
   ]
  },
  {
   "cell_type": "markdown",
   "metadata": {},
   "source": [
    "in degree"
   ]
  },
  {
   "cell_type": "code",
   "execution_count": null,
   "metadata": {},
   "outputs": [],
   "source": [
    "pred_angle_degree=pred_angle_radius*180/np.pi\n",
    "pred_angle_degree"
   ]
  },
  {
   "cell_type": "code",
   "execution_count": null,
   "metadata": {},
   "outputs": [],
   "source": [
    "## Plus rotation angle"
   ]
  },
  {
   "cell_type": "code",
   "execution_count": null,
   "metadata": {},
   "outputs": [],
   "source": [
    "pred_angle_radius=class2angle(heading_cls_list[data_idx],\n",
    "                              heading_res_list[data_idx],NUM_HEADING_BIN)+dataset[data_idx][7]\n",
    "pred_angle_radius"
   ]
  },
  {
   "cell_type": "code",
   "execution_count": null,
   "metadata": {},
   "outputs": [],
   "source": [
    "dataset[data_idx][3]"
   ]
  },
  {
   "cell_type": "code",
   "execution_count": null,
   "metadata": {},
   "outputs": [],
   "source": [
    "dataset.id_list[data_idx]"
   ]
  },
  {
   "cell_type": "markdown",
   "metadata": {},
   "source": [
    "### heading angle ground truth:"
   ]
  },
  {
   "cell_type": "code",
   "execution_count": 140,
   "metadata": {},
   "outputs": [
    {
     "data": {
      "text/plain": [
       "-1.57256737984043"
      ]
     },
     "execution_count": 140,
     "metadata": {},
     "output_type": "execute_result"
    }
   ],
   "source": [
    "gt_angle_radius=dataset.heading_list[data_idx]\n",
    "gt_angle_radius"
   ]
  },
  {
   "cell_type": "code",
   "execution_count": 141,
   "metadata": {},
   "outputs": [
    {
     "data": {
      "text/plain": [
       "-90.10147386480287"
      ]
     },
     "execution_count": 141,
     "metadata": {},
     "output_type": "execute_result"
    }
   ],
   "source": [
    "gt_angle_degree=gt_angle_radius*180/np.pi\n",
    "gt_angle_degree"
   ]
  },
  {
   "cell_type": "code",
   "execution_count": 142,
   "metadata": {},
   "outputs": [
    {
     "data": {
      "text/plain": [
       "(array([ 1.,  0.,  0.,  0.,  1., 18., 33.,  1.,  1.,  0.,  0.,  0.,  0.,\n",
       "         0.,  0.,  0.,  0.,  0.,  0.,  0.,  0.,  1.,  0.,  0.,  0.,  0.,\n",
       "         0.,  0.,  0.,  0.,  0.,  0.,  0.,  0.,  1.,  0.,  5.,  0.,  0.,\n",
       "         0.,  0.,  0.,  0.,  0.,  0.,  0.,  0.,  0.,  0.,  2.]),\n",
       " array([-2.20223437, -2.09836852, -1.99450267, -1.89063682, -1.78677096,\n",
       "        -1.68290511, -1.57903926, -1.4751734 , -1.37130755, -1.2674417 ,\n",
       "        -1.16357585, -1.05970999, -0.95584414, -0.85197829, -0.74811243,\n",
       "        -0.64424658, -0.54038073, -0.43651487, -0.33264902, -0.22878317,\n",
       "        -0.12491732, -0.02105146,  0.08281439,  0.18668024,  0.2905461 ,\n",
       "         0.39441195,  0.4982778 ,  0.60214366,  0.70600951,  0.80987536,\n",
       "         0.91374121,  1.01760707,  1.12147292,  1.22533877,  1.32920463,\n",
       "         1.43307048,  1.53693633,  1.64080219,  1.74466804,  1.84853389,\n",
       "         1.95239974,  2.0562656 ,  2.16013145,  2.2639973 ,  2.36786316,\n",
       "         2.47172901,  2.57559486,  2.67946072,  2.78332657,  2.88719242,\n",
       "         2.99105827]),\n",
       " <a list of 50 Patch objects>)"
      ]
     },
     "execution_count": 142,
     "metadata": {},
     "output_type": "execute_result"
    },
    {
     "data": {
      "image/png": "[encoded data removed]",
      "text/plain": [
       "<Figure size 432x288 with 1 Axes>"
      ]
     },
     "metadata": {
      "needs_background": "light"
     },
     "output_type": "display_data"
    }
   ],
   "source": [
    "plt.hist(dataset.heading_list,bins=50)"
   ]
  },
  {
   "cell_type": "markdown",
   "metadata": {},
   "source": [
    "## Compare all heading angles"
   ]
  },
  {
   "cell_type": "code",
   "execution_count": 143,
   "metadata": {},
   "outputs": [
    {
     "data": {
      "text/plain": [
       "list"
      ]
     },
     "execution_count": 143,
     "metadata": {},
     "output_type": "execute_result"
    }
   ],
   "source": [
    "type(heading_cls_list)"
   ]
  },
  {
   "cell_type": "code",
   "execution_count": 144,
   "metadata": {},
   "outputs": [],
   "source": [
    "all_pred_angle_radius=np.empty(len(heading_cls_list))\n",
    "for idx in range(len(heading_cls_list)):\n",
    "    pred_angle_radius=class2angle(heading_cls_list[idx],heading_res_list[idx],NUM_HEADING_BIN)+dataset[idx][7]\n",
    "    all_pred_angle_radius[idx]=pred_angle_radius"
   ]
  },
  {
   "cell_type": "code",
   "execution_count": 145,
   "metadata": {},
   "outputs": [],
   "source": [
    "all_gt_angle_raidus=np.array(dataset.heading_list)"
   ]
  },
  {
   "cell_type": "code",
   "execution_count": 146,
   "metadata": {},
   "outputs": [
    {
     "data": {
      "text/plain": [
       "Text(0, 0.5, 'predicted heading angle')"
      ]
     },
     "execution_count": 146,
     "metadata": {},
     "output_type": "execute_result"
    },
    {
     "data": {
      "image/png": "[encoded data removed]",
      "text/plain": [
       "<Figure size 432x288 with 1 Axes>"
      ]
     },
     "metadata": {
      "needs_background": "light"
     },
     "output_type": "display_data"
    }
   ],
   "source": [
    "## plot in 2D\n",
    "plt.plot(all_gt_angle_raidus,all_pred_angle_radius,'.')\n",
    "plt.xlabel(\"ground truth heading angle\")\n",
    "plt.ylabel(\"predicted heading angle\")"
   ]
  },
  {
   "cell_type": "markdown",
   "metadata": {},
   "source": [
    "It seems the heading angle is of some classes are not correct."
   ]
  },
  {
   "cell_type": "markdown",
   "metadata": {},
   "source": [
    "## Compare box"
   ]
  },
  {
   "cell_type": "code",
   "execution_count": 147,
   "metadata": {},
   "outputs": [],
   "source": [
    "from provider import class2size"
   ]
  },
  {
   "cell_type": "markdown",
   "metadata": {},
   "source": [
    "predicted box size"
   ]
  },
  {
   "cell_type": "code",
   "execution_count": 148,
   "metadata": {},
   "outputs": [
    {
     "data": {
      "text/plain": [
       "array([4.65071485, 1.78171392, 1.73756158])"
      ]
     },
     "execution_count": 148,
     "metadata": {},
     "output_type": "execute_result"
    }
   ],
   "source": [
    "class2size(size_cls_list[data_idx],size_res_list[data_idx])"
   ]
  },
  {
   "cell_type": "markdown",
   "metadata": {},
   "source": [
    "ground truth of box size"
   ]
  },
  {
   "cell_type": "code",
   "execution_count": 149,
   "metadata": {},
   "outputs": [
    {
     "data": {
      "text/plain": [
       "array([3.903, 1.798, 1.722])"
      ]
     },
     "execution_count": 149,
     "metadata": {},
     "output_type": "execute_result"
    }
   ],
   "source": [
    "dataset.size_list[data_idx]"
   ]
  },
  {
   "cell_type": "markdown",
   "metadata": {},
   "source": [
    "## Convert the prediction back to world coordinates"
   ]
  },
  {
   "cell_type": "markdown",
   "metadata": {},
   "source": [
    "extract the token"
   ]
  },
  {
   "cell_type": "code",
   "execution_count": 150,
   "metadata": {},
   "outputs": [
    {
     "ename": "NameError",
     "evalue": "name 'parse_train_csv' is not defined",
     "output_type": "error",
     "traceback": [
      "\u001b[0;31m---------------------------------------------------------------------------\u001b[0m",
      "\u001b[0;31mNameError\u001b[0m                                 Traceback (most recent call last)",
      "\u001b[0;32m<ipython-input-150-45f267e26675>\u001b[0m in \u001b[0;36m<module>\u001b[0;34m\u001b[0m\n\u001b[0;32m----> 1\u001b[0;31m \u001b[0mtrain_df\u001b[0m\u001b[0;34m=\u001b[0m\u001b[0mparse_train_csv\u001b[0m\u001b[0;34m(\u001b[0m\u001b[0;34m)\u001b[0m\u001b[0;34m\u001b[0m\u001b[0;34m\u001b[0m\u001b[0m\n\u001b[0m",
      "\u001b[0;31mNameError\u001b[0m: name 'parse_train_csv' is not defined"
     ]
    }
   ],
   "source": [
    "train_df=parse_train_csv()"
   ]
  },
  {
   "cell_type": "code",
   "execution_count": 151,
   "metadata": {},
   "outputs": [
    {
     "ename": "NameError",
     "evalue": "name 'train_df' is not defined",
     "output_type": "error",
     "traceback": [
      "\u001b[0;31m---------------------------------------------------------------------------\u001b[0m",
      "\u001b[0;31mNameError\u001b[0m                                 Traceback (most recent call last)",
      "\u001b[0;32m<ipython-input-151-d1cb1a96a272>\u001b[0m in \u001b[0;36m<module>\u001b[0;34m\u001b[0m\n\u001b[0;32m----> 1\u001b[0;31m \u001b[0mtrain_df\u001b[0m\u001b[0;34m.\u001b[0m\u001b[0mhead\u001b[0m\u001b[0;34m(\u001b[0m\u001b[0;36m1\u001b[0m\u001b[0;34m)\u001b[0m\u001b[0;34m\u001b[0m\u001b[0;34m\u001b[0m\u001b[0m\n\u001b[0m",
      "\u001b[0;31mNameError\u001b[0m: name 'train_df' is not defined"
     ]
    }
   ],
   "source": [
    "train_df.head(1)"
   ]
  },
  {
   "cell_type": "code",
   "execution_count": 152,
   "metadata": {},
   "outputs": [
    {
     "ename": "NameError",
     "evalue": "name 'train_df' is not defined",
     "output_type": "error",
     "traceback": [
      "\u001b[0;31m---------------------------------------------------------------------------\u001b[0m",
      "\u001b[0;31mNameError\u001b[0m                                 Traceback (most recent call last)",
      "\u001b[0;32m<ipython-input-152-32bd080c3e27>\u001b[0m in \u001b[0;36m<module>\u001b[0;34m\u001b[0m\n\u001b[0;32m----> 1\u001b[0;31m \u001b[0msample_token\u001b[0m\u001b[0;34m=\u001b[0m\u001b[0mtrain_df\u001b[0m\u001b[0;34m.\u001b[0m\u001b[0miloc\u001b[0m\u001b[0;34m[\u001b[0m\u001b[0mdata_idx\u001b[0m\u001b[0;34m,\u001b[0m\u001b[0;36m0\u001b[0m\u001b[0;34m]\u001b[0m\u001b[0;34m\u001b[0m\u001b[0;34m\u001b[0m\u001b[0m\n\u001b[0m\u001b[1;32m      2\u001b[0m \u001b[0msample_token\u001b[0m\u001b[0;34m\u001b[0m\u001b[0;34m\u001b[0m\u001b[0m\n",
      "\u001b[0;31mNameError\u001b[0m: name 'train_df' is not defined"
     ]
    }
   ],
   "source": [
    "sample_token=train_df.iloc[data_idx,0]\n",
    "sample_token"
   ]
  },
  {
   "cell_type": "code",
   "execution_count": null,
   "metadata": {},
   "outputs": [],
   "source": []
  },
  {
   "cell_type": "markdown",
   "metadata": {},
   "source": [
    "### Convert ground truth box back to world coordiantes"
   ]
  },
  {
   "cell_type": "code",
   "execution_count": 153,
   "metadata": {},
   "outputs": [
    {
     "ename": "NameError",
     "evalue": "name 'gt_angle' is not defined",
     "output_type": "error",
     "traceback": [
      "\u001b[0;31m---------------------------------------------------------------------------\u001b[0m",
      "\u001b[0;31mNameError\u001b[0m                                 Traceback (most recent call last)",
      "\u001b[0;32m<ipython-input-153-2f9dbccbacfe>\u001b[0m in \u001b[0;36m<module>\u001b[0;34m\u001b[0m\n\u001b[0;32m----> 1\u001b[0;31m \u001b[0mgt_angle\u001b[0m\u001b[0;34m\u001b[0m\u001b[0;34m\u001b[0m\u001b[0m\n\u001b[0m",
      "\u001b[0;31mNameError\u001b[0m: name 'gt_angle' is not defined"
     ]
    }
   ],
   "source": [
    "gt_angle"
   ]
  },
  {
   "cell_type": "code",
   "execution_count": 154,
   "metadata": {},
   "outputs": [
    {
     "ename": "NameError",
     "evalue": "name 'gt_center_before_rotation' is not defined",
     "output_type": "error",
     "traceback": [
      "\u001b[0;31m---------------------------------------------------------------------------\u001b[0m",
      "\u001b[0;31mNameError\u001b[0m                                 Traceback (most recent call last)",
      "\u001b[0;32m<ipython-input-154-7d460b38f596>\u001b[0m in \u001b[0;36m<module>\u001b[0;34m\u001b[0m\n\u001b[1;32m      5\u001b[0m \u001b[0mfirst_rot\u001b[0m\u001b[0;34m=\u001b[0m\u001b[0mQuaternion\u001b[0m\u001b[0;34m(\u001b[0m\u001b[0maxis\u001b[0m\u001b[0;34m=\u001b[0m\u001b[0;34m[\u001b[0m\u001b[0;36m1\u001b[0m\u001b[0;34m,\u001b[0m\u001b[0;36m0\u001b[0m\u001b[0;34m,\u001b[0m\u001b[0;36m0\u001b[0m\u001b[0;34m]\u001b[0m\u001b[0;34m,\u001b[0m\u001b[0mangle\u001b[0m\u001b[0;34m=\u001b[0m\u001b[0mnp\u001b[0m\u001b[0;34m.\u001b[0m\u001b[0mpi\u001b[0m\u001b[0;34m/\u001b[0m\u001b[0;36m2\u001b[0m\u001b[0;34m)\u001b[0m\u001b[0;34m\u001b[0m\u001b[0;34m\u001b[0m\u001b[0m\n\u001b[1;32m      6\u001b[0m \u001b[0msecond_rot\u001b[0m\u001b[0;34m=\u001b[0m\u001b[0mQuaternion\u001b[0m\u001b[0;34m(\u001b[0m\u001b[0maxis\u001b[0m\u001b[0;34m=\u001b[0m\u001b[0;34m[\u001b[0m\u001b[0;36m0\u001b[0m\u001b[0;34m,\u001b[0m\u001b[0;34m-\u001b[0m\u001b[0;36m1\u001b[0m\u001b[0;34m,\u001b[0m\u001b[0;36m0\u001b[0m\u001b[0;34m]\u001b[0m\u001b[0;34m,\u001b[0m\u001b[0mangle\u001b[0m\u001b[0;34m=\u001b[0m\u001b[0;34m-\u001b[0m\u001b[0mgt_angle\u001b[0m\u001b[0;34m)\u001b[0m\u001b[0;34m\u001b[0m\u001b[0;34m\u001b[0m\u001b[0m\n\u001b[0;32m----> 7\u001b[0;31m gt_box_in_sensor_coord=Box(center=gt_center_before_rotation,size=[w,l,h],\n\u001b[0m\u001b[1;32m      8\u001b[0m                              orientation=second_rot*first_rot)\n\u001b[1;32m      9\u001b[0m \u001b[0;34m\u001b[0m\u001b[0m\n",
      "\u001b[0;31mNameError\u001b[0m: name 'gt_center_before_rotation' is not defined"
     ]
    }
   ],
   "source": [
    "gt_size=dataset.size_list[data_idx]\n",
    "gt_angle=dataset.heading_list[data_idx]\n",
    "l,w,h=gt_size\n",
    "\n",
    "first_rot=Quaternion(axis=[1,0,0],angle=np.pi/2)\n",
    "second_rot=Quaternion(axis=[0,-1,0],angle=-gt_angle)\n",
    "gt_box_in_sensor_coord=Box(center=gt_center_before_rotation,size=[w,l,h],\n",
    "                             orientation=second_rot*first_rot)\n",
    "\n",
    "\n",
    "#gt_box_in_sensor_coord.rotate(third_rot)"
   ]
  },
  {
   "cell_type": "code",
   "execution_count": 155,
   "metadata": {},
   "outputs": [
    {
     "ename": "NameError",
     "evalue": "name 'gt_box_in_sensor_coord' is not defined",
     "output_type": "error",
     "traceback": [
      "\u001b[0;31m---------------------------------------------------------------------------\u001b[0m",
      "\u001b[0;31mNameError\u001b[0m                                 Traceback (most recent call last)",
      "\u001b[0;32m<ipython-input-155-c17b2bfa2d48>\u001b[0m in \u001b[0;36m<module>\u001b[0;34m\u001b[0m\n\u001b[0;32m----> 1\u001b[0;31m \u001b[0mgt_box_in_sensor_coord\u001b[0m\u001b[0;34m\u001b[0m\u001b[0;34m\u001b[0m\u001b[0m\n\u001b[0m",
      "\u001b[0;31mNameError\u001b[0m: name 'gt_box_in_sensor_coord' is not defined"
     ]
    }
   ],
   "source": [
    "gt_box_in_sensor_coord"
   ]
  },
  {
   "cell_type": "code",
   "execution_count": 156,
   "metadata": {},
   "outputs": [
    {
     "ename": "NameError",
     "evalue": "name 'get_sensor_to_world_transform_matrix' is not defined",
     "output_type": "error",
     "traceback": [
      "\u001b[0;31m---------------------------------------------------------------------------\u001b[0m",
      "\u001b[0;31mNameError\u001b[0m                                 Traceback (most recent call last)",
      "\u001b[0;32m<ipython-input-156-28ebf99a0e32>\u001b[0m in \u001b[0;36m<module>\u001b[0;34m\u001b[0m\n\u001b[0;32m----> 1\u001b[0;31m cam_to_world_mtx=get_sensor_to_world_transform_matrix(sensor_type='CAM_FRONT',\n\u001b[0m\u001b[1;32m      2\u001b[0m                                                       sample_token=train_df.iloc[dataset.id_list[data_idx],0])\n",
      "\u001b[0;31mNameError\u001b[0m: name 'get_sensor_to_world_transform_matrix' is not defined"
     ]
    }
   ],
   "source": [
    "cam_to_world_mtx=get_sensor_to_world_transform_matrix(sensor_type='CAM_FRONT',\n",
    "                                                      sample_token=train_df.iloc[dataset.id_list[data_idx],0])"
   ]
  },
  {
   "cell_type": "code",
   "execution_count": 157,
   "metadata": {},
   "outputs": [
    {
     "ename": "NameError",
     "evalue": "name 'gt_center_before_rotation' is not defined",
     "output_type": "error",
     "traceback": [
      "\u001b[0;31m---------------------------------------------------------------------------\u001b[0m",
      "\u001b[0;31mNameError\u001b[0m                                 Traceback (most recent call last)",
      "\u001b[0;32m<ipython-input-157-d85627479567>\u001b[0m in \u001b[0;36m<module>\u001b[0;34m\u001b[0m\n\u001b[0;32m----> 1\u001b[0;31m \u001b[0mgt_center_before_rotation_h\u001b[0m\u001b[0;34m=\u001b[0m\u001b[0mnp\u001b[0m\u001b[0;34m.\u001b[0m\u001b[0mconcatenate\u001b[0m\u001b[0;34m(\u001b[0m\u001b[0;34m(\u001b[0m\u001b[0mgt_center_before_rotation\u001b[0m\u001b[0;34m,\u001b[0m\u001b[0mnp\u001b[0m\u001b[0;34m.\u001b[0m\u001b[0mones\u001b[0m\u001b[0;34m(\u001b[0m\u001b[0;36m1\u001b[0m\u001b[0;34m)\u001b[0m\u001b[0;34m)\u001b[0m\u001b[0;34m)\u001b[0m\u001b[0;34m\u001b[0m\u001b[0;34m\u001b[0m\u001b[0m\n\u001b[0m\u001b[1;32m      2\u001b[0m \u001b[0mgt_center_before_rotation_h\u001b[0m\u001b[0;34m\u001b[0m\u001b[0;34m\u001b[0m\u001b[0m\n",
      "\u001b[0;31mNameError\u001b[0m: name 'gt_center_before_rotation' is not defined"
     ]
    }
   ],
   "source": [
    "gt_center_before_rotation_h=np.concatenate((gt_center_before_rotation,np.ones(1)))\n",
    "gt_center_before_rotation_h"
   ]
  },
  {
   "cell_type": "code",
   "execution_count": 158,
   "metadata": {},
   "outputs": [
    {
     "ename": "NameError",
     "evalue": "name 'cam_to_world_mtx' is not defined",
     "output_type": "error",
     "traceback": [
      "\u001b[0;31m---------------------------------------------------------------------------\u001b[0m",
      "\u001b[0;31mNameError\u001b[0m                                 Traceback (most recent call last)",
      "\u001b[0;32m<ipython-input-158-2ef453a2ad03>\u001b[0m in \u001b[0;36m<module>\u001b[0;34m\u001b[0m\n\u001b[0;32m----> 1\u001b[0;31m \u001b[0mnp\u001b[0m\u001b[0;34m.\u001b[0m\u001b[0mdot\u001b[0m\u001b[0;34m(\u001b[0m\u001b[0mcam_to_world_mtx\u001b[0m\u001b[0;34m,\u001b[0m\u001b[0mnp\u001b[0m\u001b[0;34m.\u001b[0m\u001b[0mtranspose\u001b[0m\u001b[0;34m(\u001b[0m\u001b[0mgt_center_before_rotation_h\u001b[0m\u001b[0;34m)\u001b[0m\u001b[0;34m)\u001b[0m\u001b[0;34m\u001b[0m\u001b[0;34m\u001b[0m\u001b[0m\n\u001b[0m",
      "\u001b[0;31mNameError\u001b[0m: name 'cam_to_world_mtx' is not defined"
     ]
    }
   ],
   "source": [
    "np.dot(cam_to_world_mtx,np.transpose(gt_center_before_rotation_h))"
   ]
  },
  {
   "cell_type": "code",
   "execution_count": 159,
   "metadata": {},
   "outputs": [
    {
     "ename": "NameError",
     "evalue": "name 'gt_box_in_sensor_coord' is not defined",
     "output_type": "error",
     "traceback": [
      "\u001b[0;31m---------------------------------------------------------------------------\u001b[0m",
      "\u001b[0;31mNameError\u001b[0m                                 Traceback (most recent call last)",
      "\u001b[0;32m<ipython-input-159-c17b2bfa2d48>\u001b[0m in \u001b[0;36m<module>\u001b[0;34m\u001b[0m\n\u001b[0;32m----> 1\u001b[0;31m \u001b[0mgt_box_in_sensor_coord\u001b[0m\u001b[0;34m\u001b[0m\u001b[0;34m\u001b[0m\u001b[0m\n\u001b[0m",
      "\u001b[0;31mNameError\u001b[0m: name 'gt_box_in_sensor_coord' is not defined"
     ]
    }
   ],
   "source": [
    "gt_box_in_sensor_coord"
   ]
  },
  {
   "cell_type": "code",
   "execution_count": 160,
   "metadata": {},
   "outputs": [
    {
     "ename": "NameError",
     "evalue": "name 'gt_box_in_sensor_coord' is not defined",
     "output_type": "error",
     "traceback": [
      "\u001b[0;31m---------------------------------------------------------------------------\u001b[0m",
      "\u001b[0;31mNameError\u001b[0m                                 Traceback (most recent call last)",
      "\u001b[0;32m<ipython-input-160-4fa0788a6921>\u001b[0m in \u001b[0;36m<module>\u001b[0;34m\u001b[0m\n\u001b[0;32m----> 1\u001b[0;31m \u001b[0mgt_box_in_sensor_coord_corners\u001b[0m\u001b[0;34m=\u001b[0m\u001b[0mgt_box_in_sensor_coord\u001b[0m\u001b[0;34m.\u001b[0m\u001b[0mcorners\u001b[0m\u001b[0;34m(\u001b[0m\u001b[0;34m)\u001b[0m\u001b[0;34m\u001b[0m\u001b[0;34m\u001b[0m\u001b[0m\n\u001b[0m\u001b[1;32m      2\u001b[0m \u001b[0mgt_box_in_sensor_coord_corners\u001b[0m\u001b[0;34m\u001b[0m\u001b[0;34m\u001b[0m\u001b[0m\n\u001b[1;32m      3\u001b[0m \u001b[0mprint\u001b[0m\u001b[0;34m(\u001b[0m\u001b[0mgt_box_in_sensor_coord_corners\u001b[0m\u001b[0;34m.\u001b[0m\u001b[0mshape\u001b[0m\u001b[0;34m)\u001b[0m\u001b[0;34m\u001b[0m\u001b[0;34m\u001b[0m\u001b[0m\n",
      "\u001b[0;31mNameError\u001b[0m: name 'gt_box_in_sensor_coord' is not defined"
     ]
    }
   ],
   "source": [
    "gt_box_in_sensor_coord_corners=gt_box_in_sensor_coord.corners()\n",
    "gt_box_in_sensor_coord_corners\n",
    "print(gt_box_in_sensor_coord_corners.shape)"
   ]
  },
  {
   "cell_type": "code",
   "execution_count": 161,
   "metadata": {},
   "outputs": [
    {
     "ename": "NameError",
     "evalue": "name 'gt_box_in_sensor_coord_corners' is not defined",
     "output_type": "error",
     "traceback": [
      "\u001b[0;31m---------------------------------------------------------------------------\u001b[0m",
      "\u001b[0;31mNameError\u001b[0m                                 Traceback (most recent call last)",
      "\u001b[0;32m<ipython-input-161-6584ddb4994e>\u001b[0m in \u001b[0;36m<module>\u001b[0;34m\u001b[0m\n\u001b[0;32m----> 1\u001b[0;31m \u001b[0mgt_box_in_sensor_coord_corners_h\u001b[0m\u001b[0;34m=\u001b[0m\u001b[0mnp\u001b[0m\u001b[0;34m.\u001b[0m\u001b[0mconcatenate\u001b[0m\u001b[0;34m(\u001b[0m\u001b[0;34m(\u001b[0m\u001b[0mgt_box_in_sensor_coord_corners\u001b[0m\u001b[0;34m,\u001b[0m\u001b[0mnp\u001b[0m\u001b[0;34m.\u001b[0m\u001b[0mones\u001b[0m\u001b[0;34m(\u001b[0m\u001b[0;34m(\u001b[0m\u001b[0;36m1\u001b[0m\u001b[0;34m,\u001b[0m\u001b[0;36m8\u001b[0m\u001b[0;34m)\u001b[0m\u001b[0;34m)\u001b[0m\u001b[0;34m)\u001b[0m\u001b[0;34m,\u001b[0m\u001b[0maxis\u001b[0m\u001b[0;34m=\u001b[0m\u001b[0;36m0\u001b[0m\u001b[0;34m)\u001b[0m\u001b[0;34m\u001b[0m\u001b[0;34m\u001b[0m\u001b[0m\n\u001b[0m\u001b[1;32m      2\u001b[0m \u001b[0mgt_box_in_sensor_coord_corners_h\u001b[0m\u001b[0;34m.\u001b[0m\u001b[0mshape\u001b[0m\u001b[0;34m\u001b[0m\u001b[0;34m\u001b[0m\u001b[0m\n",
      "\u001b[0;31mNameError\u001b[0m: name 'gt_box_in_sensor_coord_corners' is not defined"
     ]
    }
   ],
   "source": [
    "gt_box_in_sensor_coord_corners_h=np.concatenate((gt_box_in_sensor_coord_corners,np.ones((1,8))),axis=0)\n",
    "gt_box_in_sensor_coord_corners_h.shape"
   ]
  },
  {
   "cell_type": "code",
   "execution_count": 162,
   "metadata": {},
   "outputs": [
    {
     "ename": "NameError",
     "evalue": "name 'cam_to_world_mtx' is not defined",
     "output_type": "error",
     "traceback": [
      "\u001b[0;31m---------------------------------------------------------------------------\u001b[0m",
      "\u001b[0;31mNameError\u001b[0m                                 Traceback (most recent call last)",
      "\u001b[0;32m<ipython-input-162-1a7cca29b99c>\u001b[0m in \u001b[0;36m<module>\u001b[0;34m\u001b[0m\n\u001b[0;32m----> 1\u001b[0;31m \u001b[0mcorners_in_world_coord\u001b[0m\u001b[0;34m=\u001b[0m\u001b[0mnp\u001b[0m\u001b[0;34m.\u001b[0m\u001b[0mdot\u001b[0m\u001b[0;34m(\u001b[0m\u001b[0mcam_to_world_mtx\u001b[0m\u001b[0;34m,\u001b[0m\u001b[0mgt_box_in_sensor_coord_corners_h\u001b[0m\u001b[0;34m)\u001b[0m\u001b[0;34m\u001b[0m\u001b[0;34m\u001b[0m\u001b[0m\n\u001b[0m\u001b[1;32m      2\u001b[0m \u001b[0mcorners_in_world_coord\u001b[0m\u001b[0;34m\u001b[0m\u001b[0;34m\u001b[0m\u001b[0m\n",
      "\u001b[0;31mNameError\u001b[0m: name 'cam_to_world_mtx' is not defined"
     ]
    }
   ],
   "source": [
    "corners_in_world_coord=np.dot(cam_to_world_mtx,gt_box_in_sensor_coord_corners_h)\n",
    "corners_in_world_coord"
   ]
  },
  {
   "cell_type": "code",
   "execution_count": 163,
   "metadata": {},
   "outputs": [
    {
     "ename": "NameError",
     "evalue": "name 'convert_box_to_world_coord' is not defined",
     "output_type": "error",
     "traceback": [
      "\u001b[0;31m---------------------------------------------------------------------------\u001b[0m",
      "\u001b[0;31mNameError\u001b[0m                                 Traceback (most recent call last)",
      "\u001b[0;32m<ipython-input-163-fb0b1d039296>\u001b[0m in \u001b[0;36m<module>\u001b[0;34m\u001b[0m\n\u001b[0;32m----> 1\u001b[0;31m gt_box_in_world_coord=convert_box_to_world_coord(gt_box_in_sensor_coord,\n\u001b[0m\u001b[1;32m      2\u001b[0m                                                  sensor_type='CAM_FRONT',sample_token=train_df.iloc[data_idx,0])\n\u001b[1;32m      3\u001b[0m \u001b[0mgt_box_in_world_coord\u001b[0m\u001b[0;34m\u001b[0m\u001b[0;34m\u001b[0m\u001b[0m\n",
      "\u001b[0;31mNameError\u001b[0m: name 'convert_box_to_world_coord' is not defined"
     ]
    }
   ],
   "source": [
    "gt_box_in_world_coord=convert_box_to_world_coord(gt_box_in_sensor_coord,\n",
    "                                                 sensor_type='CAM_FRONT',sample_token=train_df.iloc[data_idx,0])\n",
    "gt_box_in_world_coord"
   ]
  },
  {
   "cell_type": "code",
   "execution_count": 164,
   "metadata": {},
   "outputs": [
    {
     "ename": "NameError",
     "evalue": "name 'gt_box_in_world_coord' is not defined",
     "output_type": "error",
     "traceback": [
      "\u001b[0;31m---------------------------------------------------------------------------\u001b[0m",
      "\u001b[0;31mNameError\u001b[0m                                 Traceback (most recent call last)",
      "\u001b[0;32m<ipython-input-164-6412d039deb2>\u001b[0m in \u001b[0;36m<module>\u001b[0;34m\u001b[0m\n\u001b[0;32m----> 1\u001b[0;31m \u001b[0mgt_box_in_world_coord\u001b[0m\u001b[0;34m.\u001b[0m\u001b[0morientation\u001b[0m\u001b[0;34m.\u001b[0m\u001b[0myaw_pitch_roll\u001b[0m\u001b[0;34m\u001b[0m\u001b[0;34m\u001b[0m\u001b[0m\n\u001b[0m",
      "\u001b[0;31mNameError\u001b[0m: name 'gt_box_in_world_coord' is not defined"
     ]
    }
   ],
   "source": [
    "gt_box_in_world_coord.orientation.yaw_pitch_roll"
   ]
  },
  {
   "cell_type": "code",
   "execution_count": 165,
   "metadata": {},
   "outputs": [
    {
     "ename": "NameError",
     "evalue": "name 'get_box_yaw_angle_in_world_coords' is not defined",
     "output_type": "error",
     "traceback": [
      "\u001b[0;31m---------------------------------------------------------------------------\u001b[0m",
      "\u001b[0;31mNameError\u001b[0m                                 Traceback (most recent call last)",
      "\u001b[0;32m<ipython-input-165-4d35ce24edd9>\u001b[0m in \u001b[0;36m<module>\u001b[0;34m\u001b[0m\n\u001b[0;32m----> 1\u001b[0;31m \u001b[0mget_box_yaw_angle_in_world_coords\u001b[0m\u001b[0;34m(\u001b[0m\u001b[0mgt_box_in_world_coord\u001b[0m\u001b[0;34m)\u001b[0m\u001b[0;34m+\u001b[0m\u001b[0mnp\u001b[0m\u001b[0;34m.\u001b[0m\u001b[0mpi\u001b[0m\u001b[0;34m\u001b[0m\u001b[0;34m\u001b[0m\u001b[0m\n\u001b[0m",
      "\u001b[0;31mNameError\u001b[0m: name 'get_box_yaw_angle_in_world_coords' is not defined"
     ]
    }
   ],
   "source": [
    "get_box_yaw_angle_in_world_coords(gt_box_in_world_coord)+np.pi"
   ]
  },
  {
   "cell_type": "code",
   "execution_count": 166,
   "metadata": {},
   "outputs": [
    {
     "ename": "NameError",
     "evalue": "name 'get_train_data_sample_token_and_box' is not defined",
     "output_type": "error",
     "traceback": [
      "\u001b[0;31m---------------------------------------------------------------------------\u001b[0m",
      "\u001b[0;31mNameError\u001b[0m                                 Traceback (most recent call last)",
      "\u001b[0;32m<ipython-input-166-0e125d6aa503>\u001b[0m in \u001b[0;36m<module>\u001b[0;34m\u001b[0m\n\u001b[0;32m----> 1\u001b[0;31m \u001b[0m_\u001b[0m\u001b[0;34m,\u001b[0m\u001b[0mgt_box\u001b[0m\u001b[0;34m=\u001b[0m\u001b[0mget_train_data_sample_token_and_box\u001b[0m\u001b[0;34m(\u001b[0m\u001b[0mdataset\u001b[0m\u001b[0;34m.\u001b[0m\u001b[0mid_list\u001b[0m\u001b[0;34m[\u001b[0m\u001b[0mdata_idx\u001b[0m\u001b[0;34m]\u001b[0m\u001b[0;34m,\u001b[0m\u001b[0mtrain_df\u001b[0m\u001b[0;34m)\u001b[0m\u001b[0;34m\u001b[0m\u001b[0;34m\u001b[0m\u001b[0m\n\u001b[0m\u001b[1;32m      2\u001b[0m \u001b[0mgt_box\u001b[0m\u001b[0;34m\u001b[0m\u001b[0;34m\u001b[0m\u001b[0m\n",
      "\u001b[0;31mNameError\u001b[0m: name 'get_train_data_sample_token_and_box' is not defined"
     ]
    }
   ],
   "source": [
    "_,gt_box=get_train_data_sample_token_and_box(dataset.id_list[data_idx],train_df)\n",
    "gt_box"
   ]
  },
  {
   "cell_type": "code",
   "execution_count": null,
   "metadata": {},
   "outputs": [],
   "source": []
  },
  {
   "cell_type": "code",
   "execution_count": 167,
   "metadata": {},
   "outputs": [
    {
     "ename": "NameError",
     "evalue": "name 'gt_box' is not defined",
     "output_type": "error",
     "traceback": [
      "\u001b[0;31m---------------------------------------------------------------------------\u001b[0m",
      "\u001b[0;31mNameError\u001b[0m                                 Traceback (most recent call last)",
      "\u001b[0;32m<ipython-input-167-d899ed0d0a47>\u001b[0m in \u001b[0;36m<module>\u001b[0;34m\u001b[0m\n\u001b[1;32m      1\u001b[0m \u001b[0mfig\u001b[0m\u001b[0;34m,\u001b[0m\u001b[0max\u001b[0m\u001b[0;34m=\u001b[0m\u001b[0mplt\u001b[0m\u001b[0;34m.\u001b[0m\u001b[0msubplots\u001b[0m\u001b[0;34m(\u001b[0m\u001b[0;34m)\u001b[0m\u001b[0;34m\u001b[0m\u001b[0;34m\u001b[0m\u001b[0m\n\u001b[1;32m      2\u001b[0m \u001b[0mview_mtx\u001b[0m\u001b[0;34m=\u001b[0m\u001b[0mnp\u001b[0m\u001b[0;34m.\u001b[0m\u001b[0meye\u001b[0m\u001b[0;34m(\u001b[0m\u001b[0;36m2\u001b[0m\u001b[0;34m)\u001b[0m\u001b[0;34m\u001b[0m\u001b[0;34m\u001b[0m\u001b[0m\n\u001b[0;32m----> 3\u001b[0;31m \u001b[0mgt_box\u001b[0m\u001b[0;34m.\u001b[0m\u001b[0mrender\u001b[0m\u001b[0;34m(\u001b[0m\u001b[0max\u001b[0m\u001b[0;34m,\u001b[0m\u001b[0mview\u001b[0m\u001b[0;34m=\u001b[0m\u001b[0mview_mtx\u001b[0m\u001b[0;34m)\u001b[0m\u001b[0;34m\u001b[0m\u001b[0;34m\u001b[0m\u001b[0m\n\u001b[0m\u001b[1;32m      4\u001b[0m \u001b[0mgt_box_in_world_coord\u001b[0m\u001b[0;34m.\u001b[0m\u001b[0mrender\u001b[0m\u001b[0;34m(\u001b[0m\u001b[0max\u001b[0m\u001b[0;34m,\u001b[0m\u001b[0mview\u001b[0m\u001b[0;34m=\u001b[0m\u001b[0mview_mtx\u001b[0m\u001b[0;34m)\u001b[0m\u001b[0;34m\u001b[0m\u001b[0;34m\u001b[0m\u001b[0m\n",
      "\u001b[0;31mNameError\u001b[0m: name 'gt_box' is not defined"
     ]
    },
    {
     "data": {
      "image/png": "[encoded data removed]",
      "text/plain": [
       "<Figure size 432x288 with 1 Axes>"
      ]
     },
     "metadata": {
      "needs_background": "light"
     },
     "output_type": "display_data"
    }
   ],
   "source": [
    "fig,ax=plt.subplots()\n",
    "view_mtx=np.eye(2)\n",
    "gt_box.render(ax,view=view_mtx)\n",
    "gt_box_in_world_coord.render(ax,view=view_mtx)"
   ]
  },
  {
   "cell_type": "code",
   "execution_count": null,
   "metadata": {},
   "outputs": [],
   "source": [
    "fig,ax=plt.subplots()\n",
    "view_mtx=np.array([[0,1,0],[0,0,1],[0,0,0]])\n",
    "gt_box.render(ax,view=view_mtx)\n",
    "gt_box_in_world_coord.render(ax,view=view_mtx)"
   ]
  },
  {
   "cell_type": "code",
   "execution_count": 168,
   "metadata": {},
   "outputs": [
    {
     "ename": "NameError",
     "evalue": "name 'gt_box' is not defined",
     "output_type": "error",
     "traceback": [
      "\u001b[0;31m---------------------------------------------------------------------------\u001b[0m",
      "\u001b[0;31mNameError\u001b[0m                                 Traceback (most recent call last)",
      "\u001b[0;32m<ipython-input-168-cd9d529f6f42>\u001b[0m in \u001b[0;36m<module>\u001b[0;34m\u001b[0m\n\u001b[0;32m----> 1\u001b[0;31m \u001b[0mgt_box\u001b[0m\u001b[0;34m.\u001b[0m\u001b[0mcorners\u001b[0m\u001b[0;34m(\u001b[0m\u001b[0;34m)\u001b[0m\u001b[0;34m\u001b[0m\u001b[0;34m\u001b[0m\u001b[0m\n\u001b[0m",
      "\u001b[0;31mNameError\u001b[0m: name 'gt_box' is not defined"
     ]
    }
   ],
   "source": [
    "gt_box.corners()"
   ]
  },
  {
   "cell_type": "code",
   "execution_count": null,
   "metadata": {},
   "outputs": [],
   "source": [
    "gt_box_in_world_coord.corners()"
   ]
  },
  {
   "cell_type": "code",
   "execution_count": null,
   "metadata": {},
   "outputs": [],
   "source": [
    "get_box_yaw_angle_in_world_coords(gt_box_in_world_coord)"
   ]
  },
  {
   "cell_type": "code",
   "execution_count": null,
   "metadata": {},
   "outputs": [],
   "source": [
    "from prepare_lyft_data import get_box_corners_yaw_angle_in_world_coords\n",
    "get_box_corners_yaw_angle_in_world_coords(corners_in_world_coord[0:3,:])"
   ]
  },
  {
   "cell_type": "markdown",
   "metadata": {},
   "source": [
    "### Convert predicted box back to world coordinates"
   ]
  },
  {
   "cell_type": "code",
   "execution_count": null,
   "metadata": {},
   "outputs": [],
   "source": [
    "pred_size=class2size(size_cls_list[data_idx],size_res_list[data_idx])\n",
    "center=np.array(center_list[data_idx])\n",
    "rotated_back_center=rotate_pc_along_y(np.expand_dims(center,0),-rot_angle).squeeze()\n",
    "l,w,h=class2size(size_cls_list[data_idx],size_res_list[data_idx])\n",
    "pred_angle_radius=class2angle(heading_cls_list[data_idx],\n",
    "                              heading_res_list[data_idx],NUM_HEADING_BIN)+dataset[data_idx][7]\n",
    "pred_box_in_sensor_coord=Box(center=rotated_back_center,size=[h,l,w],\n",
    "                             orientation=Quaternion(axis=[0,-1,0],angle=pred_angle_radius+np.pi))"
   ]
  },
  {
   "cell_type": "code",
   "execution_count": null,
   "metadata": {},
   "outputs": [],
   "source": [
    "center"
   ]
  },
  {
   "cell_type": "code",
   "execution_count": null,
   "metadata": {},
   "outputs": [],
   "source": [
    "box_in_world_coord=convert_box_to_world_coord(pred_box_in_sensor_coord,\n",
    "                           sensor_type='CAM_FRONT',sample_token=train_df.iloc[data_idx,0])\n",
    "box_in_world_coord"
   ]
  },
  {
   "cell_type": "code",
   "execution_count": null,
   "metadata": {},
   "outputs": [],
   "source": [
    "train_df.iloc[data_idx,:]"
   ]
  },
  {
   "cell_type": "markdown",
   "metadata": {},
   "source": [
    "Calculate the yaw angle in world coordinates"
   ]
  },
  {
   "cell_type": "code",
   "execution_count": null,
   "metadata": {},
   "outputs": [],
   "source": [
    "get_box_yaw_angle_in_world_coords(box_in_world_coord)"
   ]
  },
  {
   "cell_type": "code",
   "execution_count": null,
   "metadata": {},
   "outputs": [],
   "source": []
  },
  {
   "cell_type": "code",
   "execution_count": null,
   "metadata": {},
   "outputs": [],
   "source": []
  },
  {
   "cell_type": "code",
   "execution_count": null,
   "metadata": {},
   "outputs": [],
   "source": []
  }
 ],
 "metadata": {
  "kernelspec": {
   "display_name": "Python 3",
   "language": "python",
   "name": "python3"
  },
  "language_info": {
   "codemirror_mode": {
    "name": "ipython",
    "version": 3
   },
   "file_extension": ".py",
   "mimetype": "text/x-python",
   "name": "python",
   "nbconvert_exporter": "python",
   "pygments_lexer": "ipython3",
   "version": "3.7.3"
  },
  "pycharm": {
   "stem_cell": {
    "cell_type": "raw",
    "metadata": {
     "collapsed": false
    },
    "source": []
   }
  }
 },
 "nbformat": 4,
 "nbformat_minor": 2
}
