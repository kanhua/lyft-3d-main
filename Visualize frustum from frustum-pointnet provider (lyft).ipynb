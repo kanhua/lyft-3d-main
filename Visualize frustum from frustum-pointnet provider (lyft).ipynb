{
 "cells": [
  {
   "cell_type": "code",
   "execution_count": 1,
   "metadata": {},
   "outputs": [],
   "source": [
    "%load_ext autoreload\n",
    "%autoreload 2"
   ]
  },
  {
   "cell_type": "code",
   "execution_count": 2,
   "metadata": {},
   "outputs": [
    {
     "name": "stderr",
     "output_type": "stream",
     "text": [
      "/Users/kanhua/miniconda3/envs/lyft-3d/lib/python3.7/site-packages/tensorflow/python/framework/dtypes.py:526: FutureWarning: Passing (type, 1) or '1type' as a synonym of type is deprecated; in a future version of numpy, it will be understood as (type, (1,)) / '(1,)type'.\n",
      "  _np_qint8 = np.dtype([(\"qint8\", np.int8, 1)])\n",
      "/Users/kanhua/miniconda3/envs/lyft-3d/lib/python3.7/site-packages/tensorflow/python/framework/dtypes.py:527: FutureWarning: Passing (type, 1) or '1type' as a synonym of type is deprecated; in a future version of numpy, it will be understood as (type, (1,)) / '(1,)type'.\n",
      "  _np_quint8 = np.dtype([(\"quint8\", np.uint8, 1)])\n",
      "/Users/kanhua/miniconda3/envs/lyft-3d/lib/python3.7/site-packages/tensorflow/python/framework/dtypes.py:528: FutureWarning: Passing (type, 1) or '1type' as a synonym of type is deprecated; in a future version of numpy, it will be understood as (type, (1,)) / '(1,)type'.\n",
      "  _np_qint16 = np.dtype([(\"qint16\", np.int16, 1)])\n",
      "/Users/kanhua/miniconda3/envs/lyft-3d/lib/python3.7/site-packages/tensorflow/python/framework/dtypes.py:529: FutureWarning: Passing (type, 1) or '1type' as a synonym of type is deprecated; in a future version of numpy, it will be understood as (type, (1,)) / '(1,)type'.\n",
      "  _np_quint16 = np.dtype([(\"quint16\", np.uint16, 1)])\n",
      "/Users/kanhua/miniconda3/envs/lyft-3d/lib/python3.7/site-packages/tensorflow/python/framework/dtypes.py:530: FutureWarning: Passing (type, 1) or '1type' as a synonym of type is deprecated; in a future version of numpy, it will be understood as (type, (1,)) / '(1,)type'.\n",
      "  _np_qint32 = np.dtype([(\"qint32\", np.int32, 1)])\n",
      "/Users/kanhua/miniconda3/envs/lyft-3d/lib/python3.7/site-packages/tensorflow/python/framework/dtypes.py:535: FutureWarning: Passing (type, 1) or '1type' as a synonym of type is deprecated; in a future version of numpy, it will be understood as (type, (1,)) / '(1,)type'.\n",
      "  np_resource = np.dtype([(\"resource\", np.ubyte, 1)])\n"
     ]
    }
   ],
   "source": [
    "from mpl_toolkits.mplot3d import Axes3D\n",
    "import matplotlib.pyplot as plt\n",
    "from skimage.io import imread\n",
    "import numpy as np\n",
    "\n",
    "from prepare_lyft_data import extract_single_box, \\\n",
    "    parse_train_csv, level5data, extract_boxed_clouds, \\\n",
    "    get_sample_images, get_train_data_sample_token_and_box, \\\n",
    "    get_pc_in_image_fov, transform_bounding_box_to_sensor_coord_and_get_corners, \\\n",
    "    get_2d_corners_from_projected_box_coordinates, transform_image_to_world_coordinate,\\\n",
    "transform_world_to_image_coordinate,extract_other_sensor_token,\\\n",
    "transform_box_from_world_to_sensor_coordinates,get_box_yaw_angle_in_world_coords,get_sensor_to_world_transform_matrix\n",
    "from lyft_dataset_sdk.utils.data_classes import LidarPointCloud,Quaternion,Box\n",
    "from lyft_dataset_sdk.utils.geometry_utils import points_in_box,transform_matrix\n",
    "from parse_pointnet_output import rotate_pc_along_y,get_heading_angle,get_size,get_center_in_sensor_coord"
   ]
  },
  {
   "cell_type": "code",
   "execution_count": 3,
   "metadata": {},
   "outputs": [],
   "source": [
    "from provider import FrustumDataset"
   ]
  },
  {
   "cell_type": "code",
   "execution_count": 4,
   "metadata": {},
   "outputs": [],
   "source": [
    "lyft_data_file=\"/Users/kanhua/Dropbox/Programming/lyft-3d-main/artifact/lyft_val.pickle\"\n",
    "kitti_data_file=\"/Users/kanhua/Downloads/frustum-pointnets/kitti/frustum_carpedcyc_val.pickle\"\n",
    "NUM_POINT=1024"
   ]
  },
  {
   "cell_type": "code",
   "execution_count": 5,
   "metadata": {},
   "outputs": [],
   "source": [
    "dataset=FrustumDataset(npoints=NUM_POINT,split='val',\n",
    "                       from_rgb_detection=False,\n",
    "                    overwritten_data_path=lyft_data_file,one_hot=True,rotate_to_center=True)"
   ]
  },
  {
   "cell_type": "code",
   "execution_count": 6,
   "metadata": {},
   "outputs": [
    {
     "data": {
      "text/plain": [
       "(array([[-6.4413077e-01,  6.5482414e-01,  2.6300974e+01,  2.0000000e-01],\n",
       "        [ 1.7980810e+00,  1.4138216e+00,  6.2892551e+01,  2.0000000e-01],\n",
       "        [ 1.9375688e+00,  1.6449515e+00,  6.4407326e+01,  2.0000000e-01],\n",
       "        ...,\n",
       "        [-2.3532155e+00,  3.5846317e+00,  1.9318610e+02,  2.0000000e-01],\n",
       "        [ 8.2174110e-01,  1.4478656e+00,  2.6528210e+01,  2.0000000e-01],\n",
       "        [ 1.3673031e-01,  7.2741735e-01,  2.6187908e+01,  2.0000000e-01]],\n",
       "       dtype=float32),\n",
       " array([ True, False, False, ..., False,  True,  True]),\n",
       " array([ 0.0817595 ,  1.35748782, 27.71142014]),\n",
       " 9,\n",
       " 0.12832227093216186,\n",
       " 0,\n",
       " array([0.0198836 , 0.1694326 , 0.19636809]),\n",
       " -0.13009332397769513,\n",
       " array([1., 0., 0.]))"
      ]
     },
     "execution_count": 6,
     "metadata": {},
     "output_type": "execute_result"
    }
   ],
   "source": [
    "dataset[1]"
   ]
  },
  {
   "cell_type": "code",
   "execution_count": 7,
   "metadata": {},
   "outputs": [],
   "source": [
    "a=dataset[1]"
   ]
  },
  {
   "cell_type": "code",
   "execution_count": 8,
   "metadata": {},
   "outputs": [
    {
     "data": {
      "text/plain": [
       "9"
      ]
     },
     "execution_count": 8,
     "metadata": {},
     "output_type": "execute_result"
    }
   ],
   "source": [
    "len(a)"
   ]
  },
  {
   "cell_type": "code",
   "execution_count": 9,
   "metadata": {},
   "outputs": [
    {
     "data": {
      "text/plain": [
       "list"
      ]
     },
     "execution_count": 9,
     "metadata": {},
     "output_type": "execute_result"
    }
   ],
   "source": [
    "type(dataset.input_list)"
   ]
  },
  {
   "cell_type": "code",
   "execution_count": 10,
   "metadata": {},
   "outputs": [],
   "source": [
    "pointset=a[0]\n",
    "seg=a[1]\n",
    "box3d_center=a[2]\n",
    "rot_angle=a[7]"
   ]
  },
  {
   "cell_type": "code",
   "execution_count": 11,
   "metadata": {},
   "outputs": [
    {
     "data": {
      "text/plain": [
       "array([ 0.0817595 ,  1.35748782, 27.71142014])"
      ]
     },
     "execution_count": 11,
     "metadata": {},
     "output_type": "execute_result"
    }
   ],
   "source": [
    "box3d_center"
   ]
  },
  {
   "cell_type": "code",
   "execution_count": 12,
   "metadata": {},
   "outputs": [
    {
     "data": {
      "text/plain": [
       "-0.13009332397769513"
      ]
     },
     "execution_count": 12,
     "metadata": {},
     "output_type": "execute_result"
    }
   ],
   "source": [
    "rot_angle"
   ]
  },
  {
   "cell_type": "code",
   "execution_count": 13,
   "metadata": {},
   "outputs": [],
   "source": [
    "def rad2deg(radius):\n",
    "    return radius*180/np.pi"
   ]
  },
  {
   "cell_type": "code",
   "execution_count": 14,
   "metadata": {},
   "outputs": [
    {
     "data": {
      "text/plain": [
       "-7.453798406750006"
      ]
     },
     "execution_count": 14,
     "metadata": {},
     "output_type": "execute_result"
    }
   ],
   "source": [
    "rad2deg(rot_angle)"
   ]
  },
  {
   "cell_type": "code",
   "execution_count": 15,
   "metadata": {},
   "outputs": [],
   "source": [
    "seg=seg.astype(bool)"
   ]
  },
  {
   "cell_type": "code",
   "execution_count": 16,
   "metadata": {},
   "outputs": [],
   "source": [
    "pointset_before_transformation=dataset.input_list[1]"
   ]
  },
  {
   "cell_type": "code",
   "execution_count": 17,
   "metadata": {},
   "outputs": [
    {
     "data": {
      "text/plain": [
       "[<matplotlib.lines.Line2D at 0x186d6f7f0>]"
      ]
     },
     "execution_count": 17,
     "metadata": {},
     "output_type": "execute_result"
    },
    {
     "data": {
      "image/png": "[encoded data removed]",
      "text/plain": [
       "<Figure size 432x288 with 1 Axes>"
      ]
     },
     "metadata": {
      "needs_background": "light"
     },
     "output_type": "display_data"
    }
   ],
   "source": [
    "plt.plot(pointset[:,0],pointset[:,2],'.')\n",
    "plt.plot(pointset_before_transformation[:,0],pointset_before_transformation[:,2],'.')\n",
    "#plt.plot(pointset[seg,0],pointset[seg,2],'.')\n",
    "plt.plot(box3d_center[0],box3d_center[2],'.',markersize=10)"
   ]
  },
  {
   "cell_type": "code",
   "execution_count": 18,
   "metadata": {},
   "outputs": [
    {
     "data": {
      "text/plain": [
       "[<matplotlib.lines.Line2D at 0x14b1b32e8>]"
      ]
     },
     "execution_count": 18,
     "metadata": {},
     "output_type": "execute_result"
    },
    {
     "data": {
      "image/png": "[encoded data removed]",
      "text/plain": [
       "<Figure size 432x288 with 1 Axes>"
      ]
     },
     "metadata": {
      "needs_background": "light"
     },
     "output_type": "display_data"
    }
   ],
   "source": [
    "plt.plot(pointset_before_transformation[:,0],pointset_before_transformation[:,2],'.')"
   ]
  },
  {
   "cell_type": "code",
   "execution_count": 19,
   "metadata": {},
   "outputs": [
    {
     "data": {
      "text/plain": [
       "<mpl_toolkits.mplot3d.art3d.Path3DCollection at 0x14b298c88>"
      ]
     },
     "execution_count": 19,
     "metadata": {},
     "output_type": "execute_result"
    },
    {
     "data": {
      "image/png": "[encoded data removed]",
      "text/plain": [
       "<Figure size 432x288 with 1 Axes>"
      ]
     },
     "metadata": {
      "needs_background": "light"
     },
     "output_type": "display_data"
    }
   ],
   "source": [
    "sel_pointset=pointset[seg,:]\n",
    "fig = plt.figure()\n",
    "ax = fig.add_subplot(111, projection='3d')\n",
    "#ax.scatter(pointset[:,0], pointset[:,2], pointset[:,1])\n",
    "ax.scatter(sel_pointset[:,0],sel_pointset[:,2],sel_pointset[:,1])"
   ]
  },
  {
   "cell_type": "markdown",
   "metadata": {},
   "source": [
    "## See inference results"
   ]
  },
  {
   "cell_type": "code",
   "execution_count": 20,
   "metadata": {},
   "outputs": [],
   "source": [
    "from path_setting import MODEL_PATH_1\n",
    "\n",
    "import tensorflow as tf\n",
    "import importlib\n",
    "from train_util import get_batch\n",
    "from model_util import NUM_HEADING_BIN, NUM_SIZE_CLUSTER\n",
    "# Set training configurations\n",
    "BATCH_SIZE = 32\n",
    "MODEL_PATH = MODEL_PATH_v1 \n",
    "GPU_INDEX = 0\n",
    "MODEL = importlib.import_module(\"frustum_pointnets_v1\")\n",
    "NUM_CLASSES = 2\n",
    "NUM_CHANNEL = 4"
   ]
  },
  {
   "cell_type": "code",
   "execution_count": 21,
   "metadata": {},
   "outputs": [],
   "source": [
    "# functions excerpted from frustum-pointnet test.py\n",
    "def get_session_and_ops(batch_size, num_point):\n",
    "    ''' Define model graph, load model parameters,\n",
    "    create session and return session handle and tensors\n",
    "    '''\n",
    "    with tf.Graph().as_default():\n",
    "        with tf.device('/gpu:' + str(GPU_INDEX)):\n",
    "            pointclouds_pl, one_hot_vec_pl, labels_pl, centers_pl, \\\n",
    "            heading_class_label_pl, heading_residual_label_pl, \\\n",
    "            size_class_label_pl, size_residual_label_pl = \\\n",
    "                MODEL.placeholder_inputs(batch_size, num_point)\n",
    "            is_training_pl = tf.placeholder(tf.bool, shape=())\n",
    "            end_points = MODEL.get_model(pointclouds_pl, one_hot_vec_pl,\n",
    "                                         is_training_pl)\n",
    "            loss = MODEL.get_loss(labels_pl, centers_pl,\n",
    "                                  heading_class_label_pl, heading_residual_label_pl,\n",
    "                                  size_class_label_pl, size_residual_label_pl, end_points)\n",
    "            saver = tf.train.Saver()\n",
    "\n",
    "        # Create a session\n",
    "        config = tf.ConfigProto()\n",
    "        config.gpu_options.allow_growth = True\n",
    "        config.allow_soft_placement = True\n",
    "        sess = tf.Session(config=config)\n",
    "\n",
    "        # Restore variables from disk.\n",
    "        saver.restore(sess, MODEL_PATH)\n",
    "        ops = {'pointclouds_pl': pointclouds_pl,\n",
    "               'one_hot_vec_pl': one_hot_vec_pl,\n",
    "               'labels_pl': labels_pl,\n",
    "               'centers_pl': centers_pl,\n",
    "               'heading_class_label_pl': heading_class_label_pl,\n",
    "               'heading_residual_label_pl': heading_residual_label_pl,\n",
    "               'size_class_label_pl': size_class_label_pl,\n",
    "               'size_residual_label_pl': size_residual_label_pl,\n",
    "               'is_training_pl': is_training_pl,\n",
    "               'logits': end_points['mask_logits'],\n",
    "               'center': end_points['center'],\n",
    "               'end_points': end_points,\n",
    "               'loss': loss}\n",
    "        return sess, ops\n",
    "def softmax(x):\n",
    "    ''' Numpy function for softmax'''\n",
    "    shape = x.shape\n",
    "    probs = np.exp(x - np.max(x, axis=len(shape) - 1, keepdims=True))\n",
    "    probs /= np.sum(probs, axis=len(shape) - 1, keepdims=True)\n",
    "    return probs\n",
    "\n",
    "\n",
    "def inference(sess, ops, pc, one_hot_vec, batch_size):\n",
    "    ''' Run inference for frustum pointnets in batch mode '''\n",
    "    assert pc.shape[0] % batch_size == 0\n",
    "    num_batches = int(pc.shape[0] / batch_size)\n",
    "    logits = np.zeros((pc.shape[0], pc.shape[1], NUM_CLASSES))\n",
    "    centers = np.zeros((pc.shape[0], 3))\n",
    "    heading_logits = np.zeros((pc.shape[0], NUM_HEADING_BIN))\n",
    "    heading_residuals = np.zeros((pc.shape[0], NUM_HEADING_BIN))\n",
    "    size_logits = np.zeros((pc.shape[0], NUM_SIZE_CLUSTER))\n",
    "    size_residuals = np.zeros((pc.shape[0], NUM_SIZE_CLUSTER, 3))\n",
    "    scores = np.zeros((pc.shape[0],))  # 3D box score\n",
    "\n",
    "    ep = ops['end_points']\n",
    "    for i in range(num_batches):\n",
    "        feed_dict = { \\\n",
    "            ops['pointclouds_pl']: pc[i * batch_size:(i + 1) * batch_size, ...],\n",
    "            ops['one_hot_vec_pl']: one_hot_vec[i * batch_size:(i + 1) * batch_size, :],\n",
    "            ops['is_training_pl']: False}\n",
    "\n",
    "        batch_logits, batch_centers, \\\n",
    "        batch_heading_scores, batch_heading_residuals, \\\n",
    "        batch_size_scores, batch_size_residuals = \\\n",
    "            sess.run([ops['logits'], ops['center'],\n",
    "                      ep['heading_scores'], ep['heading_residuals'],\n",
    "                      ep['size_scores'], ep['size_residuals']],\n",
    "                     feed_dict=feed_dict)\n",
    "\n",
    "        logits[i * batch_size:(i + 1) * batch_size, ...] = batch_logits\n",
    "        centers[i * batch_size:(i + 1) * batch_size, ...] = batch_centers\n",
    "        heading_logits[i * batch_size:(i + 1) * batch_size, ...] = batch_heading_scores\n",
    "        heading_residuals[i * batch_size:(i + 1) * batch_size, ...] = batch_heading_residuals\n",
    "        size_logits[i * batch_size:(i + 1) * batch_size, ...] = batch_size_scores\n",
    "        size_residuals[i * batch_size:(i + 1) * batch_size, ...] = batch_size_residuals\n",
    "\n",
    "        # Compute scores\n",
    "        batch_seg_prob = softmax(batch_logits)[:, :, 1]  # BxN\n",
    "        batch_seg_mask = np.argmax(batch_logits, 2)  # BxN\n",
    "        mask_mean_prob = np.sum(batch_seg_prob * batch_seg_mask, 1)  # B,\n",
    "        mask_mean_prob = mask_mean_prob / np.sum(batch_seg_mask, 1)  # B,\n",
    "        heading_prob = np.max(softmax(batch_heading_scores), 1)  # B\n",
    "        size_prob = np.max(softmax(batch_size_scores), 1)  # B,\n",
    "        batch_scores = np.log(mask_mean_prob) + np.log(heading_prob) + np.log(size_prob)\n",
    "        scores[i * batch_size:(i + 1) * batch_size] = batch_scores\n",
    "        # Finished computing scores\n",
    "\n",
    "    heading_cls = np.argmax(heading_logits, 1)  # B\n",
    "    size_cls = np.argmax(size_logits, 1)  # B\n",
    "    heading_res = np.array([heading_residuals[i, heading_cls[i]] \\\n",
    "                            for i in range(pc.shape[0])])\n",
    "    size_res = np.vstack([size_residuals[i, size_cls[i], :] \\\n",
    "                          for i in range(pc.shape[0])])\n",
    "\n",
    "    return np.argmax(logits, 2), centers, heading_cls, heading_res, \\\n",
    "           size_cls, size_res, scores"
   ]
  },
  {
   "cell_type": "code",
   "execution_count": 22,
   "metadata": {},
   "outputs": [
    {
     "name": "stdout",
     "output_type": "stream",
     "text": [
      "\n",
      "WARNING: The TensorFlow contrib module will not be included in TensorFlow 2.0.\n",
      "For more information, please see:\n",
      "  * https://github.com/tensorflow/community/blob/master/rfcs/20180907-contrib-sunset.md\n",
      "  * https://github.com/tensorflow/addons\n",
      "If you depend on functionality not listed there, please file an issue.\n",
      "\n",
      "WARNING:tensorflow:From /Users/kanhua/miniconda3/envs/lyft-3d/lib/python3.7/site-packages/tensorflow/python/framework/op_def_library.py:263: colocate_with (from tensorflow.python.framework.ops) is deprecated and will be removed in a future version.\n",
      "Instructions for updating:\n",
      "Colocations handled automatically by placer.\n",
      "WARNING:tensorflow:From /Users/kanhua/Dropbox/Programming/lyft-3d-main/tf_util.py:613: calling dropout (from tensorflow.python.ops.nn_ops) with keep_prob is deprecated and will be removed in a future version.\n",
      "Instructions for updating:\n",
      "Please use `rate` instead of `keep_prob`. Rate should be set to `rate = 1 - keep_prob`.\n",
      "WARNING:tensorflow:From /Users/kanhua/Dropbox/Programming/lyft-3d-main/model_util.py:218: to_float (from tensorflow.python.ops.math_ops) is deprecated and will be removed in a future version.\n",
      "Instructions for updating:\n",
      "Use tf.cast instead.\n",
      "WARNING:tensorflow:From /Users/kanhua/Dropbox/Programming/lyft-3d-main/model_util.py:219: calling reduce_sum_v1 (from tensorflow.python.ops.math_ops) with keep_dims is deprecated and will be removed in a future version.\n",
      "Instructions for updating:\n",
      "keep_dims is deprecated, use keepdims instead\n",
      "WARNING:tensorflow:From /Users/kanhua/Dropbox/Programming/lyft-3d-main/model_util.py:71: py_func (from tensorflow.python.ops.script_ops) is deprecated and will be removed in a future version.\n",
      "Instructions for updating:\n",
      "tf.py_func is deprecated in TF V2. Instead, use\n",
      "    tf.py_function, which takes a python function which manipulates tf eager\n",
      "    tensors instead of numpy arrays. It's easy to convert a tf eager tensor to\n",
      "    an ndarray (just call tensor.numpy()) but having access to eager tensors\n",
      "    means `tf.py_function`s can use accelerators such as GPUs as well as\n",
      "    being differentiable using a gradient tape.\n",
      "    \n",
      "INFO:tensorflow:Summary name 3d mask loss is illegal; using 3d_mask_loss instead.\n",
      "INFO:tensorflow:Summary name center loss is illegal; using center_loss instead.\n",
      "INFO:tensorflow:Summary name stage1 center loss is illegal; using stage1_center_loss instead.\n",
      "INFO:tensorflow:Summary name heading class loss is illegal; using heading_class_loss instead.\n",
      "INFO:tensorflow:Summary name heading residual normalized loss is illegal; using heading_residual_normalized_loss instead.\n",
      "INFO:tensorflow:Summary name size class loss is illegal; using size_class_loss instead.\n",
      "INFO:tensorflow:Summary name size residual normalized loss is illegal; using size_residual_normalized_loss instead.\n",
      "INFO:tensorflow:Summary name corners loss is illegal; using corners_loss instead.\n",
      "WARNING:tensorflow:From /Users/kanhua/miniconda3/envs/lyft-3d/lib/python3.7/site-packages/tensorflow/python/training/saver.py:1266: checkpoint_exists (from tensorflow.python.training.checkpoint_management) is deprecated and will be removed in a future version.\n",
      "Instructions for updating:\n",
      "Use standard file APIs to check for files with this prefix.\n",
      "INFO:tensorflow:Restoring parameters from /Users/kanhua/Downloads/frustum-pointnets/train/log_v1/model.ckpt\n"
     ]
    }
   ],
   "source": [
    "sess, ops = get_session_and_ops(batch_size=BATCH_SIZE, num_point=NUM_POINT)"
   ]
  },
  {
   "cell_type": "code",
   "execution_count": 23,
   "metadata": {},
   "outputs": [
    {
     "name": "stdout",
     "output_type": "stream",
     "text": [
      "INFO:tensorflow:Summary name 3d mask loss is illegal; using 3d_mask_loss instead.\n",
      "INFO:tensorflow:Summary name center loss is illegal; using center_loss instead.\n",
      "INFO:tensorflow:Summary name stage1 center loss is illegal; using stage1_center_loss instead.\n",
      "INFO:tensorflow:Summary name heading class loss is illegal; using heading_class_loss instead.\n",
      "INFO:tensorflow:Summary name heading residual normalized loss is illegal; using heading_residual_normalized_loss instead.\n",
      "INFO:tensorflow:Summary name size class loss is illegal; using size_class_loss instead.\n",
      "INFO:tensorflow:Summary name size residual normalized loss is illegal; using size_residual_normalized_loss instead.\n",
      "INFO:tensorflow:Summary name corners loss is illegal; using corners_loss instead.\n",
      "INFO:tensorflow:Restoring parameters from /Users/kanhua/Downloads/frustum-pointnets/train/log_v1/model.ckpt\n"
     ]
    },
    {
     "name": "stderr",
     "output_type": "stream",
     "text": [
      "/Users/kanhua/miniconda3/envs/lyft-3d/lib/python3.7/site-packages/ipykernel_launcher.py:88: RuntimeWarning: invalid value encountered in true_divide\n"
     ]
    },
    {
     "name": "stdout",
     "output_type": "stream",
     "text": [
      "Segmentation accuracy: 0.808594\n"
     ]
    }
   ],
   "source": [
    "result_dir=None\n",
    "TEST_DATASET=dataset\n",
    "\n",
    "## Proecedures of test()\n",
    "ps_list = []\n",
    "seg_list = []\n",
    "segp_list = []\n",
    "center_list = []\n",
    "heading_cls_list = []\n",
    "heading_res_list = []\n",
    "size_cls_list = []\n",
    "size_res_list = []\n",
    "rot_angle_list = []\n",
    "score_list = []\n",
    "\n",
    "test_idxs = np.arange(0, len(TEST_DATASET))\n",
    "batch_size = BATCH_SIZE\n",
    "num_batches = int(len(TEST_DATASET) / batch_size)\n",
    "assert ((len(TEST_DATASET) % int(batch_size)) == 0)\n",
    "\n",
    "sess, ops = get_session_and_ops(batch_size=batch_size, num_point=NUM_POINT)\n",
    "correct_cnt = 0\n",
    "for batch_idx in range(num_batches):\n",
    "    #print('batch idx: %d' % (batch_idx))\n",
    "    start_idx = batch_idx * batch_size\n",
    "    end_idx = (batch_idx + 1) * batch_size\n",
    "\n",
    "    batch_data, batch_label, batch_center, \\\n",
    "    batch_hclass, batch_hres, batch_sclass, batch_sres, \\\n",
    "    batch_rot_angle, batch_one_hot_vec = \\\n",
    "        get_batch(TEST_DATASET, test_idxs, start_idx, end_idx,\n",
    "                  NUM_POINT, NUM_CHANNEL)\n",
    "\n",
    "    batch_output, batch_center_pred, \\\n",
    "    batch_hclass_pred, batch_hres_pred, \\\n",
    "    batch_sclass_pred, batch_sres_pred, batch_scores = \\\n",
    "        inference(sess, ops, batch_data,\n",
    "                  batch_one_hot_vec, batch_size=batch_size)\n",
    "\n",
    "    correct_cnt += np.sum(batch_output == batch_label)\n",
    "\n",
    "    for i in range(batch_output.shape[0]):\n",
    "        ps_list.append(batch_data[i, ...])\n",
    "        seg_list.append(batch_label[i, ...])\n",
    "        segp_list.append(batch_output[i, ...])\n",
    "        center_list.append(batch_center_pred[i, :])\n",
    "        heading_cls_list.append(batch_hclass_pred[i])\n",
    "        heading_res_list.append(batch_hres_pred[i])\n",
    "        size_cls_list.append(batch_sclass_pred[i])\n",
    "        size_res_list.append(batch_sres_pred[i, :])\n",
    "        rot_angle_list.append(batch_rot_angle[i])\n",
    "        score_list.append(batch_scores[i])\n",
    "\n",
    "print(\"Segmentation accuracy: %f\" % \\\n",
    "      (correct_cnt / float(batch_size * num_batches * NUM_POINT)))"
   ]
  },
  {
   "cell_type": "code",
   "execution_count": 24,
   "metadata": {},
   "outputs": [
    {
     "data": {
      "text/plain": [
       "64"
      ]
     },
     "execution_count": 24,
     "metadata": {},
     "output_type": "execute_result"
    }
   ],
   "source": [
    "len(TEST_DATASET)"
   ]
  },
  {
   "cell_type": "code",
   "execution_count": 25,
   "metadata": {},
   "outputs": [
    {
     "data": {
      "text/plain": [
       "-0.3008817902767154"
      ]
     },
     "execution_count": 25,
     "metadata": {},
     "output_type": "execute_result"
    }
   ],
   "source": [
    "score_list[0]"
   ]
  },
  {
   "cell_type": "code",
   "execution_count": 26,
   "metadata": {},
   "outputs": [
    {
     "data": {
      "text/plain": [
       "array([0, 1, 0, ..., 0, 0, 0])"
      ]
     },
     "execution_count": 26,
     "metadata": {},
     "output_type": "execute_result"
    }
   ],
   "source": [
    "segp_list[0]"
   ]
  },
  {
   "cell_type": "code",
   "execution_count": 27,
   "metadata": {},
   "outputs": [
    {
     "data": {
      "text/plain": [
       "array([1, 1, 0, ..., 1, 0, 0], dtype=int32)"
      ]
     },
     "execution_count": 27,
     "metadata": {},
     "output_type": "execute_result"
    }
   ],
   "source": [
    "seg_list[0]"
   ]
  },
  {
   "cell_type": "markdown",
   "metadata": {},
   "source": [
    "## Check the results"
   ]
  },
  {
   "cell_type": "code",
   "execution_count": 28,
   "metadata": {},
   "outputs": [
    {
     "data": {
      "text/plain": [
       "array([0.92480469])"
      ]
     },
     "execution_count": 28,
     "metadata": {},
     "output_type": "execute_result"
    }
   ],
   "source": [
    "data_idx=1\n",
    "np.sum(seg_list[data_idx]==segp_list[data_idx])/seg_list[data_idx].shape"
   ]
  },
  {
   "cell_type": "code",
   "execution_count": 29,
   "metadata": {},
   "outputs": [
    {
     "data": {
      "text/plain": [
       "473"
      ]
     },
     "execution_count": 29,
     "metadata": {},
     "output_type": "execute_result"
    }
   ],
   "source": [
    "np.sum(seg_list[data_idx])"
   ]
  },
  {
   "cell_type": "code",
   "execution_count": 30,
   "metadata": {},
   "outputs": [
    {
     "data": {
      "text/plain": [
       "406"
      ]
     },
     "execution_count": 30,
     "metadata": {},
     "output_type": "execute_result"
    }
   ],
   "source": [
    "np.sum(segp_list[data_idx])"
   ]
  },
  {
   "cell_type": "code",
   "execution_count": 31,
   "metadata": {},
   "outputs": [
    {
     "data": {
      "text/plain": [
       "<matplotlib.legend.Legend at 0x16f65a4e0>"
      ]
     },
     "execution_count": 31,
     "metadata": {},
     "output_type": "execute_result"
    },
    {
     "data": {
      "image/png": "[encoded data removed]",
      "text/plain": [
       "<Figure size 432x288 with 1 Axes>"
      ]
     },
     "metadata": {
      "needs_background": "light"
     },
     "output_type": "display_data"
    }
   ],
   "source": [
    "pointset=ps_list[data_idx]\n",
    "box3d_center=dataset[data_idx][2]\n",
    "plt.plot(pointset[:,0],pointset[:,2],'.')\n",
    "#plt.plot(pointset_before_transformation[:,0],pointset_before_transformation[:,2],'.')\n",
    "plt.plot(pointset[segp_list[data_idx],0],pointset[segp_list[data_idx],2],'.',label='predicted center')\n",
    "plt.plot(pointset[seg_list[data_idx],0],pointset[seg_list[data_idx],2],'.',label='gt center')\n",
    "plt.plot(box3d_center[0],box3d_center[2],'.',markersize=10)\n",
    "plt.legend()\n",
    "#plt.ylim([4,6])\n",
    "#plt.xlim([-1,1])"
   ]
  },
  {
   "cell_type": "markdown",
   "metadata": {},
   "source": [
    "## compare center"
   ]
  },
  {
   "cell_type": "markdown",
   "metadata": {},
   "source": [
    "predicted center coordinate"
   ]
  },
  {
   "cell_type": "code",
   "execution_count": 32,
   "metadata": {},
   "outputs": [
    {
     "data": {
      "text/plain": [
       "array([ 0.11834612,  1.26425159, 27.72505569])"
      ]
     },
     "execution_count": 32,
     "metadata": {},
     "output_type": "execute_result"
    }
   ],
   "source": [
    "pred_center=center_list[data_idx]\n",
    "pred_center"
   ]
  },
  {
   "cell_type": "markdown",
   "metadata": {},
   "source": [
    "gt center coordinate"
   ]
  },
  {
   "cell_type": "code",
   "execution_count": 33,
   "metadata": {},
   "outputs": [
    {
     "data": {
      "text/plain": [
       "array([ 0.0817595 ,  1.35748782, 27.71142014])"
      ]
     },
     "execution_count": 33,
     "metadata": {},
     "output_type": "execute_result"
    }
   ],
   "source": [
    "gt_center=dataset[data_idx][2]\n",
    "gt_center"
   ]
  },
  {
   "cell_type": "markdown",
   "metadata": {},
   "source": [
    "### Convert center back to the world coordinates"
   ]
  },
  {
   "cell_type": "code",
   "execution_count": null,
   "metadata": {},
   "outputs": [],
   "source": []
  },
  {
   "cell_type": "code",
   "execution_count": 34,
   "metadata": {},
   "outputs": [],
   "source": [
    "rot_angle=dataset[data_idx][7]"
   ]
  },
  {
   "cell_type": "code",
   "execution_count": 35,
   "metadata": {},
   "outputs": [
    {
     "data": {
      "text/plain": [
       "array([ 0.0817595 ,  1.35748782, 27.71142014])"
      ]
     },
     "execution_count": 35,
     "metadata": {},
     "output_type": "execute_result"
    }
   ],
   "source": [
    "gt_center"
   ]
  },
  {
   "cell_type": "code",
   "execution_count": 36,
   "metadata": {},
   "outputs": [
    {
     "data": {
      "text/plain": [
       "array([-3.51384188,  1.35748782, 27.48785925])"
      ]
     },
     "execution_count": 36,
     "metadata": {},
     "output_type": "execute_result"
    }
   ],
   "source": [
    "gt_center_before_rotation=rotate_pc_along_y(np.expand_dims(gt_center,0),rot_angle=-rot_angle).squeeze()\n",
    "gt_center_before_rotation"
   ]
  },
  {
   "cell_type": "code",
   "execution_count": 37,
   "metadata": {},
   "outputs": [
    {
     "data": {
      "text/plain": [
       "array([ 0.0817595 ,  1.35748782, 27.71142014])"
      ]
     },
     "execution_count": 37,
     "metadata": {},
     "output_type": "execute_result"
    }
   ],
   "source": [
    "rotate_pc_along_y(np.expand_dims(gt_center_before_rotation,0),rot_angle=rot_angle).squeeze()"
   ]
  },
  {
   "cell_type": "code",
   "execution_count": 38,
   "metadata": {},
   "outputs": [
    {
     "data": {
      "text/plain": [
       "array([-3.51384188,  1.35748782, 27.48785925])"
      ]
     },
     "execution_count": 38,
     "metadata": {},
     "output_type": "execute_result"
    }
   ],
   "source": [
    "gt_center_before_rotation"
   ]
  },
  {
   "cell_type": "markdown",
   "metadata": {},
   "source": [
    "## compare heading"
   ]
  },
  {
   "cell_type": "code",
   "execution_count": 39,
   "metadata": {},
   "outputs": [
    {
     "data": {
      "text/plain": [
       "9"
      ]
     },
     "execution_count": 39,
     "metadata": {},
     "output_type": "execute_result"
    }
   ],
   "source": [
    "heading_cls_list[data_idx]"
   ]
  },
  {
   "cell_type": "code",
   "execution_count": 40,
   "metadata": {},
   "outputs": [
    {
     "data": {
      "text/plain": [
       "0.11464983224868774"
      ]
     },
     "execution_count": 40,
     "metadata": {},
     "output_type": "execute_result"
    }
   ],
   "source": [
    "heading_res_list[data_idx]"
   ]
  },
  {
   "cell_type": "markdown",
   "metadata": {},
   "source": [
    "### predicted heading angle"
   ]
  },
  {
   "cell_type": "markdown",
   "metadata": {},
   "source": [
    "in radius"
   ]
  },
  {
   "cell_type": "code",
   "execution_count": 41,
   "metadata": {},
   "outputs": [
    {
     "data": {
      "text/plain": [
       "-1.4561464945462088"
      ]
     },
     "execution_count": 41,
     "metadata": {},
     "output_type": "execute_result"
    }
   ],
   "source": [
    "from provider import class2angle\n",
    "pred_angle_radius=class2angle(heading_cls_list[data_idx],heading_res_list[data_idx],NUM_HEADING_BIN)\n",
    "pred_angle_radius"
   ]
  },
  {
   "cell_type": "markdown",
   "metadata": {},
   "source": [
    "in degree"
   ]
  },
  {
   "cell_type": "code",
   "execution_count": 42,
   "metadata": {},
   "outputs": [
    {
     "data": {
      "text/plain": [
       "-83.43104849026732"
      ]
     },
     "execution_count": 42,
     "metadata": {},
     "output_type": "execute_result"
    }
   ],
   "source": [
    "pred_angle_degree=pred_angle_radius*180/np.pi\n",
    "pred_angle_degree"
   ]
  },
  {
   "cell_type": "code",
   "execution_count": 43,
   "metadata": {},
   "outputs": [],
   "source": [
    "## Plus rotation angle"
   ]
  },
  {
   "cell_type": "code",
   "execution_count": 44,
   "metadata": {},
   "outputs": [
    {
     "data": {
      "text/plain": [
       "-1.586239818523904"
      ]
     },
     "execution_count": 44,
     "metadata": {},
     "output_type": "execute_result"
    }
   ],
   "source": [
    "pred_angle_radius=class2angle(heading_cls_list[data_idx],\n",
    "                              heading_res_list[data_idx],NUM_HEADING_BIN)+dataset[data_idx][7]\n",
    "pred_angle_radius"
   ]
  },
  {
   "cell_type": "code",
   "execution_count": 45,
   "metadata": {},
   "outputs": [
    {
     "data": {
      "text/plain": [
       "9"
      ]
     },
     "execution_count": 45,
     "metadata": {},
     "output_type": "execute_result"
    }
   ],
   "source": [
    "dataset[data_idx][3]"
   ]
  },
  {
   "cell_type": "code",
   "execution_count": 46,
   "metadata": {},
   "outputs": [
    {
     "data": {
      "text/plain": [
       "3"
      ]
     },
     "execution_count": 46,
     "metadata": {},
     "output_type": "execute_result"
    }
   ],
   "source": [
    "dataset.id_list[data_idx]"
   ]
  },
  {
   "cell_type": "markdown",
   "metadata": {},
   "source": [
    "### heading angle ground truth:"
   ]
  },
  {
   "cell_type": "code",
   "execution_count": 47,
   "metadata": {},
   "outputs": [
    {
     "data": {
      "text/plain": [
       "-1.57256737984043"
      ]
     },
     "execution_count": 47,
     "metadata": {},
     "output_type": "execute_result"
    }
   ],
   "source": [
    "gt_angle_radius=dataset.heading_list[data_idx]\n",
    "gt_angle_radius"
   ]
  },
  {
   "cell_type": "code",
   "execution_count": 48,
   "metadata": {},
   "outputs": [
    {
     "data": {
      "text/plain": [
       "-90.10147386480287"
      ]
     },
     "execution_count": 48,
     "metadata": {},
     "output_type": "execute_result"
    }
   ],
   "source": [
    "gt_angle_degree=gt_angle_radius*180/np.pi\n",
    "gt_angle_degree"
   ]
  },
  {
   "cell_type": "code",
   "execution_count": 49,
   "metadata": {},
   "outputs": [
    {
     "data": {
      "text/plain": [
       "(array([ 1.,  0.,  0.,  0.,  1., 18., 33.,  1.,  1.,  0.,  0.,  0.,  0.,\n",
       "         0.,  0.,  0.,  0.,  0.,  0.,  0.,  0.,  1.,  0.,  0.,  0.,  0.,\n",
       "         0.,  0.,  0.,  0.,  0.,  0.,  0.,  0.,  1.,  0.,  5.,  0.,  0.,\n",
       "         0.,  0.,  0.,  0.,  0.,  0.,  0.,  0.,  0.,  0.,  2.]),\n",
       " array([-2.20223437, -2.09836852, -1.99450267, -1.89063682, -1.78677096,\n",
       "        -1.68290511, -1.57903926, -1.4751734 , -1.37130755, -1.2674417 ,\n",
       "        -1.16357585, -1.05970999, -0.95584414, -0.85197829, -0.74811243,\n",
       "        -0.64424658, -0.54038073, -0.43651487, -0.33264902, -0.22878317,\n",
       "        -0.12491732, -0.02105146,  0.08281439,  0.18668024,  0.2905461 ,\n",
       "         0.39441195,  0.4982778 ,  0.60214366,  0.70600951,  0.80987536,\n",
       "         0.91374121,  1.01760707,  1.12147292,  1.22533877,  1.32920463,\n",
       "         1.43307048,  1.53693633,  1.64080219,  1.74466804,  1.84853389,\n",
       "         1.95239974,  2.0562656 ,  2.16013145,  2.2639973 ,  2.36786316,\n",
       "         2.47172901,  2.57559486,  2.67946072,  2.78332657,  2.88719242,\n",
       "         2.99105827]),\n",
       " <a list of 50 Patch objects>)"
      ]
     },
     "execution_count": 49,
     "metadata": {},
     "output_type": "execute_result"
    },
    {
     "data": {
      "image/png": "[encoded data removed]",
      "text/plain": [
       "<Figure size 432x288 with 1 Axes>"
      ]
     },
     "metadata": {
      "needs_background": "light"
     },
     "output_type": "display_data"
    }
   ],
   "source": [
    "plt.hist(dataset.heading_list,bins=50)"
   ]
  },
  {
   "cell_type": "markdown",
   "metadata": {},
   "source": [
    "## Compare all heading angles"
   ]
  },
  {
   "cell_type": "code",
   "execution_count": 50,
   "metadata": {},
   "outputs": [
    {
     "data": {
      "text/plain": [
       "list"
      ]
     },
     "execution_count": 50,
     "metadata": {},
     "output_type": "execute_result"
    }
   ],
   "source": [
    "type(heading_cls_list)"
   ]
  },
  {
   "cell_type": "code",
   "execution_count": 51,
   "metadata": {},
   "outputs": [],
   "source": [
    "all_pred_angle_radius=np.empty(len(heading_cls_list))\n",
    "for idx in range(len(heading_cls_list)):\n",
    "    pred_angle_radius=class2angle(heading_cls_list[idx],heading_res_list[idx],NUM_HEADING_BIN)+dataset[idx][7]\n",
    "    all_pred_angle_radius[idx]=pred_angle_radius"
   ]
  },
  {
   "cell_type": "code",
   "execution_count": 52,
   "metadata": {},
   "outputs": [],
   "source": [
    "all_gt_angle_raidus=np.array(dataset.heading_list)"
   ]
  },
  {
   "cell_type": "code",
   "execution_count": 53,
   "metadata": {},
   "outputs": [
    {
     "data": {
      "text/plain": [
       "Text(0, 0.5, 'predicted heading angle')"
      ]
     },
     "execution_count": 53,
     "metadata": {},
     "output_type": "execute_result"
    },
    {
     "data": {
      "image/png": "[encoded data removed]",
      "text/plain": [
       "<Figure size 432x288 with 1 Axes>"
      ]
     },
     "metadata": {
      "needs_background": "light"
     },
     "output_type": "display_data"
    }
   ],
   "source": [
    "## plot in 2D\n",
    "plt.plot(all_gt_angle_raidus,all_pred_angle_radius,'.')\n",
    "plt.xlabel(\"ground truth heading angle\")\n",
    "plt.ylabel(\"predicted heading angle\")"
   ]
  },
  {
   "cell_type": "markdown",
   "metadata": {},
   "source": [
    "It seems the heading angle is of some classes are not correct."
   ]
  },
  {
   "cell_type": "markdown",
   "metadata": {},
   "source": [
    "## Compare box"
   ]
  },
  {
   "cell_type": "code",
   "execution_count": 54,
   "metadata": {},
   "outputs": [],
   "source": [
    "from provider import class2size"
   ]
  },
  {
   "cell_type": "markdown",
   "metadata": {},
   "source": [
    "predicted box size"
   ]
  },
  {
   "cell_type": "code",
   "execution_count": 55,
   "metadata": {},
   "outputs": [
    {
     "data": {
      "text/plain": [
       "array([3.75927761, 1.60904405, 1.5784937 ])"
      ]
     },
     "execution_count": 55,
     "metadata": {},
     "output_type": "execute_result"
    }
   ],
   "source": [
    "class2size(size_cls_list[data_idx],size_res_list[data_idx])"
   ]
  },
  {
   "cell_type": "markdown",
   "metadata": {},
   "source": [
    "ground truth of box size"
   ]
  },
  {
   "cell_type": "code",
   "execution_count": 56,
   "metadata": {},
   "outputs": [
    {
     "data": {
      "text/plain": [
       "array([3.903, 1.798, 1.722])"
      ]
     },
     "execution_count": 56,
     "metadata": {},
     "output_type": "execute_result"
    }
   ],
   "source": [
    "dataset.size_list[data_idx]"
   ]
  },
  {
   "cell_type": "markdown",
   "metadata": {},
   "source": [
    "## Convert the prediction back to world coordinates"
   ]
  },
  {
   "cell_type": "markdown",
   "metadata": {},
   "source": [
    "extract the token"
   ]
  },
  {
   "cell_type": "code",
   "execution_count": 57,
   "metadata": {},
   "outputs": [
    {
     "name": "stderr",
     "output_type": "stream",
     "text": [
      "100%|██████████| 22680/22680 [00:02<00:00, 9566.22it/s] \n"
     ]
    }
   ],
   "source": [
    "train_df=parse_train_csv()"
   ]
  },
  {
   "cell_type": "code",
   "execution_count": 58,
   "metadata": {},
   "outputs": [
    {
     "data": {
      "text/html": [
       "<div>\n",
       "<style scoped>\n",
       "    .dataframe tbody tr th:only-of-type {\n",
       "        vertical-align: middle;\n",
       "    }\n",
       "\n",
       "    .dataframe tbody tr th {\n",
       "        vertical-align: top;\n",
       "    }\n",
       "\n",
       "    .dataframe thead th {\n",
       "        text-align: right;\n",
       "    }\n",
       "</style>\n",
       "<table border=\"1\" class=\"dataframe\">\n",
       "  <thead>\n",
       "    <tr style=\"text-align: right;\">\n",
       "      <th></th>\n",
       "      <th>sample_id</th>\n",
       "      <th>object_id</th>\n",
       "      <th>center_x</th>\n",
       "      <th>center_y</th>\n",
       "      <th>center_z</th>\n",
       "      <th>width</th>\n",
       "      <th>length</th>\n",
       "      <th>height</th>\n",
       "      <th>yaw</th>\n",
       "      <th>class_name</th>\n",
       "    </tr>\n",
       "  </thead>\n",
       "  <tbody>\n",
       "    <tr>\n",
       "      <td>0</td>\n",
       "      <td>db8b47bd4ebdf3b3fb21598bb41bd8853d12f8d2ef25ce...</td>\n",
       "      <td>0</td>\n",
       "      <td>2680.283036</td>\n",
       "      <td>698.196929</td>\n",
       "      <td>-18.047767</td>\n",
       "      <td>2.064</td>\n",
       "      <td>5.488</td>\n",
       "      <td>2.053</td>\n",
       "      <td>2.6041643845397946</td>\n",
       "      <td>car</td>\n",
       "    </tr>\n",
       "  </tbody>\n",
       "</table>\n",
       "</div>"
      ],
      "text/plain": [
       "                                           sample_id  object_id     center_x  \\\n",
       "0  db8b47bd4ebdf3b3fb21598bb41bd8853d12f8d2ef25ce...          0  2680.283036   \n",
       "\n",
       "     center_y   center_z  width  length  height                 yaw class_name  \n",
       "0  698.196929 -18.047767  2.064   5.488   2.053  2.6041643845397946        car  "
      ]
     },
     "execution_count": 58,
     "metadata": {},
     "output_type": "execute_result"
    }
   ],
   "source": [
    "train_df.head(1)"
   ]
  },
  {
   "cell_type": "code",
   "execution_count": 59,
   "metadata": {},
   "outputs": [
    {
     "data": {
      "text/plain": [
       "'db8b47bd4ebdf3b3fb21598bb41bd8853d12f8d2ef25ce76edd4af4d04e49341'"
      ]
     },
     "execution_count": 59,
     "metadata": {},
     "output_type": "execute_result"
    }
   ],
   "source": [
    "sample_token=train_df.iloc[data_idx,0]\n",
    "sample_token"
   ]
  },
  {
   "cell_type": "code",
   "execution_count": 60,
   "metadata": {},
   "outputs": [],
   "source": []
  },
  {
   "cell_type": "markdown",
   "metadata": {},
   "source": [
    "### Convert ground truth box back to world coordiantes"
   ]
  },
  {
   "cell_type": "code",
   "execution_count": 63,
   "metadata": {},
   "outputs": [
    {
     "data": {
      "text/plain": [
       "-1.57256737984043"
      ]
     },
     "execution_count": 63,
     "metadata": {},
     "output_type": "execute_result"
    }
   ],
   "source": [
    "gt_angle"
   ]
  },
  {
   "cell_type": "code",
   "execution_count": 434,
   "metadata": {},
   "outputs": [],
   "source": [
    "gt_size=dataset.size_list[data_idx]\n",
    "gt_angle=dataset.heading_list[data_idx]\n",
    "l,w,h=gt_size\n",
    "\n",
    "first_rot=Quaternion(axis=[1,0,0],angle=np.pi/2)\n",
    "second_rot=Quaternion(axis=[0,-1,0],angle=-gt_angle)\n",
    "gt_box_in_sensor_coord=Box(center=gt_center_before_rotation,size=[w,l,h],\n",
    "                             orientation=second_rot*first_rot)\n",
    "\n",
    "\n",
    "#gt_box_in_sensor_coord.rotate(third_rot)"
   ]
  },
  {
   "cell_type": "code",
   "execution_count": 435,
   "metadata": {},
   "outputs": [
    {
     "data": {
      "text/plain": [
       "label: nan, score: nan, xyz: [-3.51, 1.36, 27.49], wlh: [1.80, 3.90, 1.72], rot axis: [0.58, -0.58, 0.58], ang(degrees): 120.06, ang(rad): 2.10, vel: nan, nan, nan, name: None, token: None"
      ]
     },
     "execution_count": 435,
     "metadata": {},
     "output_type": "execute_result"
    }
   ],
   "source": [
    "gt_box_in_sensor_coord"
   ]
  },
  {
   "cell_type": "code",
   "execution_count": 436,
   "metadata": {},
   "outputs": [],
   "source": [
    "cam_to_world_mtx=get_sensor_to_world_transform_matrix(sensor_type='CAM_FRONT',\n",
    "                                                      sample_token=train_df.iloc[dataset.id_list[data_idx],0])"
   ]
  },
  {
   "cell_type": "code",
   "execution_count": 437,
   "metadata": {},
   "outputs": [
    {
     "data": {
      "text/plain": [
       "array([-3.51384188,  1.35748782, 27.48785925,  1.        ])"
      ]
     },
     "execution_count": 437,
     "metadata": {},
     "output_type": "execute_result"
    }
   ],
   "source": [
    "gt_center_before_rotation_h=np.concatenate((gt_center_before_rotation,np.ones(1)))\n",
    "gt_center_before_rotation_h"
   ]
  },
  {
   "cell_type": "code",
   "execution_count": 438,
   "metadata": {},
   "outputs": [
    {
     "data": {
      "text/plain": [
       "array([ 2.67998692e+03,  7.06910150e+02, -1.83495944e+01,  1.00000000e+00])"
      ]
     },
     "execution_count": 438,
     "metadata": {},
     "output_type": "execute_result"
    }
   ],
   "source": [
    "np.dot(cam_to_world_mtx,np.transpose(gt_center_before_rotation_h))"
   ]
  },
  {
   "cell_type": "code",
   "execution_count": 439,
   "metadata": {},
   "outputs": [
    {
     "data": {
      "text/plain": [
       "label: nan, score: nan, xyz: [-3.51, 1.36, 27.49], wlh: [1.80, 3.90, 1.72], rot axis: [0.58, -0.58, 0.58], ang(degrees): 120.06, ang(rad): 2.10, vel: nan, nan, nan, name: None, token: None"
      ]
     },
     "execution_count": 439,
     "metadata": {},
     "output_type": "execute_result"
    }
   ],
   "source": [
    "gt_box_in_sensor_coord"
   ]
  },
  {
   "cell_type": "code",
   "execution_count": 440,
   "metadata": {},
   "outputs": [
    {
     "name": "stdout",
     "output_type": "stream",
     "text": [
      "(3, 8)\n"
     ]
    }
   ],
   "source": [
    "gt_box_in_sensor_coord_corners=gt_box_in_sensor_coord.corners()\n",
    "gt_box_in_sensor_coord_corners\n",
    "print(gt_box_in_sensor_coord_corners.shape)"
   ]
  },
  {
   "cell_type": "code",
   "execution_count": 441,
   "metadata": {},
   "outputs": [
    {
     "data": {
      "text/plain": [
       "(4, 8)"
      ]
     },
     "execution_count": 441,
     "metadata": {},
     "output_type": "execute_result"
    }
   ],
   "source": [
    "gt_box_in_sensor_coord_corners_h=np.concatenate((gt_box_in_sensor_coord_corners,np.ones((1,8))),axis=0)\n",
    "gt_box_in_sensor_coord_corners_h.shape"
   ]
  },
  {
   "cell_type": "code",
   "execution_count": 442,
   "metadata": {},
   "outputs": [
    {
     "data": {
      "text/plain": [
       "array([[ 2.67788134e+03,  2.67882913e+03,  2.67877784e+03,\n",
       "         2.67783005e+03,  2.68119599e+03,  2.68214378e+03,\n",
       "         2.68209250e+03,  2.68114470e+03],\n",
       "       [ 7.07185893e+02,  7.08713121e+02,  7.08693719e+02,\n",
       "         7.07166491e+02,  7.05126580e+02,  7.06653808e+02,\n",
       "         7.06634406e+02,  7.05107178e+02],\n",
       "       [-1.74285219e+01, -1.74739815e+01, -1.91951082e+01,\n",
       "        -1.91496486e+01, -1.75040806e+01, -1.75495403e+01,\n",
       "        -1.92706670e+01, -1.92252073e+01],\n",
       "       [ 1.00000000e+00,  1.00000000e+00,  1.00000000e+00,\n",
       "         1.00000000e+00,  1.00000000e+00,  1.00000000e+00,\n",
       "         1.00000000e+00,  1.00000000e+00]])"
      ]
     },
     "execution_count": 442,
     "metadata": {},
     "output_type": "execute_result"
    }
   ],
   "source": [
    "corners_in_world_coord=np.dot(cam_to_world_mtx,gt_box_in_sensor_coord_corners_h)\n",
    "corners_in_world_coord"
   ]
  },
  {
   "cell_type": "code",
   "execution_count": 443,
   "metadata": {},
   "outputs": [
    {
     "data": {
      "text/plain": [
       "label: nan, score: nan, xyz: [2679.99, 706.91, -18.35], wlh: [1.80, 3.90, 1.72], rot axis: [0.01, 0.01, 1.00], ang(degrees): 148.17, ang(rad): 2.59, vel: nan, nan, nan, name: None, token: None"
      ]
     },
     "execution_count": 443,
     "metadata": {},
     "output_type": "execute_result"
    }
   ],
   "source": [
    "gt_box_in_world_coord=convert_box_to_world_coord(gt_box_in_sensor_coord,\n",
    "                                                 sensor_type='CAM_FRONT',sample_token=train_df.iloc[data_idx,0])\n",
    "gt_box_in_world_coord"
   ]
  },
  {
   "cell_type": "code",
   "execution_count": 444,
   "metadata": {},
   "outputs": [
    {
     "data": {
      "text/plain": [
       "(2.5860887113052815, 0.02978828803180953, -0.011272491335927694)"
      ]
     },
     "execution_count": 444,
     "metadata": {},
     "output_type": "execute_result"
    }
   ],
   "source": [
    "gt_box_in_world_coord.orientation.yaw_pitch_roll"
   ]
  },
  {
   "cell_type": "code",
   "execution_count": 445,
   "metadata": {},
   "outputs": [
    {
     "data": {
      "text/plain": [
       "5.727268615369605"
      ]
     },
     "execution_count": 445,
     "metadata": {},
     "output_type": "execute_result"
    }
   ],
   "source": [
    "get_box_yaw_angle_in_world_coords(gt_box_in_world_coord)+np.pi"
   ]
  },
  {
   "cell_type": "code",
   "execution_count": 446,
   "metadata": {},
   "outputs": [
    {
     "data": {
      "text/plain": [
       "label: nan, score: nan, xyz: [2679.99, 706.91, -18.35], wlh: [1.80, 3.90, 1.72], rot axis: [0.00, 0.00, 1.00], ang(degrees): 148.18, ang(rad): 2.59, vel: nan, nan, nan, name: car, token: None"
      ]
     },
     "execution_count": 446,
     "metadata": {},
     "output_type": "execute_result"
    }
   ],
   "source": [
    "_,gt_box=get_train_data_sample_token_and_box(dataset.id_list[data_idx],train_df)\n",
    "gt_box"
   ]
  },
  {
   "cell_type": "code",
   "execution_count": null,
   "metadata": {},
   "outputs": [],
   "source": []
  },
  {
   "cell_type": "code",
   "execution_count": 447,
   "metadata": {},
   "outputs": [
    {
     "data": {
      "image/png": "[encoded data removed]",
      "text/plain": [
       "<Figure size 432x288 with 1 Axes>"
      ]
     },
     "metadata": {
      "needs_background": "light"
     },
     "output_type": "display_data"
    }
   ],
   "source": [
    "fig,ax=plt.subplots()\n",
    "view_mtx=np.eye(2)\n",
    "gt_box.render(ax,view=view_mtx)\n",
    "gt_box_in_world_coord.render(ax,view=view_mtx)"
   ]
  },
  {
   "cell_type": "code",
   "execution_count": 448,
   "metadata": {},
   "outputs": [
    {
     "data": {
      "image/png": "[encoded data removed]",
      "text/plain": [
       "<Figure size 432x288 with 1 Axes>"
      ]
     },
     "metadata": {
      "needs_background": "light"
     },
     "output_type": "display_data"
    }
   ],
   "source": [
    "fig,ax=plt.subplots()\n",
    "view_mtx=np.array([[0,1,0],[0,0,1],[0,0,0]])\n",
    "gt_box.render(ax,view=view_mtx)\n",
    "gt_box_in_world_coord.render(ax,view=view_mtx)"
   ]
  },
  {
   "cell_type": "code",
   "execution_count": null,
   "metadata": {},
   "outputs": [],
   "source": [
    "gt_box.corners()"
   ]
  },
  {
   "cell_type": "code",
   "execution_count": null,
   "metadata": {},
   "outputs": [],
   "source": [
    "gt_box_in_world_coord.corners()"
   ]
  },
  {
   "cell_type": "code",
   "execution_count": null,
   "metadata": {},
   "outputs": [],
   "source": [
    "get_box_yaw_angle_in_world_coords(gt_box_in_world_coord)"
   ]
  },
  {
   "cell_type": "code",
   "execution_count": null,
   "metadata": {},
   "outputs": [],
   "source": [
    "from prepare_lyft_data import get_box_corners_yaw_angle_in_world_coords\n",
    "get_box_corners_yaw_angle_in_world_coords(corners_in_world_coord[0:3,:])"
   ]
  },
  {
   "cell_type": "markdown",
   "metadata": {},
   "source": [
    "### Convert predicted box back to world coordinates"
   ]
  },
  {
   "cell_type": "code",
   "execution_count": null,
   "metadata": {},
   "outputs": [],
   "source": [
    "pred_size=class2size(size_cls_list[data_idx],size_res_list[data_idx])\n",
    "center=np.array(center_list[data_idx])\n",
    "rotated_back_center=rotate_pc_along_y(np.expand_dims(center,0),-rot_angle).squeeze()\n",
    "l,w,h=class2size(size_cls_list[data_idx],size_res_list[data_idx])\n",
    "pred_angle_radius=class2angle(heading_cls_list[data_idx],\n",
    "                              heading_res_list[data_idx],NUM_HEADING_BIN)+dataset[data_idx][7]\n",
    "pred_box_in_sensor_coord=Box(center=rotated_back_center,size=[h,l,w],\n",
    "                             orientation=Quaternion(axis=[0,-1,0],angle=pred_angle_radius+np.pi))"
   ]
  },
  {
   "cell_type": "code",
   "execution_count": null,
   "metadata": {},
   "outputs": [],
   "source": [
    "center"
   ]
  },
  {
   "cell_type": "code",
   "execution_count": null,
   "metadata": {},
   "outputs": [],
   "source": [
    "box_in_world_coord=convert_box_to_world_coord(pred_box_in_sensor_coord,\n",
    "                           sensor_type='CAM_FRONT',sample_token=train_df.iloc[data_idx,0])\n",
    "box_in_world_coord"
   ]
  },
  {
   "cell_type": "code",
   "execution_count": null,
   "metadata": {},
   "outputs": [],
   "source": [
    "train_df.iloc[data_idx,:]"
   ]
  },
  {
   "cell_type": "markdown",
   "metadata": {},
   "source": [
    "Calculate the yaw angle in world coordinates"
   ]
  },
  {
   "cell_type": "code",
   "execution_count": null,
   "metadata": {},
   "outputs": [],
   "source": [
    "get_box_yaw_angle_in_world_coords(box_in_world_coord)"
   ]
  },
  {
   "cell_type": "code",
   "execution_count": null,
   "metadata": {},
   "outputs": [],
   "source": []
  },
  {
   "cell_type": "code",
   "execution_count": null,
   "metadata": {},
   "outputs": [],
   "source": []
  },
  {
   "cell_type": "code",
   "execution_count": null,
   "metadata": {},
   "outputs": [],
   "source": []
  }
 ],
 "metadata": {
  "kernelspec": {
   "display_name": "Python 3",
   "language": "python",
   "name": "python3"
  },
  "language_info": {
   "codemirror_mode": {
    "name": "ipython",
    "version": 3
   },
   "file_extension": ".py",
   "mimetype": "text/x-python",
   "name": "python",
   "nbconvert_exporter": "python",
   "pygments_lexer": "ipython3",
   "version": "3.7.3"
  },
  "pycharm": {
   "stem_cell": {
    "cell_type": "raw",
    "source": [],
    "metadata": {
     "collapsed": false
    }
   }
  }
 },
 "nbformat": 4,
 "nbformat_minor": 2
}