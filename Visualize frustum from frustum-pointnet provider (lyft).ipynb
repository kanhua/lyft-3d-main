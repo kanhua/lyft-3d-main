{
 "cells": [
  {
   "cell_type": "code",
   "execution_count": 1,
   "metadata": {},
   "outputs": [],
   "source": [
    "%load_ext autoreload\n",
    "%autoreload 2"
   ]
  },
  {
   "cell_type": "code",
   "execution_count": 2,
   "metadata": {},
   "outputs": [
    {
     "name": "stderr",
     "output_type": "stream",
     "text": [
      "/Users/kanhua/miniconda3/envs/lyft-3d/lib/python3.7/site-packages/tensorflow/python/framework/dtypes.py:526: FutureWarning: Passing (type, 1) or '1type' as a synonym of type is deprecated; in a future version of numpy, it will be understood as (type, (1,)) / '(1,)type'.\n",
      "  _np_qint8 = np.dtype([(\"qint8\", np.int8, 1)])\n",
      "/Users/kanhua/miniconda3/envs/lyft-3d/lib/python3.7/site-packages/tensorflow/python/framework/dtypes.py:527: FutureWarning: Passing (type, 1) or '1type' as a synonym of type is deprecated; in a future version of numpy, it will be understood as (type, (1,)) / '(1,)type'.\n",
      "  _np_quint8 = np.dtype([(\"quint8\", np.uint8, 1)])\n",
      "/Users/kanhua/miniconda3/envs/lyft-3d/lib/python3.7/site-packages/tensorflow/python/framework/dtypes.py:528: FutureWarning: Passing (type, 1) or '1type' as a synonym of type is deprecated; in a future version of numpy, it will be understood as (type, (1,)) / '(1,)type'.\n",
      "  _np_qint16 = np.dtype([(\"qint16\", np.int16, 1)])\n",
      "/Users/kanhua/miniconda3/envs/lyft-3d/lib/python3.7/site-packages/tensorflow/python/framework/dtypes.py:529: FutureWarning: Passing (type, 1) or '1type' as a synonym of type is deprecated; in a future version of numpy, it will be understood as (type, (1,)) / '(1,)type'.\n",
      "  _np_quint16 = np.dtype([(\"quint16\", np.uint16, 1)])\n",
      "/Users/kanhua/miniconda3/envs/lyft-3d/lib/python3.7/site-packages/tensorflow/python/framework/dtypes.py:530: FutureWarning: Passing (type, 1) or '1type' as a synonym of type is deprecated; in a future version of numpy, it will be understood as (type, (1,)) / '(1,)type'.\n",
      "  _np_qint32 = np.dtype([(\"qint32\", np.int32, 1)])\n",
      "/Users/kanhua/miniconda3/envs/lyft-3d/lib/python3.7/site-packages/tensorflow/python/framework/dtypes.py:535: FutureWarning: Passing (type, 1) or '1type' as a synonym of type is deprecated; in a future version of numpy, it will be understood as (type, (1,)) / '(1,)type'.\n",
      "  np_resource = np.dtype([(\"resource\", np.ubyte, 1)])\n"
     ]
    }
   ],
   "source": [
    "import math\n",
    "from mpl_toolkits.mplot3d import Axes3D\n",
    "import matplotlib.pyplot as plt\n",
    "from skimage.io import imread\n",
    "import numpy as np\n",
    "\n",
    "from prepare_lyft_data import extract_single_box, \\\n",
    "    parse_train_csv, level5data, extract_boxed_clouds, \\\n",
    "    get_sample_images, get_train_data_sample_token_and_box, \\\n",
    "    get_pc_in_image_fov, transform_bounding_box_to_sensor_coord_and_get_corners, \\\n",
    "    get_2d_corners_from_projected_box_coordinates, transform_image_to_world_coordinate,\\\n",
    "transform_world_to_image_coordinate,extract_other_sensor_token,\\\n",
    "transform_box_from_world_to_sensor_coordinates,get_box_yaw_angle_in_world_coords,get_sensor_to_world_transform_matrix\n",
    "from lyft_dataset_sdk.utils.data_classes import LidarPointCloud,Quaternion,Box\n",
    "from lyft_dataset_sdk.utils.geometry_utils import points_in_box,transform_matrix"
   ]
  },
  {
   "cell_type": "code",
   "execution_count": 3,
   "metadata": {},
   "outputs": [],
   "source": [
    "from parse_pointnet_output import rotate_pc_along_y,get_heading_angle,get_size,get_center_in_sensor_coord"
   ]
  },
  {
   "cell_type": "code",
   "execution_count": 4,
   "metadata": {},
   "outputs": [],
   "source": [
    "from provider import FrustumDataset"
   ]
  },
  {
   "cell_type": "code",
   "execution_count": 5,
   "metadata": {},
   "outputs": [],
   "source": [
    "lyft_data_file=\"/Users/kanhua/Downloads/3d-object-detection-for-autonomous-vehicles/artifacts/lyft_frustum_0.pickle\"\n",
    "kitti_data_file=\"/Users/kanhua/Downloads/frustum-pointnets/kitti/frustum_carpedcyc_val.pickle\"\n",
    "NUM_POINT=1024"
   ]
  },
  {
   "cell_type": "code",
   "execution_count": 6,
   "metadata": {},
   "outputs": [],
   "source": [
    "dataset=FrustumDataset(npoints=NUM_POINT,split='val',\n",
    "                       from_rgb_detection=False,\n",
    "                    overwritten_data_path=lyft_data_file,one_hot=True,rotate_to_center=True)"
   ]
  },
  {
   "cell_type": "code",
   "execution_count": 7,
   "metadata": {},
   "outputs": [
    {
     "data": {
      "text/plain": [
       "(array([[ 2.1646714 ,  1.4332142 , 51.846912  ,  0.2       ],\n",
       "        [ 2.3225374 ,  1.7060972 , 38.49968   ,  0.2       ],\n",
       "        [-1.1521842 ,  1.8426272 , 36.506714  ,  0.2       ],\n",
       "        ...,\n",
       "        [ 1.5673212 ,  1.5668899 , 37.972775  ,  0.2       ],\n",
       "        [-0.05827877,  1.1065253 , 37.429638  ,  0.2       ],\n",
       "        [ 0.22677323,  0.88714653, 37.64883   ,  0.2       ]],\n",
       "       dtype=float32),\n",
       " array([False,  True,  True, ...,  True,  True,  True]),\n",
       " array([-0.07563623,  1.5687262 , 38.0366682 ]),\n",
       " 5,\n",
       " 0.041296602474495625,\n",
       " 0,\n",
       " array([ 1.3048836 ,  0.1334326 , -0.07863191]),\n",
       " 0.4946753662957697,\n",
       " array([1., 0., 0.]))"
      ]
     },
     "execution_count": 7,
     "metadata": {},
     "output_type": "execute_result"
    }
   ],
   "source": [
    "dataset[1]"
   ]
  },
  {
   "cell_type": "code",
   "execution_count": 8,
   "metadata": {},
   "outputs": [],
   "source": [
    "a=dataset[1]"
   ]
  },
  {
   "cell_type": "code",
   "execution_count": 9,
   "metadata": {},
   "outputs": [
    {
     "data": {
      "text/plain": [
       "9"
      ]
     },
     "execution_count": 9,
     "metadata": {},
     "output_type": "execute_result"
    }
   ],
   "source": [
    "len(a)"
   ]
  },
  {
   "cell_type": "code",
   "execution_count": 10,
   "metadata": {},
   "outputs": [
    {
     "data": {
      "text/plain": [
       "list"
      ]
     },
     "execution_count": 10,
     "metadata": {},
     "output_type": "execute_result"
    }
   ],
   "source": [
    "type(dataset.input_list)"
   ]
  },
  {
   "cell_type": "code",
   "execution_count": 11,
   "metadata": {},
   "outputs": [],
   "source": [
    "pointset=a[0]\n",
    "seg=a[1]\n",
    "box3d_center=a[2]\n",
    "rot_angle=a[7]"
   ]
  },
  {
   "cell_type": "code",
   "execution_count": 12,
   "metadata": {},
   "outputs": [
    {
     "data": {
      "text/plain": [
       "array([-0.07563623,  1.5687262 , 38.0366682 ])"
      ]
     },
     "execution_count": 12,
     "metadata": {},
     "output_type": "execute_result"
    }
   ],
   "source": [
    "box3d_center"
   ]
  },
  {
   "cell_type": "code",
   "execution_count": 13,
   "metadata": {},
   "outputs": [
    {
     "data": {
      "text/plain": [
       "0.4946753662957697"
      ]
     },
     "execution_count": 13,
     "metadata": {},
     "output_type": "execute_result"
    }
   ],
   "source": [
    "rot_angle"
   ]
  },
  {
   "cell_type": "code",
   "execution_count": 14,
   "metadata": {},
   "outputs": [],
   "source": [
    "def rad2deg(radius):\n",
    "    return radius*180/np.pi"
   ]
  },
  {
   "cell_type": "code",
   "execution_count": 15,
   "metadata": {},
   "outputs": [
    {
     "data": {
      "text/plain": [
       "28.342810717835654"
      ]
     },
     "execution_count": 15,
     "metadata": {},
     "output_type": "execute_result"
    }
   ],
   "source": [
    "rad2deg(rot_angle)"
   ]
  },
  {
   "cell_type": "code",
   "execution_count": 16,
   "metadata": {},
   "outputs": [],
   "source": [
    "seg=seg.astype(bool)"
   ]
  },
  {
   "cell_type": "code",
   "execution_count": 17,
   "metadata": {},
   "outputs": [],
   "source": [
    "pointset_before_transformation=dataset.input_list[1]"
   ]
  },
  {
   "cell_type": "code",
   "execution_count": 18,
   "metadata": {},
   "outputs": [
    {
     "data": {
      "text/plain": [
       "[<matplotlib.lines.Line2D at 0x1a06fae80>]"
      ]
     },
     "execution_count": 18,
     "metadata": {},
     "output_type": "execute_result"
    },
    {
     "data": {
      "image/png": "[encoded data removed]",
      "text/plain": [
       "<Figure size 432x288 with 1 Axes>"
      ]
     },
     "metadata": {
      "needs_background": "light"
     },
     "output_type": "display_data"
    }
   ],
   "source": [
    "plt.plot(pointset[:,0],pointset[:,2],'.')\n",
    "plt.plot(pointset_before_transformation[:,0],pointset_before_transformation[:,2],'.')\n",
    "#plt.plot(pointset[seg,0],pointset[seg,2],'.')\n",
    "plt.plot(box3d_center[0],box3d_center[2],'.',markersize=10)"
   ]
  },
  {
   "cell_type": "code",
   "execution_count": 19,
   "metadata": {},
   "outputs": [
    {
     "data": {
      "text/plain": [
       "[<matplotlib.lines.Line2D at 0x157bde278>]"
      ]
     },
     "execution_count": 19,
     "metadata": {},
     "output_type": "execute_result"
    },
    {
     "data": {
      "image/png": "[encoded data removed]",
      "text/plain": [
       "<Figure size 432x288 with 1 Axes>"
      ]
     },
     "metadata": {
      "needs_background": "light"
     },
     "output_type": "display_data"
    }
   ],
   "source": [
    "plt.plot(pointset_before_transformation[:,0],pointset_before_transformation[:,2],'.')"
   ]
  },
  {
   "cell_type": "code",
   "execution_count": 20,
   "metadata": {},
   "outputs": [
    {
     "data": {
      "text/plain": [
       "<mpl_toolkits.mplot3d.art3d.Path3DCollection at 0x157c152b0>"
      ]
     },
     "execution_count": 20,
     "metadata": {},
     "output_type": "execute_result"
    },
    {
     "data": {
      "image/png": "[encoded data removed]",
      "text/plain": [
       "<Figure size 432x288 with 1 Axes>"
      ]
     },
     "metadata": {
      "needs_background": "light"
     },
     "output_type": "display_data"
    }
   ],
   "source": [
    "sel_pointset=pointset[seg,:]\n",
    "fig = plt.figure()\n",
    "ax = fig.add_subplot(111, projection='3d')\n",
    "#ax.scatter(pointset[:,0], pointset[:,2], pointset[:,1])\n",
    "ax.scatter(sel_pointset[:,0],sel_pointset[:,2],sel_pointset[:,1])"
   ]
  },
  {
   "cell_type": "markdown",
   "metadata": {},
   "source": [
    "## See inference results"
   ]
  },
  {
   "cell_type": "code",
   "execution_count": 21,
   "metadata": {},
   "outputs": [],
   "source": [
    "from config_tool import get_paths\n",
    "\n",
    "import tensorflow as tf\n",
    "import importlib\n",
    "from train_util import get_batch\n",
    "from model_util import NUM_HEADING_BIN, NUM_SIZE_CLUSTER\n",
    "# Set training configurations\n",
    "BATCH_SIZE = 32\n",
    "MODEL_PATH = get_paths()[2]\n",
    "GPU_INDEX = 0\n",
    "MODEL = importlib.import_module(\"frustum_pointnets_v1\")\n",
    "NUM_CLASSES = 2\n",
    "NUM_CHANNEL = 4"
   ]
  },
  {
   "cell_type": "code",
   "execution_count": 28,
   "metadata": {},
   "outputs": [],
   "source": [
    "# functions excerpted from frustum-pointnet test.py\n",
    "def get_session_and_ops(batch_size, num_point):\n",
    "    ''' Define model graph, load model parameters,\n",
    "    create session and return session handle and tensors\n",
    "    '''\n",
    "    with tf.Graph().as_default():\n",
    "        with tf.device('/gpu:' + str(GPU_INDEX)):\n",
    "            pointclouds_pl, one_hot_vec_pl, labels_pl, centers_pl, \\\n",
    "            heading_class_label_pl, heading_residual_label_pl, \\\n",
    "            size_class_label_pl, size_residual_label_pl = \\\n",
    "                MODEL.placeholder_inputs(batch_size, num_point)\n",
    "            is_training_pl = tf.placeholder(tf.bool, shape=())\n",
    "            end_points = MODEL.get_model(pointclouds_pl, one_hot_vec_pl,\n",
    "                                         is_training_pl)\n",
    "            loss = MODEL.get_loss(labels_pl, centers_pl,\n",
    "                                  heading_class_label_pl, heading_residual_label_pl,\n",
    "                                  size_class_label_pl, size_residual_label_pl, end_points)\n",
    "            saver = tf.train.Saver()\n",
    "\n",
    "        # Create a session\n",
    "        config = tf.ConfigProto()\n",
    "        config.gpu_options.allow_growth = True\n",
    "        config.allow_soft_placement = True\n",
    "        sess = tf.Session(config=config)\n",
    "\n",
    "        # Restore variables from disk.\n",
    "        saver.restore(sess, MODEL_PATH)\n",
    "        ops = {'pointclouds_pl': pointclouds_pl,\n",
    "               'one_hot_vec_pl': one_hot_vec_pl,\n",
    "               'labels_pl': labels_pl,\n",
    "               'centers_pl': centers_pl,\n",
    "               'heading_class_label_pl': heading_class_label_pl,\n",
    "               'heading_residual_label_pl': heading_residual_label_pl,\n",
    "               'size_class_label_pl': size_class_label_pl,\n",
    "               'size_residual_label_pl': size_residual_label_pl,\n",
    "               'is_training_pl': is_training_pl,\n",
    "               'logits': end_points['mask_logits'],\n",
    "               'center': end_points['center'],\n",
    "               'end_points': end_points,\n",
    "               'loss': loss}\n",
    "        return sess, ops\n",
    "def softmax(x):\n",
    "    ''' Numpy function for softmax'''\n",
    "    shape = x.shape\n",
    "    probs = np.exp(x - np.max(x, axis=len(shape) - 1, keepdims=True))\n",
    "    probs /= np.sum(probs, axis=len(shape) - 1, keepdims=True)\n",
    "    return probs\n",
    "\n",
    "\n",
    "def inference(sess, ops, pc, one_hot_vec, batch_size):\n",
    "    ''' Run inference for frustum pointnets in batch mode '''\n",
    "    #    assert pc.shape[0] % batch_size == 0\n",
    "    num_batches = math.ceil(pc.shape[0] / batch_size)\n",
    "    logits = np.zeros((pc.shape[0], pc.shape[1], NUM_CLASSES))\n",
    "    centers = np.zeros((pc.shape[0], 3))\n",
    "    heading_logits = np.zeros((pc.shape[0], NUM_HEADING_BIN))\n",
    "    heading_residuals = np.zeros((pc.shape[0], NUM_HEADING_BIN))\n",
    "    size_logits = np.zeros((pc.shape[0], NUM_SIZE_CLUSTER))\n",
    "    size_residuals = np.zeros((pc.shape[0], NUM_SIZE_CLUSTER, 3))\n",
    "    scores = np.zeros((pc.shape[0],))  # 3D box score\n",
    "\n",
    "    ep = ops['end_points']\n",
    "    for i in range(num_batches):\n",
    "        start_idx = i * batch_size\n",
    "        end_idx = min((i + 1) * batch_size, pc.shape[0])\n",
    "\n",
    "        feed_dict = { \\\n",
    "            ops['pointclouds_pl']: pc[start_idx:end_idx, ...],\n",
    "            ops['one_hot_vec_pl']: one_hot_vec[start_idx:end_idx, :],\n",
    "            ops['is_training_pl']: False}\n",
    "\n",
    "        batch_logits, batch_centers, \\\n",
    "        batch_heading_scores, batch_heading_residuals, \\\n",
    "        batch_size_scores, batch_size_residuals = \\\n",
    "            sess.run([ops['logits'], ops['center'],\n",
    "                      ep['heading_scores'], ep['heading_residuals'],\n",
    "                      ep['size_scores'], ep['size_residuals']],\n",
    "                     feed_dict=feed_dict)\n",
    "\n",
    "        logits[start_idx:end_idx, ...] = batch_logits\n",
    "        centers[start_idx:end_idx, ...] = batch_centers\n",
    "        heading_logits[start_idx:end_idx, ...] = batch_heading_scores\n",
    "        heading_residuals[start_idx:end_idx, ...] = batch_heading_residuals\n",
    "        size_logits[start_idx:end_idx, ...] = batch_size_scores\n",
    "        size_residuals[start_idx:end_idx, ...] = batch_size_residuals\n",
    "\n",
    "        # Compute scores\n",
    "        batch_seg_prob = softmax(batch_logits)[:, :, 1]  # BxN\n",
    "        batch_seg_mask = np.argmax(batch_logits, 2)  # BxN\n",
    "        mask_mean_prob = np.sum(batch_seg_prob * batch_seg_mask, 1)  # B,\n",
    "        mask_mean_prob = mask_mean_prob / np.sum(batch_seg_mask, 1)  # B,\n",
    "        heading_prob = np.max(softmax(batch_heading_scores), 1)  # B\n",
    "        size_prob = np.max(softmax(batch_size_scores), 1)  # B,\n",
    "        # batch score includes the score of segmentation mask accuracy, heading, and size\n",
    "        batch_scores = np.log(mask_mean_prob) + np.log(heading_prob) + np.log(size_prob)\n",
    "        scores[start_idx:end_idx] = batch_scores\n",
    "        # Finished computing scores\n",
    "\n",
    "    heading_cls = np.argmax(heading_logits, 1)  # B\n",
    "    size_cls = np.argmax(size_logits, 1)  # B\n",
    "    heading_res = np.array([heading_residuals[i, heading_cls[i]] \\\n",
    "                            for i in range(pc.shape[0])])\n",
    "    size_res = np.vstack([size_residuals[i, size_cls[i], :] \\\n",
    "                          for i in range(pc.shape[0])])\n",
    "\n",
    "    return np.argmax(logits, 2), centers, heading_cls, heading_res, \\\n",
    "           size_cls, size_res, scores"
   ]
  },
  {
   "cell_type": "code",
   "execution_count": 29,
   "metadata": {},
   "outputs": [
    {
     "name": "stdout",
     "output_type": "stream",
     "text": [
      "INFO:tensorflow:Summary name 3d mask loss is illegal; using 3d_mask_loss instead.\n",
      "INFO:tensorflow:Summary name center loss is illegal; using center_loss instead.\n",
      "INFO:tensorflow:Summary name stage1 center loss is illegal; using stage1_center_loss instead.\n",
      "INFO:tensorflow:Summary name heading class loss is illegal; using heading_class_loss instead.\n",
      "INFO:tensorflow:Summary name heading residual normalized loss is illegal; using heading_residual_normalized_loss instead.\n",
      "INFO:tensorflow:Summary name size class loss is illegal; using size_class_loss instead.\n",
      "INFO:tensorflow:Summary name size residual normalized loss is illegal; using size_residual_normalized_loss instead.\n",
      "INFO:tensorflow:Summary name corners loss is illegal; using corners_loss instead.\n",
      "INFO:tensorflow:Restoring parameters from log_v1/model.ckpt\n"
     ]
    }
   ],
   "source": [
    "sess, ops = get_session_and_ops(batch_size=BATCH_SIZE, num_point=NUM_POINT)"
   ]
  },
  {
   "cell_type": "code",
   "execution_count": 30,
   "metadata": {},
   "outputs": [
    {
     "name": "stdout",
     "output_type": "stream",
     "text": [
      "INFO:tensorflow:Summary name 3d mask loss is illegal; using 3d_mask_loss instead.\n",
      "INFO:tensorflow:Summary name center loss is illegal; using center_loss instead.\n",
      "INFO:tensorflow:Summary name stage1 center loss is illegal; using stage1_center_loss instead.\n",
      "INFO:tensorflow:Summary name heading class loss is illegal; using heading_class_loss instead.\n",
      "INFO:tensorflow:Summary name heading residual normalized loss is illegal; using heading_residual_normalized_loss instead.\n",
      "INFO:tensorflow:Summary name size class loss is illegal; using size_class_loss instead.\n",
      "INFO:tensorflow:Summary name size residual normalized loss is illegal; using size_residual_normalized_loss instead.\n",
      "INFO:tensorflow:Summary name corners loss is illegal; using corners_loss instead.\n",
      "INFO:tensorflow:Restoring parameters from log_v1/model.ckpt\n",
      "batch idx: 0\n",
      "start idx: 0, end idx: 32\n",
      "batch idx: 1\n",
      "start idx: 32, end idx: 36\n",
      "INFO:tensorflow:Summary name 3d mask loss is illegal; using 3d_mask_loss instead.\n",
      "INFO:tensorflow:Summary name center loss is illegal; using center_loss instead.\n",
      "INFO:tensorflow:Summary name stage1 center loss is illegal; using stage1_center_loss instead.\n",
      "INFO:tensorflow:Summary name heading class loss is illegal; using heading_class_loss instead.\n",
      "INFO:tensorflow:Summary name heading residual normalized loss is illegal; using heading_residual_normalized_loss instead.\n",
      "INFO:tensorflow:Summary name size class loss is illegal; using size_class_loss instead.\n",
      "INFO:tensorflow:Summary name size residual normalized loss is illegal; using size_residual_normalized_loss instead.\n",
      "INFO:tensorflow:Summary name corners loss is illegal; using corners_loss instead.\n",
      "INFO:tensorflow:Restoring parameters from log_v1/model.ckpt\n",
      "Segmentation accuracy: 0.513000\n"
     ]
    }
   ],
   "source": [
    "result_dir=None\n",
    "TEST_DATASET=dataset\n",
    "\n",
    "ps_list = []\n",
    "seg_list = []\n",
    "segp_list = []\n",
    "center_list = []\n",
    "heading_cls_list = []\n",
    "heading_res_list = []\n",
    "size_cls_list = []\n",
    "size_res_list = []\n",
    "rot_angle_list = []\n",
    "score_list = []\n",
    "\n",
    "test_idxs = np.arange(0, len(TEST_DATASET))\n",
    "batch_size = BATCH_SIZE\n",
    "num_batches = math.ceil(len(TEST_DATASET) / batch_size)\n",
    "# assert ((len(TEST_DATASET) % int(batch_size)) == 0)\n",
    "\n",
    "sess, ops = get_session_and_ops(batch_size=batch_size, num_point=NUM_POINT)\n",
    "correct_cnt = 0\n",
    "for batch_idx in range(num_batches):\n",
    "    print('batch idx: %d' % (batch_idx))\n",
    "\n",
    "    start_idx = batch_idx * batch_size\n",
    "    end_idx = min(len(TEST_DATASET), (batch_idx + 1) * batch_size)\n",
    "    print('start idx: {}, end idx: {}'.format(start_idx, end_idx))\n",
    "\n",
    "    if (end_idx-start_idx)!=batch_size:\n",
    "        sess, ops = get_session_and_ops(batch_size=(end_idx-start_idx), num_point=NUM_POINT)\n",
    "\n",
    "    batch_data, batch_label, batch_center, \\\n",
    "    batch_hclass, batch_hres, batch_sclass, batch_sres, \\\n",
    "    batch_rot_angle, batch_one_hot_vec = \\\n",
    "        get_batch(TEST_DATASET, test_idxs, start_idx, end_idx,\n",
    "                  NUM_POINT, NUM_CHANNEL)\n",
    "\n",
    "    batch_output, batch_center_pred, \\\n",
    "    batch_hclass_pred, batch_hres_pred, \\\n",
    "    batch_sclass_pred, batch_sres_pred, batch_scores = \\\n",
    "        inference(sess, ops, batch_data,\n",
    "                  batch_one_hot_vec, batch_size=batch_size)\n",
    "\n",
    "    correct_cnt += np.sum(batch_output == batch_label)\n",
    "\n",
    "    for i in range(batch_output.shape[0]):\n",
    "        ps_list.append(batch_data[i, ...])\n",
    "        seg_list.append(batch_label[i, ...])\n",
    "        segp_list.append(batch_output[i, ...])\n",
    "        center_list.append(batch_center_pred[i, :])\n",
    "        heading_cls_list.append(batch_hclass_pred[i])\n",
    "        heading_res_list.append(batch_hres_pred[i])\n",
    "        size_cls_list.append(batch_sclass_pred[i])\n",
    "        size_res_list.append(batch_sres_pred[i, :])\n",
    "        rot_angle_list.append(batch_rot_angle[i])\n",
    "        score_list.append(batch_scores[i])\n",
    "\n",
    "print(\"Segmentation accuracy: %f\" % \\\n",
    "      (correct_cnt / float(batch_size * num_batches * NUM_POINT)))"
   ]
  },
  {
   "cell_type": "code",
   "execution_count": 31,
   "metadata": {},
   "outputs": [
    {
     "data": {
      "text/plain": [
       "36"
      ]
     },
     "execution_count": 31,
     "metadata": {},
     "output_type": "execute_result"
    }
   ],
   "source": [
    "len(TEST_DATASET)"
   ]
  },
  {
   "cell_type": "code",
   "execution_count": 32,
   "metadata": {},
   "outputs": [
    {
     "data": {
      "text/plain": [
       "-0.6984576224842785"
      ]
     },
     "execution_count": 32,
     "metadata": {},
     "output_type": "execute_result"
    }
   ],
   "source": [
    "score_list[0]"
   ]
  },
  {
   "cell_type": "code",
   "execution_count": 33,
   "metadata": {},
   "outputs": [
    {
     "data": {
      "text/plain": [
       "array([1, 1, 1, ..., 1, 0, 0])"
      ]
     },
     "execution_count": 33,
     "metadata": {},
     "output_type": "execute_result"
    }
   ],
   "source": [
    "segp_list[0]"
   ]
  },
  {
   "cell_type": "code",
   "execution_count": 34,
   "metadata": {},
   "outputs": [
    {
     "data": {
      "text/plain": [
       "array([1, 0, 1, ..., 1, 0, 0], dtype=int32)"
      ]
     },
     "execution_count": 34,
     "metadata": {},
     "output_type": "execute_result"
    }
   ],
   "source": [
    "seg_list[0]"
   ]
  },
  {
   "cell_type": "markdown",
   "metadata": {},
   "source": [
    "## Check the results"
   ]
  },
  {
   "cell_type": "code",
   "execution_count": 35,
   "metadata": {},
   "outputs": [
    {
     "data": {
      "text/plain": [
       "array([0.94042969])"
      ]
     },
     "execution_count": 35,
     "metadata": {},
     "output_type": "execute_result"
    }
   ],
   "source": [
    "data_idx=1\n",
    "np.sum(seg_list[data_idx]==segp_list[data_idx])/seg_list[data_idx].shape"
   ]
  },
  {
   "cell_type": "code",
   "execution_count": 36,
   "metadata": {},
   "outputs": [
    {
     "data": {
      "text/plain": [
       "624"
      ]
     },
     "execution_count": 36,
     "metadata": {},
     "output_type": "execute_result"
    }
   ],
   "source": [
    "np.sum(seg_list[data_idx])"
   ]
  },
  {
   "cell_type": "code",
   "execution_count": 37,
   "metadata": {},
   "outputs": [
    {
     "data": {
      "text/plain": [
       "671"
      ]
     },
     "execution_count": 37,
     "metadata": {},
     "output_type": "execute_result"
    }
   ],
   "source": [
    "np.sum(segp_list[data_idx])"
   ]
  },
  {
   "cell_type": "code",
   "execution_count": 38,
   "metadata": {},
   "outputs": [
    {
     "data": {
      "text/plain": [
       "<matplotlib.legend.Legend at 0x16603a2b0>"
      ]
     },
     "execution_count": 38,
     "metadata": {},
     "output_type": "execute_result"
    },
    {
     "data": {
      "image/png": "[encoded data removed]",
      "text/plain": [
       "<Figure size 432x288 with 1 Axes>"
      ]
     },
     "metadata": {
      "needs_background": "light"
     },
     "output_type": "display_data"
    }
   ],
   "source": [
    "pointset=ps_list[data_idx]\n",
    "box3d_center=dataset[data_idx][2]\n",
    "plt.plot(pointset[:,0],pointset[:,2],'.')\n",
    "#plt.plot(pointset_before_transformation[:,0],pointset_before_transformation[:,2],'.')\n",
    "plt.plot(pointset[segp_list[data_idx],0],pointset[segp_list[data_idx],2],'.',label='predicted center')\n",
    "plt.plot(pointset[seg_list[data_idx],0],pointset[seg_list[data_idx],2],'.',label='gt center')\n",
    "plt.plot(box3d_center[0],box3d_center[2],'.',markersize=10)\n",
    "plt.legend()\n",
    "#plt.ylim([4,6])\n",
    "#plt.xlim([-1,1])"
   ]
  },
  {
   "cell_type": "markdown",
   "metadata": {},
   "source": [
    "## compare center"
   ]
  },
  {
   "cell_type": "markdown",
   "metadata": {},
   "source": [
    "predicted center coordinate"
   ]
  },
  {
   "cell_type": "code",
   "execution_count": 39,
   "metadata": {},
   "outputs": [
    {
     "data": {
      "text/plain": [
       "array([ 0.26675504,  1.58572376, 38.25266647])"
      ]
     },
     "execution_count": 39,
     "metadata": {},
     "output_type": "execute_result"
    }
   ],
   "source": [
    "pred_center=center_list[data_idx]\n",
    "pred_center"
   ]
  },
  {
   "cell_type": "markdown",
   "metadata": {},
   "source": [
    "gt center coordinate"
   ]
  },
  {
   "cell_type": "code",
   "execution_count": 40,
   "metadata": {},
   "outputs": [
    {
     "data": {
      "text/plain": [
       "array([-0.07563623,  1.5687262 , 38.0366682 ])"
      ]
     },
     "execution_count": 40,
     "metadata": {},
     "output_type": "execute_result"
    }
   ],
   "source": [
    "gt_center=dataset[data_idx][2]\n",
    "gt_center"
   ]
  },
  {
   "cell_type": "markdown",
   "metadata": {},
   "source": [
    "### Convert center back to the world coordinates"
   ]
  },
  {
   "cell_type": "code",
   "execution_count": null,
   "metadata": {},
   "outputs": [],
   "source": []
  },
  {
   "cell_type": "code",
   "execution_count": 41,
   "metadata": {},
   "outputs": [],
   "source": [
    "rot_angle=dataset[data_idx][7]"
   ]
  },
  {
   "cell_type": "code",
   "execution_count": 42,
   "metadata": {},
   "outputs": [
    {
     "data": {
      "text/plain": [
       "array([-0.07563623,  1.5687262 , 38.0366682 ])"
      ]
     },
     "execution_count": 42,
     "metadata": {},
     "output_type": "execute_result"
    }
   ],
   "source": [
    "gt_center"
   ]
  },
  {
   "cell_type": "code",
   "execution_count": 43,
   "metadata": {},
   "outputs": [
    {
     "data": {
      "text/plain": [
       "array([17.99118534,  1.5687262 , 33.51284975])"
      ]
     },
     "execution_count": 43,
     "metadata": {},
     "output_type": "execute_result"
    }
   ],
   "source": [
    "gt_center_before_rotation=rotate_pc_along_y(np.expand_dims(gt_center,0),rot_angle=-rot_angle).squeeze()\n",
    "gt_center_before_rotation"
   ]
  },
  {
   "cell_type": "code",
   "execution_count": 44,
   "metadata": {},
   "outputs": [
    {
     "data": {
      "text/plain": [
       "array([-0.07563623,  1.5687262 , 38.0366682 ])"
      ]
     },
     "execution_count": 44,
     "metadata": {},
     "output_type": "execute_result"
    }
   ],
   "source": [
    "rotate_pc_along_y(np.expand_dims(gt_center_before_rotation,0),rot_angle=rot_angle).squeeze()"
   ]
  },
  {
   "cell_type": "code",
   "execution_count": 45,
   "metadata": {},
   "outputs": [
    {
     "data": {
      "text/plain": [
       "array([17.99118534,  1.5687262 , 33.51284975])"
      ]
     },
     "execution_count": 45,
     "metadata": {},
     "output_type": "execute_result"
    }
   ],
   "source": [
    "gt_center_before_rotation"
   ]
  },
  {
   "cell_type": "markdown",
   "metadata": {},
   "source": [
    "## compare heading"
   ]
  },
  {
   "cell_type": "code",
   "execution_count": 46,
   "metadata": {},
   "outputs": [
    {
     "data": {
      "text/plain": [
       "5"
      ]
     },
     "execution_count": 46,
     "metadata": {},
     "output_type": "execute_result"
    }
   ],
   "source": [
    "heading_cls_list[data_idx]"
   ]
  },
  {
   "cell_type": "code",
   "execution_count": 47,
   "metadata": {},
   "outputs": [
    {
     "data": {
      "text/plain": [
       "-0.007138856220990419"
      ]
     },
     "execution_count": 47,
     "metadata": {},
     "output_type": "execute_result"
    }
   ],
   "source": [
    "heading_res_list[data_idx]"
   ]
  },
  {
   "cell_type": "markdown",
   "metadata": {},
   "source": [
    "### predicted heading angle"
   ]
  },
  {
   "cell_type": "markdown",
   "metadata": {},
   "source": [
    "in radius"
   ]
  },
  {
   "cell_type": "code",
   "execution_count": 48,
   "metadata": {},
   "outputs": [
    {
     "data": {
      "text/plain": [
       "2.6108550217705035"
      ]
     },
     "execution_count": 48,
     "metadata": {},
     "output_type": "execute_result"
    }
   ],
   "source": [
    "from provider import class2angle\n",
    "pred_angle_radius=class2angle(heading_cls_list[data_idx],heading_res_list[data_idx],NUM_HEADING_BIN)\n",
    "pred_angle_radius"
   ]
  },
  {
   "cell_type": "markdown",
   "metadata": {},
   "source": [
    "in degree"
   ]
  },
  {
   "cell_type": "code",
   "execution_count": 49,
   "metadata": {},
   "outputs": [
    {
     "data": {
      "text/plain": [
       "149.5909736679865"
      ]
     },
     "execution_count": 49,
     "metadata": {},
     "output_type": "execute_result"
    }
   ],
   "source": [
    "pred_angle_degree=pred_angle_radius*180/np.pi\n",
    "pred_angle_degree"
   ]
  },
  {
   "cell_type": "code",
   "execution_count": 50,
   "metadata": {},
   "outputs": [],
   "source": [
    "## Plus rotation angle"
   ]
  },
  {
   "cell_type": "code",
   "execution_count": 51,
   "metadata": {},
   "outputs": [
    {
     "data": {
      "text/plain": [
       "3.1055303880662732"
      ]
     },
     "execution_count": 51,
     "metadata": {},
     "output_type": "execute_result"
    }
   ],
   "source": [
    "pred_angle_radius=class2angle(heading_cls_list[data_idx],\n",
    "                              heading_res_list[data_idx],NUM_HEADING_BIN)+dataset[data_idx][7]\n",
    "pred_angle_radius"
   ]
  },
  {
   "cell_type": "code",
   "execution_count": 52,
   "metadata": {},
   "outputs": [
    {
     "data": {
      "text/plain": [
       "5"
      ]
     },
     "execution_count": 52,
     "metadata": {},
     "output_type": "execute_result"
    }
   ],
   "source": [
    "dataset[data_idx][3]"
   ]
  },
  {
   "cell_type": "code",
   "execution_count": 53,
   "metadata": {},
   "outputs": [
    {
     "data": {
      "text/plain": [
       "6"
      ]
     },
     "execution_count": 53,
     "metadata": {},
     "output_type": "execute_result"
    }
   ],
   "source": [
    "dataset.id_list[data_idx]"
   ]
  },
  {
   "cell_type": "markdown",
   "metadata": {},
   "source": [
    "### heading angle ground truth:"
   ]
  },
  {
   "cell_type": "code",
   "execution_count": 54,
   "metadata": {},
   "outputs": [
    {
     "data": {
      "text/plain": [
       "-3.129219460417827"
      ]
     },
     "execution_count": 54,
     "metadata": {},
     "output_type": "execute_result"
    }
   ],
   "source": [
    "gt_angle_radius=dataset.heading_list[data_idx]\n",
    "gt_angle_radius"
   ]
  },
  {
   "cell_type": "code",
   "execution_count": 55,
   "metadata": {},
   "outputs": [
    {
     "data": {
      "text/plain": [
       "-179.29106825214623"
      ]
     },
     "execution_count": 55,
     "metadata": {},
     "output_type": "execute_result"
    }
   ],
   "source": [
    "gt_angle_degree=gt_angle_radius*180/np.pi\n",
    "gt_angle_degree"
   ]
  },
  {
   "cell_type": "code",
   "execution_count": 56,
   "metadata": {},
   "outputs": [
    {
     "data": {
      "text/plain": [
       "(array([11.,  0.,  0.,  0.,  0.,  0.,  0.,  0.,  0.,  0.,  0.,  0.,  1.,\n",
       "         0.,  0.,  0.,  0.,  0.,  0.,  0.,  0.,  0.,  0.,  0.,  0.,  0.,\n",
       "         0.,  0.,  0.,  0.,  0.,  0.,  0.,  0.,  0.,  0.,  0.,  5.,  3.,\n",
       "         2.,  2.,  1.,  0.,  0.,  2.,  2.,  2.,  0.,  0.,  5.]),\n",
       " array([-3.14048122e+00, -3.01490476e+00, -2.88932829e+00, -2.76375182e+00,\n",
       "        -2.63817536e+00, -2.51259889e+00, -2.38702242e+00, -2.26144595e+00,\n",
       "        -2.13586949e+00, -2.01029302e+00, -1.88471655e+00, -1.75914009e+00,\n",
       "        -1.63356362e+00, -1.50798715e+00, -1.38241069e+00, -1.25683422e+00,\n",
       "        -1.13125775e+00, -1.00568129e+00, -8.80104820e-01, -7.54528353e-01,\n",
       "        -6.28951886e-01, -5.03375419e-01, -3.77798952e-01, -2.52222486e-01,\n",
       "        -1.26646019e-01, -1.06955185e-03,  1.24506915e-01,  2.50083382e-01,\n",
       "         3.75659849e-01,  5.01236315e-01,  6.26812782e-01,  7.52389249e-01,\n",
       "         8.77965716e-01,  1.00354218e+00,  1.12911865e+00,  1.25469512e+00,\n",
       "         1.38027158e+00,  1.50584805e+00,  1.63142452e+00,  1.75700098e+00,\n",
       "         1.88257745e+00,  2.00815392e+00,  2.13373038e+00,  2.25930685e+00,\n",
       "         2.38488332e+00,  2.51045978e+00,  2.63603625e+00,  2.76161272e+00,\n",
       "         2.88718919e+00,  3.01276565e+00,  3.13834212e+00]),\n",
       " <a list of 50 Patch objects>)"
      ]
     },
     "execution_count": 56,
     "metadata": {},
     "output_type": "execute_result"
    },
    {
     "data": {
      "image/png": "[encoded data removed]",
      "text/plain": [
       "<Figure size 432x288 with 1 Axes>"
      ]
     },
     "metadata": {
      "needs_background": "light"
     },
     "output_type": "display_data"
    }
   ],
   "source": [
    "plt.hist(dataset.heading_list,bins=50)"
   ]
  },
  {
   "cell_type": "markdown",
   "metadata": {},
   "source": [
    "## Compare all heading angles"
   ]
  },
  {
   "cell_type": "code",
   "execution_count": null,
   "metadata": {},
   "outputs": [],
   "source": [
    "type(heading_cls_list)"
   ]
  },
  {
   "cell_type": "code",
   "execution_count": null,
   "metadata": {},
   "outputs": [],
   "source": [
    "all_pred_angle_radius=np.empty(len(heading_cls_list))\n",
    "for idx in range(len(heading_cls_list)):\n",
    "    pred_angle_radius=class2angle(heading_cls_list[idx],heading_res_list[idx],NUM_HEADING_BIN)+dataset[idx][7]\n",
    "    all_pred_angle_radius[idx]=pred_angle_radius"
   ]
  },
  {
   "cell_type": "code",
   "execution_count": null,
   "metadata": {},
   "outputs": [],
   "source": [
    "all_gt_angle_raidus=np.array(dataset.heading_list)"
   ]
  },
  {
   "cell_type": "code",
   "execution_count": null,
   "metadata": {},
   "outputs": [],
   "source": [
    "## plot in 2D\n",
    "plt.plot(all_gt_angle_raidus,all_pred_angle_radius,'.')\n",
    "plt.xlabel(\"ground truth heading angle\")\n",
    "plt.ylabel(\"predicted heading angle\")"
   ]
  },
  {
   "cell_type": "markdown",
   "metadata": {},
   "source": [
    "It seems the heading angle is of some classes are not correct."
   ]
  },
  {
   "cell_type": "markdown",
   "metadata": {},
   "source": [
    "## Compare box"
   ]
  },
  {
   "cell_type": "code",
   "execution_count": null,
   "metadata": {},
   "outputs": [],
   "source": [
    "from provider import class2size"
   ]
  },
  {
   "cell_type": "markdown",
   "metadata": {},
   "source": [
    "predicted box size"
   ]
  },
  {
   "cell_type": "code",
   "execution_count": null,
   "metadata": {},
   "outputs": [],
   "source": [
    "class2size(size_cls_list[data_idx],size_res_list[data_idx])"
   ]
  },
  {
   "cell_type": "markdown",
   "metadata": {},
   "source": [
    "ground truth of box size"
   ]
  },
  {
   "cell_type": "code",
   "execution_count": null,
   "metadata": {},
   "outputs": [],
   "source": [
    "dataset.size_list[data_idx]"
   ]
  },
  {
   "cell_type": "markdown",
   "metadata": {},
   "source": [
    "## Convert the prediction back to world coordinates"
   ]
  },
  {
   "cell_type": "markdown",
   "metadata": {},
   "source": [
    "extract the token"
   ]
  },
  {
   "cell_type": "code",
   "execution_count": null,
   "metadata": {},
   "outputs": [],
   "source": [
    "train_df=parse_train_csv()"
   ]
  },
  {
   "cell_type": "code",
   "execution_count": null,
   "metadata": {},
   "outputs": [],
   "source": [
    "train_df.head(1)"
   ]
  },
  {
   "cell_type": "code",
   "execution_count": null,
   "metadata": {},
   "outputs": [],
   "source": [
    "sample_token=train_df.iloc[data_idx,0]\n",
    "sample_token"
   ]
  },
  {
   "cell_type": "code",
   "execution_count": null,
   "metadata": {},
   "outputs": [],
   "source": []
  },
  {
   "cell_type": "markdown",
   "metadata": {},
   "source": [
    "### Convert ground truth box back to world coordiantes"
   ]
  },
  {
   "cell_type": "code",
   "execution_count": null,
   "metadata": {},
   "outputs": [],
   "source": [
    "gt_angle"
   ]
  },
  {
   "cell_type": "code",
   "execution_count": null,
   "metadata": {},
   "outputs": [],
   "source": [
    "gt_size=dataset.size_list[data_idx]\n",
    "gt_angle=dataset.heading_list[data_idx]\n",
    "l,w,h=gt_size\n",
    "\n",
    "first_rot=Quaternion(axis=[1,0,0],angle=np.pi/2)\n",
    "second_rot=Quaternion(axis=[0,-1,0],angle=-gt_angle)\n",
    "gt_box_in_sensor_coord=Box(center=gt_center_before_rotation,size=[w,l,h],\n",
    "                             orientation=second_rot*first_rot)\n",
    "\n",
    "\n",
    "#gt_box_in_sensor_coord.rotate(third_rot)"
   ]
  },
  {
   "cell_type": "code",
   "execution_count": null,
   "metadata": {},
   "outputs": [],
   "source": [
    "gt_box_in_sensor_coord"
   ]
  },
  {
   "cell_type": "code",
   "execution_count": null,
   "metadata": {},
   "outputs": [],
   "source": [
    "cam_to_world_mtx=get_sensor_to_world_transform_matrix(sensor_type='CAM_FRONT',\n",
    "                                                      sample_token=train_df.iloc[dataset.id_list[data_idx],0])"
   ]
  },
  {
   "cell_type": "code",
   "execution_count": null,
   "metadata": {},
   "outputs": [],
   "source": [
    "gt_center_before_rotation_h=np.concatenate((gt_center_before_rotation,np.ones(1)))\n",
    "gt_center_before_rotation_h"
   ]
  },
  {
   "cell_type": "code",
   "execution_count": null,
   "metadata": {},
   "outputs": [],
   "source": [
    "np.dot(cam_to_world_mtx,np.transpose(gt_center_before_rotation_h))"
   ]
  },
  {
   "cell_type": "code",
   "execution_count": null,
   "metadata": {},
   "outputs": [],
   "source": [
    "gt_box_in_sensor_coord"
   ]
  },
  {
   "cell_type": "code",
   "execution_count": null,
   "metadata": {},
   "outputs": [],
   "source": [
    "gt_box_in_sensor_coord_corners=gt_box_in_sensor_coord.corners()\n",
    "gt_box_in_sensor_coord_corners\n",
    "print(gt_box_in_sensor_coord_corners.shape)"
   ]
  },
  {
   "cell_type": "code",
   "execution_count": null,
   "metadata": {},
   "outputs": [],
   "source": [
    "gt_box_in_sensor_coord_corners_h=np.concatenate((gt_box_in_sensor_coord_corners,np.ones((1,8))),axis=0)\n",
    "gt_box_in_sensor_coord_corners_h.shape"
   ]
  },
  {
   "cell_type": "code",
   "execution_count": null,
   "metadata": {},
   "outputs": [],
   "source": [
    "corners_in_world_coord=np.dot(cam_to_world_mtx,gt_box_in_sensor_coord_corners_h)\n",
    "corners_in_world_coord"
   ]
  },
  {
   "cell_type": "code",
   "execution_count": null,
   "metadata": {},
   "outputs": [],
   "source": [
    "gt_box_in_world_coord=convert_box_to_world_coord(gt_box_in_sensor_coord,\n",
    "                                                 sensor_type='CAM_FRONT',sample_token=train_df.iloc[data_idx,0])\n",
    "gt_box_in_world_coord"
   ]
  },
  {
   "cell_type": "code",
   "execution_count": null,
   "metadata": {},
   "outputs": [],
   "source": [
    "gt_box_in_world_coord.orientation.yaw_pitch_roll"
   ]
  },
  {
   "cell_type": "code",
   "execution_count": null,
   "metadata": {},
   "outputs": [],
   "source": [
    "get_box_yaw_angle_in_world_coords(gt_box_in_world_coord)+np.pi"
   ]
  },
  {
   "cell_type": "code",
   "execution_count": null,
   "metadata": {},
   "outputs": [],
   "source": [
    "_,gt_box=get_train_data_sample_token_and_box(dataset.id_list[data_idx],train_df)\n",
    "gt_box"
   ]
  },
  {
   "cell_type": "code",
   "execution_count": null,
   "metadata": {},
   "outputs": [],
   "source": []
  },
  {
   "cell_type": "code",
   "execution_count": null,
   "metadata": {},
   "outputs": [],
   "source": [
    "fig,ax=plt.subplots()\n",
    "view_mtx=np.eye(2)\n",
    "gt_box.render(ax,view=view_mtx)\n",
    "gt_box_in_world_coord.render(ax,view=view_mtx)"
   ]
  },
  {
   "cell_type": "code",
   "execution_count": null,
   "metadata": {},
   "outputs": [],
   "source": [
    "fig,ax=plt.subplots()\n",
    "view_mtx=np.array([[0,1,0],[0,0,1],[0,0,0]])\n",
    "gt_box.render(ax,view=view_mtx)\n",
    "gt_box_in_world_coord.render(ax,view=view_mtx)"
   ]
  },
  {
   "cell_type": "code",
   "execution_count": null,
   "metadata": {},
   "outputs": [],
   "source": [
    "gt_box.corners()"
   ]
  },
  {
   "cell_type": "code",
   "execution_count": null,
   "metadata": {},
   "outputs": [],
   "source": [
    "gt_box_in_world_coord.corners()"
   ]
  },
  {
   "cell_type": "code",
   "execution_count": null,
   "metadata": {},
   "outputs": [],
   "source": [
    "get_box_yaw_angle_in_world_coords(gt_box_in_world_coord)"
   ]
  },
  {
   "cell_type": "code",
   "execution_count": null,
   "metadata": {},
   "outputs": [],
   "source": [
    "from prepare_lyft_data import get_box_corners_yaw_angle_in_world_coords\n",
    "get_box_corners_yaw_angle_in_world_coords(corners_in_world_coord[0:3,:])"
   ]
  },
  {
   "cell_type": "markdown",
   "metadata": {},
   "source": [
    "### Convert predicted box back to world coordinates"
   ]
  },
  {
   "cell_type": "code",
   "execution_count": null,
   "metadata": {},
   "outputs": [],
   "source": [
    "pred_size=class2size(size_cls_list[data_idx],size_res_list[data_idx])\n",
    "center=np.array(center_list[data_idx])\n",
    "rotated_back_center=rotate_pc_along_y(np.expand_dims(center,0),-rot_angle).squeeze()\n",
    "l,w,h=class2size(size_cls_list[data_idx],size_res_list[data_idx])\n",
    "pred_angle_radius=class2angle(heading_cls_list[data_idx],\n",
    "                              heading_res_list[data_idx],NUM_HEADING_BIN)+dataset[data_idx][7]\n",
    "pred_box_in_sensor_coord=Box(center=rotated_back_center,size=[h,l,w],\n",
    "                             orientation=Quaternion(axis=[0,-1,0],angle=pred_angle_radius+np.pi))"
   ]
  },
  {
   "cell_type": "code",
   "execution_count": null,
   "metadata": {},
   "outputs": [],
   "source": [
    "center"
   ]
  },
  {
   "cell_type": "code",
   "execution_count": null,
   "metadata": {},
   "outputs": [],
   "source": [
    "box_in_world_coord=convert_box_to_world_coord(pred_box_in_sensor_coord,\n",
    "                           sensor_type='CAM_FRONT',sample_token=train_df.iloc[data_idx,0])\n",
    "box_in_world_coord"
   ]
  },
  {
   "cell_type": "code",
   "execution_count": null,
   "metadata": {},
   "outputs": [],
   "source": [
    "train_df.iloc[data_idx,:]"
   ]
  },
  {
   "cell_type": "markdown",
   "metadata": {},
   "source": [
    "Calculate the yaw angle in world coordinates"
   ]
  },
  {
   "cell_type": "code",
   "execution_count": null,
   "metadata": {},
   "outputs": [],
   "source": [
    "get_box_yaw_angle_in_world_coords(box_in_world_coord)"
   ]
  },
  {
   "cell_type": "code",
   "execution_count": null,
   "metadata": {},
   "outputs": [],
   "source": []
  },
  {
   "cell_type": "code",
   "execution_count": null,
   "metadata": {},
   "outputs": [],
   "source": []
  },
  {
   "cell_type": "code",
   "execution_count": null,
   "metadata": {},
   "outputs": [],
   "source": []
  }
 ],
 "metadata": {
  "kernelspec": {
   "display_name": "Python 3",
   "language": "python",
   "name": "python3"
  },
  "language_info": {
   "codemirror_mode": {
    "name": "ipython",
    "version": 3
   },
   "file_extension": ".py",
   "mimetype": "text/x-python",
   "name": "python",
   "nbconvert_exporter": "python",
   "pygments_lexer": "ipython3",
   "version": "3.7.3"
  },
  "pycharm": {
   "stem_cell": {
    "cell_type": "raw",
    "metadata": {
     "collapsed": false
    },
    "source": []
   }
  }
 },
 "nbformat": 4,
 "nbformat_minor": 2
}
