{
 "cells": [
  {
   "cell_type": "code",
   "execution_count": 1,
   "metadata": {},
   "outputs": [],
   "source": [
    "%load_ext autoreload\n",
    "%autoreload 2"
   ]
  },
  {
   "cell_type": "code",
   "execution_count": 2,
   "metadata": {},
   "outputs": [],
   "source": [
    "import matplotlib.pyplot as plt\n",
    "from skimage.io import imread\n",
    "import numpy as np\n",
    "\n",
    "from prepare_lyft_data import extract_single_box, \\\n",
    "    parse_train_csv, level5data, extract_boxed_clouds, \\\n",
    "    get_sample_images, get_train_data_sample_token_and_box, \\\n",
    "    get_pc_in_image_fov, get_bounding_box_corners, \\\n",
    "    get_2d_corners_from_projected_box_coordinates, transform_image_to_world_coordinate,\\\n",
    "transform_world_to_image_coordinate\n",
    "from lyft_dataset_sdk.utils.data_classes import LidarPointCloud,Quaternion"
   ]
  },
  {
   "cell_type": "code",
   "execution_count": 3,
   "metadata": {},
   "outputs": [
    {
     "name": "stderr",
     "output_type": "stream",
     "text": [
      "100%|██████████| 22680/22680 [00:03<00:00, 7112.88it/s] \n"
     ]
    }
   ],
   "source": [
    "train_df = parse_train_csv()\n",
    "sample_token, bounding_box = get_train_data_sample_token_and_box(0, train_df)\n",
    "first_train_sample = level5data.get('sample', sample_token)\n",
    "\n"
   ]
  },
  {
   "cell_type": "code",
   "execution_count": 4,
   "metadata": {},
   "outputs": [],
   "source": [
    "cam_token = first_train_sample['data']['CAM_FRONT']\n",
    "\n",
    "box_corners = get_bounding_box_corners(bounding_box, cam_token)\n",
    "\n",
    "# check)image\n",
    "cam_image_file = level5data.get_sample_data_path(cam_token)\n",
    "cam_image_mtx = imread(cam_image_file)\n",
    "\n",
    "xmin, xmax, ymin, ymax = get_2d_corners_from_projected_box_coordinates(box_corners)\n",
    "\n",
    "random_depth = 20\n",
    "image_center = np.array([[(xmax + xmin) / 2, (ymax + ymin) / 2, random_depth]]).T"
   ]
  },
  {
   "cell_type": "code",
   "execution_count": 5,
   "metadata": {},
   "outputs": [
    {
     "name": "stdout",
     "output_type": "stream",
     "text": [
      "[[-16.89750522]\n",
      " [ -9.19058195]\n",
      " [ 20.        ]]\n",
      "{'sensor_token': 'eb9e8f60a3d6e3328d7512b9f8e6800127fe91f4d62bc8e48a0e6a7cb116cc60', 'rotation': [0.5090416344726354, -0.49422295323980653, 0.4930125688749941, -0.5035463174283287], 'camera_intrinsic': [[1109.05239567, 0, 957.849065461], [0.0, 1109.05239567, 539.672710373], [0.0, 0.0, 1.0]], 'translation': [1.5039405282244198, -0.02676183592864872, 1.6584901808053665], 'token': '8e73e320d1fa9e5af96059e6eb1dd7d28e3271dea04de86ead47fa25fd13fd20'}\n",
      "in pose record: [[-15.39356469]\n",
      " [ -9.21734378]\n",
      " [ 21.65849018]]\n"
     ]
    }
   ],
   "source": [
    "image_wc = transform_image_to_world_coordinate(image_center, cam_token)"
   ]
  },
  {
   "cell_type": "code",
   "execution_count": 6,
   "metadata": {},
   "outputs": [
    {
     "data": {
      "text/plain": [
       "array([[2.72451762e+03],\n",
       "       [6.94520535e+02],\n",
       "       [2.29332199e+00]])"
      ]
     },
     "execution_count": 6,
     "metadata": {},
     "output_type": "execute_result"
    }
   ],
   "source": [
    "image_wc"
   ]
  },
  {
   "cell_type": "markdown",
   "metadata": {},
   "source": [
    "### confirm that the projection is correct"
   ]
  },
  {
   "cell_type": "code",
   "execution_count": 7,
   "metadata": {},
   "outputs": [
    {
     "data": {
      "text/plain": [
       "array([[313.60157197],\n",
       "       [583.05679071],\n",
       "       [  1.        ]])"
      ]
     },
     "execution_count": 7,
     "metadata": {},
     "output_type": "execute_result"
    }
   ],
   "source": [
    "transform_world_to_image_coordinate(image_wc,cam_token)"
   ]
  },
  {
   "cell_type": "code",
   "execution_count": 8,
   "metadata": {},
   "outputs": [
    {
     "data": {
      "text/plain": [
       "array([[416.76266258],\n",
       "       [600.61728081],\n",
       "       [ 20.        ]])"
      ]
     },
     "execution_count": 8,
     "metadata": {},
     "output_type": "execute_result"
    }
   ],
   "source": [
    "image_center"
   ]
  },
  {
   "cell_type": "markdown",
   "metadata": {},
   "source": [
    "## Dissect the steps"
   ]
  },
  {
   "cell_type": "code",
   "execution_count": 55,
   "metadata": {},
   "outputs": [],
   "source": [
    "def normalization(input_array):\n",
    "    input_array[0:2,:]=input_array[0:2,:]*input_array[2:3,:].repeat(2,0).reshape(2,input_array.shape[1])\n",
    "    return input_array"
   ]
  },
  {
   "cell_type": "code",
   "execution_count": 56,
   "metadata": {},
   "outputs": [],
   "source": [
    "image_array=np.copy(image_center)\n",
    "camera_token=cam_token"
   ]
  },
  {
   "cell_type": "code",
   "execution_count": 57,
   "metadata": {},
   "outputs": [],
   "source": [
    "image_array=normalization(image_array)\n",
    "image_array=np.concatenate((image_array.ravel(),np.array([1])))\n",
    "image_array=image_array.reshape(4,1)"
   ]
  },
  {
   "cell_type": "code",
   "execution_count": 58,
   "metadata": {},
   "outputs": [
    {
     "data": {
      "text/plain": [
       "array([[8.33525325e+03],\n",
       "       [1.20123456e+04],\n",
       "       [2.00000000e+01],\n",
       "       [1.00000000e+00]])"
      ]
     },
     "execution_count": 58,
     "metadata": {},
     "output_type": "execute_result"
    }
   ],
   "source": [
    "image_array"
   ]
  },
  {
   "cell_type": "code",
   "execution_count": 59,
   "metadata": {},
   "outputs": [
    {
     "name": "stdout",
     "output_type": "stream",
     "text": [
      "image_in_cam_coord [[-9.75763463]\n",
      " [ 1.09903861]\n",
      " [20.        ]\n",
      " [ 1.        ]]\n",
      "in pose record: [[-8.2536941 ]\n",
      " [ 1.07227678]\n",
      " [21.65849018]]\n"
     ]
    }
   ],
   "source": [
    "sd_record = level5data.get(\"sample_data\", camera_token)\n",
    "cs_record = level5data.get(\"calibrated_sensor\", sd_record[\"calibrated_sensor_token\"])\n",
    "sensor_record = level5data.get(\"sensor\", cs_record[\"sensor_token\"])\n",
    "pose_record = level5data.get(\"ego_pose\", sd_record[\"ego_pose_token\"])\n",
    "\n",
    "# inverse the viewpoint transformation\n",
    "\n",
    "\n",
    "cam_intrinsic_mtx = np.array(cs_record[\"camera_intrinsic\"])\n",
    "view=cam_intrinsic_mtx\n",
    "viewpad=np.eye(4)\n",
    "viewpad[: view.shape[0], : view.shape[1]] = view\n",
    "image_in_cam_coord = np.dot(np.linalg.inv(viewpad), image_array)\n",
    "\n",
    "print(\"image_in_cam_coord\",image_in_cam_coord)\n",
    "# TODO: think of how to do normalization properly\n",
    "# image_in_cam_coord = image_in_cam_coord / image_in_cam_coord[3:].ravel()\n",
    "\n",
    "# homogeneous coordinate to non-homogeneous one\n",
    "image_in_cam_coord = image_in_cam_coord[0:3, :]\n",
    "\n",
    "sens_to_pose_rot_mtx = Quaternion(cs_record['rotation']).rotation_matrix\n",
    "\n",
    "image_in_pose_coord = np.dot(sens_to_pose_rot_mtx, image_in_cam_coord)\n",
    "t = np.array(cs_record['translation'])\n",
    "for i in range(3):\n",
    "    image_in_pose_coord[i, :] = image_in_cam_coord[i, :] + t[i]\n",
    "    \n",
    "\n",
    "print(\"in pose record:\", image_in_pose_coord)\n",
    "\n",
    "pose_to_world_rot_mtx = Quaternion(pose_record['rotation']).rotation_matrix\n",
    "\n",
    "image_in_world_coord = np.dot(pose_to_world_rot_mtx,\n",
    "                              image_in_pose_coord)\n",
    "t = np.array(pose_record['translation'])\n",
    "for i in range(3):\n",
    "    image_in_world_coord[i, :] = image_in_world_coord[i, :] + t[i]"
   ]
  },
  {
   "cell_type": "code",
   "execution_count": 60,
   "metadata": {},
   "outputs": [
    {
     "data": {
      "text/plain": [
       "array([[2.71298418e+03],\n",
       "       [6.89641610e+02],\n",
       "       [2.46603677e+00]])"
      ]
     },
     "execution_count": 60,
     "metadata": {},
     "output_type": "execute_result"
    }
   ],
   "source": [
    "image_in_world_coord"
   ]
  },
  {
   "cell_type": "code",
   "execution_count": 61,
   "metadata": {},
   "outputs": [
    {
     "data": {
      "text/plain": [
       "array([[315.046435  ],\n",
       "       [583.07015896],\n",
       "       [  1.        ]])"
      ]
     },
     "execution_count": 61,
     "metadata": {},
     "output_type": "execute_result"
    }
   ],
   "source": [
    "transform_world_to_image_coordinate(image_in_world_coord,cam_token)"
   ]
  },
  {
   "cell_type": "code",
   "execution_count": 62,
   "metadata": {},
   "outputs": [
    {
     "data": {
      "text/plain": [
       "array([[20.],\n",
       "       [20.],\n",
       "       [20.]])"
      ]
     },
     "execution_count": 62,
     "metadata": {},
     "output_type": "execute_result"
    }
   ],
   "source": [
    "image_in_cam_coord[2:3,:].repeat(3,0).reshape(3,image_array.shape[1])"
   ]
  },
  {
   "cell_type": "code",
   "execution_count": 63,
   "metadata": {},
   "outputs": [],
   "source": [
    "def project_image_to_rect(uv_depth):\n",
    "    ''' Input: nx3 first two channels are uv, 3rd channel\n",
    "               is depth in rect camera coord.\n",
    "        Output: nx3 points in rect camera coord.\n",
    "    '''\n",
    "    \n",
    "    n = uv_depth.shape[0]\n",
    "    x = ((uv_depth[:,0]-c_u)*uv_depth[:,2])/f_u + b_x\n",
    "    y = ((uv_depth[:,1]-c_v)*uv_depth[:,2])/f_v + b_y\n",
    "    pts_3d_rect = np.zeros((n,3))\n",
    "    pts_3d_rect[:,0] = x\n",
    "    pts_3d_rect[:,1] = y\n",
    "    pts_3d_rect[:,2] = uv_depth[:,2]\n",
    "    return pts_3d_rect"
   ]
  },
  {
   "cell_type": "markdown",
   "metadata": {},
   "source": [
    "## Only to camera coordinates"
   ]
  },
  {
   "cell_type": "code",
   "execution_count": 65,
   "metadata": {},
   "outputs": [
    {
     "name": "stdout",
     "output_type": "stream",
     "text": [
      "image_in_cam_coord [[-9.75763463]\n",
      " [ 1.09903861]\n",
      " [20.        ]\n",
      " [ 1.        ]]\n"
     ]
    }
   ],
   "source": [
    "cam_intrinsic_mtx = np.array(cs_record[\"camera_intrinsic\"])\n",
    "view=cam_intrinsic_mtx\n",
    "viewpad=np.eye(4)\n",
    "viewpad[: view.shape[0], : view.shape[1]] = view\n",
    "image_in_cam_coord = np.dot(np.linalg.inv(viewpad), image_array)\n",
    "\n",
    "print(\"image_in_cam_coord\",image_in_cam_coord)"
   ]
  },
  {
   "cell_type": "code",
   "execution_count": 66,
   "metadata": {},
   "outputs": [],
   "source": [
    "from lyft_dataset_sdk.utils.geometry_utils import view_points"
   ]
  },
  {
   "cell_type": "code",
   "execution_count": 69,
   "metadata": {},
   "outputs": [
    {
     "data": {
      "text/plain": [
       "array([[416.76266258],\n",
       "       [600.61728081],\n",
       "       [  1.        ]])"
      ]
     },
     "execution_count": 69,
     "metadata": {},
     "output_type": "execute_result"
    }
   ],
   "source": [
    "view_points(image_in_cam_coord[0:3,:],view=cam_intrinsic_mtx,normalize=True)"
   ]
  },
  {
   "cell_type": "code",
   "execution_count": null,
   "metadata": {},
   "outputs": [],
   "source": []
  }
 ],
 "metadata": {
  "kernelspec": {
   "display_name": "Python 3",
   "language": "python",
   "name": "python3"
  },
  "language_info": {
   "codemirror_mode": {
    "name": "ipython",
    "version": 3
   },
   "file_extension": ".py",
   "mimetype": "text/x-python",
   "name": "python",
   "nbconvert_exporter": "python",
   "pygments_lexer": "ipython3",
   "version": "3.7.3"
  }
 },
 "nbformat": 4,
 "nbformat_minor": 2
}
