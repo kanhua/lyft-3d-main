{
 "cells": [
  {
   "cell_type": "code",
   "execution_count": 62,
   "metadata": {},
   "outputs": [
    {
     "name": "stdout",
     "output_type": "stream",
     "text": [
      "The autoreload extension is already loaded. To reload it, use:\n",
      "  %reload_ext autoreload\n"
     ]
    }
   ],
   "source": [
    "%load_ext autoreload\n",
    "%autoreload 2"
   ]
  },
  {
   "cell_type": "code",
   "execution_count": 63,
   "metadata": {},
   "outputs": [],
   "source": [
    "import matplotlib.pyplot as plt\n",
    "from skimage.io import imread\n",
    "import numpy as np\n",
    "\n",
    "from prepare_lyft_data import extract_single_box, \\\n",
    "    parse_train_csv, level5data, extract_boxed_clouds, \\\n",
    "    get_sample_images, get_train_data_sample_token_and_box, \\\n",
    "    get_pc_in_image_fov, get_bounding_box_corners, \\\n",
    "    get_2d_corners_from_projected_box_coordinates, transform_image_to_world_coordinate,\\\n",
    "transform_world_to_image_coordinate,transform_box_from_world_to_sensor_coordinates,\\\n",
    "transform_box_from_world_to_ego_coordinates,transform_box_from_world_to_flat_vehicle_coordinates,\\\n",
    "transform_box_from_world_to_flat_sensor_coordinates\n",
    "from lyft_dataset_sdk.utils.data_classes import LidarPointCloud,Quaternion"
   ]
  },
  {
   "cell_type": "code",
   "execution_count": 64,
   "metadata": {},
   "outputs": [
    {
     "name": "stderr",
     "output_type": "stream",
     "text": [
      "100%|██████████| 22680/22680 [00:02<00:00, 11006.23it/s]\n"
     ]
    }
   ],
   "source": [
    "train_df = parse_train_csv()\n",
    "sample_token, bounding_box = get_train_data_sample_token_and_box(0, train_df)\n",
    "first_train_sample = level5data.get('sample', sample_token)"
   ]
  },
  {
   "cell_type": "markdown",
   "metadata": {},
   "source": [
    "## The details of the rotating axis"
   ]
  },
  {
   "cell_type": "markdown",
   "metadata": {},
   "source": [
    "Box in world coordinates"
   ]
  },
  {
   "cell_type": "code",
   "execution_count": 65,
   "metadata": {},
   "outputs": [
    {
     "data": {
      "text/plain": [
       "label: nan, score: nan, xyz: [2680.28, 698.20, -18.05], wlh: [2.06, 5.49, 2.05], rot axis: [0.00, 0.00, 1.00], ang(degrees): 149.21, ang(rad): 2.60, vel: nan, nan, nan, name: car, token: None"
      ]
     },
     "execution_count": 65,
     "metadata": {},
     "output_type": "execute_result"
    }
   ],
   "source": [
    "bounding_box"
   ]
  },
  {
   "cell_type": "markdown",
   "metadata": {},
   "source": [
    "Rotating angle"
   ]
  },
  {
   "cell_type": "code",
   "execution_count": 66,
   "metadata": {},
   "outputs": [
    {
     "data": {
      "text/plain": [
       "149.2076283924138"
      ]
     },
     "execution_count": 66,
     "metadata": {},
     "output_type": "execute_result"
    }
   ],
   "source": [
    "bounding_box.orientation.degrees"
   ]
  },
  {
   "cell_type": "code",
   "execution_count": 67,
   "metadata": {},
   "outputs": [
    {
     "data": {
      "text/plain": [
       "Text(0, 0.5, 'y axis')"
      ]
     },
     "execution_count": 67,
     "metadata": {},
     "output_type": "execute_result"
    },
    {
     "data": {
      "image/png": "[encoded data removed]",
      "text/plain": [
       "<Figure size 432x288 with 1 Axes>"
      ]
     },
     "metadata": {
      "needs_background": "light"
     },
     "output_type": "display_data"
    }
   ],
   "source": [
    "fig,ax=plt.subplots()\n",
    "view_mtx=np.array([[1,0],[0,1]])\n",
    "bounding_box.render(ax,view=view_mtx)\n",
    "plt.xlabel(\"x axis\")\n",
    "plt.ylabel(\"y axis\")"
   ]
  },
  {
   "cell_type": "markdown",
   "metadata": {},
   "source": [
    "We could see that the rotation is from x-axis, counterclockwise."
   ]
  },
  {
   "cell_type": "code",
   "execution_count": 68,
   "metadata": {},
   "outputs": [],
   "source": [
    "camera_token=first_train_sample['data']['CAM_FRONT']"
   ]
  },
  {
   "cell_type": "markdown",
   "metadata": {},
   "source": [
    "## Convert to camera coordiante"
   ]
  },
  {
   "cell_type": "code",
   "execution_count": 69,
   "metadata": {},
   "outputs": [],
   "source": [
    "bounding_box_in_camera_coord=transform_box_from_world_to_sensor_coordinates(bounding_box,camera_token)"
   ]
  },
  {
   "cell_type": "code",
   "execution_count": 70,
   "metadata": {},
   "outputs": [
    {
     "data": {
      "text/plain": [
       "Text(0, 0.5, 'z axis')"
      ]
     },
     "execution_count": 70,
     "metadata": {},
     "output_type": "execute_result"
    },
    {
     "data": {
      "image/png": "[encoded data removed]",
      "text/plain": [
       "<Figure size 432x288 with 1 Axes>"
      ]
     },
     "metadata": {
      "needs_background": "light"
     },
     "output_type": "display_data"
    }
   ],
   "source": [
    "fig,ax=plt.subplots()\n",
    "view_mtx=np.array([[1,0,0],[0,0,1],[0,1,0]])\n",
    "bounding_box_in_camera_coord.render(ax,view=view_mtx)\n",
    "plt.xlabel(\"x axis\")\n",
    "plt.ylabel(\"z axis\")"
   ]
  },
  {
   "cell_type": "code",
   "execution_count": 71,
   "metadata": {},
   "outputs": [
    {
     "data": {
      "text/plain": [
       "label: nan, score: nan, xyz: [-10.76, 1.15, 22.63], wlh: [2.06, 5.49, 2.05], rot axis: [0.56, -0.59, 0.58], ang(degrees): 119.19, ang(rad): 2.08, vel: nan, nan, nan, name: car, token: None"
      ]
     },
     "execution_count": 71,
     "metadata": {},
     "output_type": "execute_result"
    }
   ],
   "source": [
    "bounding_box_in_camera_coord"
   ]
  },
  {
   "cell_type": "code",
   "execution_count": 72,
   "metadata": {},
   "outputs": [
    {
     "data": {
      "text/plain": [
       "(3, 8)"
      ]
     },
     "execution_count": 72,
     "metadata": {},
     "output_type": "execute_result"
    }
   ],
   "source": [
    "bounding_box_in_camera_coord.corners().shape"
   ]
  },
  {
   "cell_type": "code",
   "execution_count": 73,
   "metadata": {},
   "outputs": [
    {
     "data": {
      "text/plain": [
       "array([[-11.86951527,  -9.8065801 ,  -9.75460282, -11.817538  ,\n",
       "        -11.76105938,  -9.6981242 ,  -9.64614692, -11.7090821 ],\n",
       "       [  0.19929048,   0.147843  ,   2.19980184,   2.25124932,\n",
       "          0.09053389,   0.03908641,   2.09104524,   2.14249272],\n",
       "       [ 25.37393514,  25.41573955,  25.37608721,  25.3342828 ,\n",
       "         19.88808486,  19.92988927,  19.89023693,  19.84843252]])"
      ]
     },
     "execution_count": 73,
     "metadata": {},
     "output_type": "execute_result"
    }
   ],
   "source": [
    "bounding_box_in_camera_coord.corners()"
   ]
  },
  {
   "cell_type": "code",
   "execution_count": 74,
   "metadata": {},
   "outputs": [],
   "source": [
    "maxz=bounding_box_in_camera_coord.corners()[2,:].max()\n",
    "minz=bounding_box_in_camera_coord.corners()[2,:].min()"
   ]
  },
  {
   "cell_type": "code",
   "execution_count": 75,
   "metadata": {},
   "outputs": [
    {
     "data": {
      "text/plain": [
       "9.559350508183776"
      ]
     },
     "execution_count": 75,
     "metadata": {},
     "output_type": "execute_result"
    }
   ],
   "source": [
    "dz=maxz-minz\n",
    "np.arccos(5.49/dz)*180/np.pi"
   ]
  },
  {
   "cell_type": "markdown",
   "metadata": {},
   "source": [
    "It seems that the camera is slightly tilted."
   ]
  },
  {
   "cell_type": "markdown",
   "metadata": {},
   "source": [
    "Use bottom corners?"
   ]
  },
  {
   "cell_type": "code",
   "execution_count": 76,
   "metadata": {},
   "outputs": [
    {
     "data": {
      "text/plain": [
       "array([[ -9.75460282, -11.817538  , -11.7090821 ,  -9.64614692],\n",
       "       [  2.19980184,   2.25124932,   2.14249272,   2.09104524],\n",
       "       [ 25.37608721,  25.3342828 ,  19.84843252,  19.89023693]])"
      ]
     },
     "execution_count": 76,
     "metadata": {},
     "output_type": "execute_result"
    }
   ],
   "source": [
    "bounding_box_in_camera_coord.bottom_corners()"
   ]
  },
  {
   "cell_type": "markdown",
   "metadata": {},
   "source": [
    "## Convert to car ego coordinate"
   ]
  },
  {
   "cell_type": "code",
   "execution_count": 77,
   "metadata": {},
   "outputs": [],
   "source": [
    "bounding_box_in_ego_coord=transform_box_from_world_to_ego_coordinates(bounding_box,camera_token)"
   ]
  },
  {
   "cell_type": "code",
   "execution_count": 78,
   "metadata": {},
   "outputs": [
    {
     "data": {
      "text/plain": [
       "label: nan, score: nan, xyz: [24.08, 10.89, 1.13], wlh: [2.06, 5.49, 2.05], rot axis: [-0.62, -0.17, 0.77], ang(degrees): 1.97, ang(rad): 0.03, vel: nan, nan, nan, name: car, token: None"
      ]
     },
     "execution_count": 78,
     "metadata": {},
     "output_type": "execute_result"
    }
   ],
   "source": [
    "bounding_box_in_ego_coord"
   ]
  },
  {
   "cell_type": "code",
   "execution_count": 79,
   "metadata": {},
   "outputs": [
    {
     "data": {
      "text/plain": [
       "Text(0, 0.5, 'y axis')"
      ]
     },
     "execution_count": 79,
     "metadata": {},
     "output_type": "execute_result"
    },
    {
     "data": {
      "image/png": "[encoded data removed]",
      "text/plain": [
       "<Figure size 432x288 with 1 Axes>"
      ]
     },
     "metadata": {
      "needs_background": "light"
     },
     "output_type": "display_data"
    }
   ],
   "source": [
    "fig,ax=plt.subplots()\n",
    "view_mtx=np.array([[1,0,0],[0,1,0],[0,0,1]])\n",
    "bounding_box_in_ego_coord.render(ax,view=view_mtx)\n",
    "plt.xlabel(\"x axis\")\n",
    "plt.ylabel(\"y axis\")"
   ]
  },
  {
   "cell_type": "markdown",
   "metadata": {},
   "source": [
    "The ego car is not exactly flat!"
   ]
  },
  {
   "cell_type": "markdown",
   "metadata": {},
   "source": [
    "## Convert to flat vehicle coordinates"
   ]
  },
  {
   "cell_type": "code",
   "execution_count": 80,
   "metadata": {},
   "outputs": [],
   "source": [
    "bounding_box_in_flat_vehicle_coord=transform_box_from_world_to_flat_vehicle_coordinates(bounding_box,camera_token)"
   ]
  },
  {
   "cell_type": "code",
   "execution_count": 81,
   "metadata": {},
   "outputs": [
    {
     "data": {
      "text/plain": [
       "Text(0, 0.5, 'y axis')"
      ]
     },
     "execution_count": 81,
     "metadata": {},
     "output_type": "execute_result"
    },
    {
     "data": {
      "image/png": "[encoded data removed]",
      "text/plain": [
       "<Figure size 432x288 with 1 Axes>"
      ]
     },
     "metadata": {
      "needs_background": "light"
     },
     "output_type": "display_data"
    }
   ],
   "source": [
    "fig,ax=plt.subplots()\n",
    "view_mtx=np.array([[1,0,0],[0,1,0],[0,0,1]])\n",
    "bounding_box_in_flat_vehicle_coord.render(ax,view=view_mtx)\n",
    "plt.xlabel(\"x axis\")\n",
    "plt.ylabel(\"y axis\")"
   ]
  },
  {
   "cell_type": "code",
   "execution_count": 82,
   "metadata": {},
   "outputs": [
    {
     "data": {
      "text/plain": [
       "label: nan, score: nan, xyz: [24.09, 10.86, 1.21], wlh: [2.06, 5.49, 2.05], rot axis: [0.00, 0.00, 1.00], ang(degrees): 1.51, ang(rad): 0.03, vel: nan, nan, nan, name: car, token: None"
      ]
     },
     "execution_count": 82,
     "metadata": {},
     "output_type": "execute_result"
    }
   ],
   "source": [
    "bounding_box_in_flat_vehicle_coord"
   ]
  },
  {
   "cell_type": "markdown",
   "metadata": {},
   "source": [
    "## Convert ego to flat sensor coordinates"
   ]
  },
  {
   "cell_type": "markdown",
   "metadata": {},
   "source": [
    "Investigate the transformation"
   ]
  },
  {
   "cell_type": "code",
   "execution_count": 83,
   "metadata": {},
   "outputs": [],
   "source": [
    "sample_data_token=camera_token\n",
    "sd_record = level5data.get(\"sample_data\", sample_data_token)\n",
    "cs_record = level5data.get(\"calibrated_sensor\", sd_record[\"calibrated_sensor_token\"])\n",
    "sensor_record = level5data.get(\"sensor\", cs_record[\"sensor_token\"])\n",
    "pose_record = level5data.get(\"ego_pose\", sd_record[\"ego_pose_token\"])\n",
    "\n",
    "# Move box to ego vehicle coord system parallel to world z plane\n",
    "ypr = Quaternion(cs_record[\"rotation\"]).yaw_pitch_roll\n",
    "yaw = ypr[0]"
   ]
  },
  {
   "cell_type": "code",
   "execution_count": 84,
   "metadata": {},
   "outputs": [
    {
     "data": {
      "text/plain": [
       "array([-75.06181379,  88.49741718, -14.69265635])"
      ]
     },
     "execution_count": 84,
     "metadata": {},
     "output_type": "execute_result"
    }
   ],
   "source": [
    "np.array(ypr)*180/np.pi"
   ]
  },
  {
   "cell_type": "code",
   "execution_count": 85,
   "metadata": {},
   "outputs": [],
   "source": [
    "inv_ypr=Quaternion(cs_record[\"rotation\"]).inverse.yaw_pitch_roll"
   ]
  },
  {
   "cell_type": "code",
   "execution_count": 86,
   "metadata": {},
   "outputs": [
    {
     "data": {
      "text/plain": [
       "array([89.61270704, -0.24061729, 88.54654913])"
      ]
     },
     "execution_count": 86,
     "metadata": {},
     "output_type": "execute_result"
    }
   ],
   "source": [
    "np.array(inv_ypr)*180/np.pi"
   ]
  },
  {
   "cell_type": "markdown",
   "metadata": {},
   "source": [
    "This makes sense. Rotate z-axis by 90 degree, and then rotate x by 90 degree."
   ]
  },
  {
   "cell_type": "markdown",
   "metadata": {},
   "source": [
    "## Try the conversion from world to flat sensor coordinates"
   ]
  },
  {
   "cell_type": "code",
   "execution_count": 87,
   "metadata": {},
   "outputs": [],
   "source": [
    "bounding_box_in_flat_sensor_coord=transform_box_from_world_to_flat_sensor_coordinates(bounding_box,camera_token)"
   ]
  },
  {
   "cell_type": "code",
   "execution_count": 88,
   "metadata": {},
   "outputs": [
    {
     "data": {
      "text/plain": [
       "Text(0, 0.5, 'z axis')"
      ]
     },
     "execution_count": 88,
     "metadata": {},
     "output_type": "execute_result"
    },
    {
     "data": {
      "image/png": "[encoded data removed]",
      "text/plain": [
       "<Figure size 432x288 with 1 Axes>"
      ]
     },
     "metadata": {
      "needs_background": "light"
     },
     "output_type": "display_data"
    }
   ],
   "source": [
    "fig,ax=plt.subplots()\n",
    "view_mtx=np.array([[1,0,0],[0,0,1],[0,1,0]])\n",
    "bounding_box_in_flat_sensor_coord.render(ax,view=view_mtx)\n",
    "plt.xlabel(\"x axis\")\n",
    "plt.ylabel(\"z axis\")"
   ]
  },
  {
   "cell_type": "code",
   "execution_count": 89,
   "metadata": {},
   "outputs": [
    {
     "data": {
      "text/plain": [
       "119.82643353765953"
      ]
     },
     "execution_count": 89,
     "metadata": {},
     "output_type": "execute_result"
    }
   ],
   "source": [
    "bounding_box_in_flat_sensor_coord.orientation.degrees"
   ]
  },
  {
   "cell_type": "code",
   "execution_count": null,
   "metadata": {},
   "outputs": [],
   "source": [
    "first_train_sample['data']"
   ]
  },
  {
   "cell_type": "code",
   "execution_count": null,
   "metadata": {},
   "outputs": [],
   "source": [
    "lidar_token=first_train_sample['data']['LIDAR_TOP']\n",
    "demo_lidar_file_path=level5data.get_sample_data_path(lidar_token)"
   ]
  },
  {
   "cell_type": "code",
   "execution_count": null,
   "metadata": {},
   "outputs": [],
   "source": [
    "lcp=LidarPointCloud.from_file(demo_lidar_file_path)"
   ]
  },
  {
   "cell_type": "code",
   "execution_count": null,
   "metadata": {},
   "outputs": [],
   "source": [
    "plt.plot(lcp.points[0,:],lcp.points[1,:],'.',markersize=0.2)\n",
    "plt.xlim([-50,50])\n",
    "plt.ylim([-50,50])"
   ]
  },
  {
   "cell_type": "code",
   "execution_count": null,
   "metadata": {},
   "outputs": [],
   "source": [
    "level5data.render_sample_data(lidar_token)"
   ]
  },
  {
   "cell_type": "code",
   "execution_count": null,
   "metadata": {},
   "outputs": [],
   "source": [
    "lidar_token=first_train_sample['data']['LIDAR_FRONT_RIGHT']\n",
    "level5data.render_sample_data(lidar_token)"
   ]
  },
  {
   "cell_type": "code",
   "execution_count": null,
   "metadata": {},
   "outputs": [],
   "source": [
    "lidar_token=first_train_sample['data']['LIDAR_FRONT_LEFT']\n",
    "level5data.render_sample_data(lidar_token)"
   ]
  },
  {
   "cell_type": "code",
   "execution_count": null,
   "metadata": {},
   "outputs": [],
   "source": [
    "lidar_token=first_train_sample['data']['CAM_FRONT_RIGHT']\n",
    "level5data.render_sample_data(lidar_token)"
   ]
  },
  {
   "cell_type": "code",
   "execution_count": null,
   "metadata": {},
   "outputs": [],
   "source": [
    "cam_token = first_train_sample['data']['CAM_FRONT']\n",
    "\n",
    "box_corners = get_bounding_box_corners(bounding_box, cam_token)\n",
    "\n",
    "# check)image\n",
    "cam_image_file = level5data.get_sample_data_path(cam_token)\n",
    "cam_image_mtx = imread(cam_image_file)\n",
    "\n",
    "xmin, xmax, ymin, ymax = get_2d_corners_from_projected_box_coordinates(box_corners)\n",
    "\n",
    "random_depth = 20\n",
    "image_center = np.array([[(xmax + xmin) / 2, (ymax + ymin) / 2, random_depth]]).T"
   ]
  },
  {
   "cell_type": "code",
   "execution_count": null,
   "metadata": {},
   "outputs": [],
   "source": [
    "lidar_token=first_train_sample['data']['LIDAR_TOP']\n",
    "level5data.get_sample_data(lidar_token)"
   ]
  },
  {
   "cell_type": "code",
   "execution_count": null,
   "metadata": {},
   "outputs": [],
   "source": [
    "image_wc = transform_image_to_world_coordinate(image_center, cam_token)"
   ]
  },
  {
   "cell_type": "code",
   "execution_count": null,
   "metadata": {},
   "outputs": [],
   "source": [
    "image_wc"
   ]
  },
  {
   "cell_type": "markdown",
   "metadata": {},
   "source": [
    "### confirm that the projection is correct"
   ]
  },
  {
   "cell_type": "code",
   "execution_count": null,
   "metadata": {},
   "outputs": [],
   "source": [
    "transform_world_to_image_coordinate(image_wc,cam_token)"
   ]
  },
  {
   "cell_type": "code",
   "execution_count": null,
   "metadata": {},
   "outputs": [],
   "source": [
    "image_center"
   ]
  },
  {
   "cell_type": "markdown",
   "metadata": {},
   "source": [
    "## Dissect the steps"
   ]
  },
  {
   "cell_type": "code",
   "execution_count": null,
   "metadata": {},
   "outputs": [],
   "source": [
    "def normalization(input_array):\n",
    "    input_array[0:2,:]=input_array[0:2,:]*input_array[2:3,:].repeat(2,0).reshape(2,input_array.shape[1])\n",
    "    return input_array"
   ]
  },
  {
   "cell_type": "code",
   "execution_count": null,
   "metadata": {},
   "outputs": [],
   "source": [
    "image_array=np.copy(image_center)\n",
    "camera_token=cam_token"
   ]
  },
  {
   "cell_type": "code",
   "execution_count": null,
   "metadata": {},
   "outputs": [],
   "source": [
    "image_array=normalization(image_array)\n",
    "image_array=np.concatenate((image_array.ravel(),np.array([1])))\n",
    "image_array=image_array.reshape(4,1)"
   ]
  },
  {
   "cell_type": "code",
   "execution_count": null,
   "metadata": {},
   "outputs": [],
   "source": [
    "image_array"
   ]
  },
  {
   "cell_type": "code",
   "execution_count": null,
   "metadata": {},
   "outputs": [],
   "source": [
    "sd_record = level5data.get(\"sample_data\", camera_token)\n",
    "cs_record = level5data.get(\"calibrated_sensor\", sd_record[\"calibrated_sensor_token\"])\n",
    "sensor_record = level5data.get(\"sensor\", cs_record[\"sensor_token\"])\n",
    "pose_record = level5data.get(\"ego_pose\", sd_record[\"ego_pose_token\"])\n",
    "\n",
    "# inverse the viewpoint transformation\n",
    "\n",
    "\n",
    "cam_intrinsic_mtx = np.array(cs_record[\"camera_intrinsic\"])\n",
    "view=cam_intrinsic_mtx\n",
    "viewpad=np.eye(4)\n",
    "viewpad[: view.shape[0], : view.shape[1]] = view\n",
    "image_in_cam_coord = np.dot(np.linalg.inv(viewpad), image_array)\n",
    "\n",
    "print(\"image_in_cam_coord\",image_in_cam_coord)\n",
    "# TODO: think of how to do normalization properly\n",
    "# image_in_cam_coord = image_in_cam_coord / image_in_cam_coord[3:].ravel()\n",
    "\n",
    "# homogeneous coordinate to non-homogeneous one\n",
    "image_in_cam_coord = image_in_cam_coord[0:3, :]\n",
    "\n",
    "sens_to_pose_rot_mtx = Quaternion(cs_record['rotation']).rotation_matrix\n",
    "\n",
    "image_in_pose_coord = np.dot(sens_to_pose_rot_mtx, image_in_cam_coord)\n",
    "t = np.array(cs_record['translation'])\n",
    "for i in range(3):\n",
    "    image_in_pose_coord[i, :] = image_in_cam_coord[i, :] + t[i]\n",
    "    \n",
    "\n",
    "print(\"in pose record:\", image_in_pose_coord)\n",
    "\n",
    "pose_to_world_rot_mtx = Quaternion(pose_record['rotation']).rotation_matrix\n",
    "\n",
    "image_in_world_coord = np.dot(pose_to_world_rot_mtx,\n",
    "                              image_in_pose_coord)\n",
    "t = np.array(pose_record['translation'])\n",
    "for i in range(3):\n",
    "    image_in_world_coord[i, :] = image_in_world_coord[i, :] + t[i]"
   ]
  },
  {
   "cell_type": "code",
   "execution_count": null,
   "metadata": {},
   "outputs": [],
   "source": [
    "image_in_world_coord"
   ]
  },
  {
   "cell_type": "code",
   "execution_count": null,
   "metadata": {},
   "outputs": [],
   "source": [
    "transform_world_to_image_coordinate(image_in_world_coord,cam_token)"
   ]
  },
  {
   "cell_type": "code",
   "execution_count": null,
   "metadata": {},
   "outputs": [],
   "source": [
    "image_in_cam_coord[2:3,:].repeat(3,0).reshape(3,image_array.shape[1])"
   ]
  },
  {
   "cell_type": "code",
   "execution_count": null,
   "metadata": {},
   "outputs": [],
   "source": [
    "def project_image_to_rect(uv_depth):\n",
    "    ''' Input: nx3 first two channels are uv, 3rd channel\n",
    "               is depth in rect camera coord.\n",
    "        Output: nx3 points in rect camera coord.\n",
    "    '''\n",
    "    \n",
    "    n = uv_depth.shape[0]\n",
    "    x = ((uv_depth[:,0]-c_u)*uv_depth[:,2])/f_u + b_x\n",
    "    y = ((uv_depth[:,1]-c_v)*uv_depth[:,2])/f_v + b_y\n",
    "    pts_3d_rect = np.zeros((n,3))\n",
    "    pts_3d_rect[:,0] = x\n",
    "    pts_3d_rect[:,1] = y\n",
    "    pts_3d_rect[:,2] = uv_depth[:,2]\n",
    "    return pts_3d_rect"
   ]
  },
  {
   "cell_type": "markdown",
   "metadata": {},
   "source": [
    "## Only to camera coordinates"
   ]
  },
  {
   "cell_type": "code",
   "execution_count": null,
   "metadata": {},
   "outputs": [],
   "source": [
    "cam_intrinsic_mtx = np.array(cs_record[\"camera_intrinsic\"])\n",
    "view=cam_intrinsic_mtx\n",
    "viewpad=np.eye(4)\n",
    "viewpad[: view.shape[0], : view.shape[1]] = view\n",
    "image_in_cam_coord = np.dot(np.linalg.inv(viewpad), image_array)\n",
    "\n",
    "print(\"image_in_cam_coord\",image_in_cam_coord)"
   ]
  },
  {
   "cell_type": "code",
   "execution_count": null,
   "metadata": {},
   "outputs": [],
   "source": [
    "from lyft_dataset_sdk.utils.geometry_utils import view_points"
   ]
  },
  {
   "cell_type": "code",
   "execution_count": null,
   "metadata": {},
   "outputs": [],
   "source": [
    "view_points(image_in_cam_coord[0:3,:],view=cam_intrinsic_mtx,normalize=True)"
   ]
  },
  {
   "cell_type": "code",
   "execution_count": null,
   "metadata": {},
   "outputs": [],
   "source": []
  }
 ],
 "metadata": {
  "kernelspec": {
   "display_name": "Python 3",
   "language": "python",
   "name": "python3"
  },
  "language_info": {
   "codemirror_mode": {
    "name": "ipython",
    "version": 3
   },
   "file_extension": ".py",
   "mimetype": "text/x-python",
   "name": "python",
   "nbconvert_exporter": "python",
   "pygments_lexer": "ipython3",
   "version": "3.7.3"
  }
 },
 "nbformat": 4,
 "nbformat_minor": 2
}
